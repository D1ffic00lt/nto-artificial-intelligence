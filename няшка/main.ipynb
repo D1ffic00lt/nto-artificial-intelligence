{
 "cells": [
  {
   "cell_type": "code",
   "execution_count": 1,
   "metadata": {
    "collapsed": true,
    "pycharm": {
     "name": "#%%\n"
    }
   },
   "outputs": [],
   "source": [
    "import numpy as np\n",
    "import pandas as pd\n",
    "import roman as roman\n",
    "from sklearn.model_selection import train_test_split\n",
    "from sklearn.metrics import roc_auc_score, accuracy_score, roc_curve, auc\n",
    "from sklearn.ensemble import RandomForestClassifier, GradientBoostingClassifier\n",
    "from sklearn.preprocessing import LabelEncoder\n",
    "from xgboost import XGBClassifier, plot_importance\n",
    "import matplotlib.pyplot as plt\n",
    "import warnings\n",
    "import seaborn as sns\n",
    "from sklearn.neighbors import KNeighborsClassifier\n",
    "# from catboost import CatBoostClassifier\n",
    "# from hyperopt import STATUS_OK, Trials, fmin, hp, tpe\n",
    "from sklearn.model_selection import StratifiedKFold, RandomizedSearchCV, GridSearchCV\n",
    "import math\n",
    "import roman"
   ]
  },
  {
   "cell_type": "code",
   "execution_count": 45,
   "outputs": [],
   "source": [
    "warnings.filterwarnings(\"ignore\")"
   ],
   "metadata": {
    "collapsed": false,
    "pycharm": {
     "name": "#%%\n"
    }
   }
  },
  {
   "cell_type": "code",
   "execution_count": 356,
   "outputs": [],
   "source": [
    "data = pd.read_csv(\"train-2.csv\")"
   ],
   "metadata": {
    "collapsed": false,
    "pycharm": {
     "name": "#%%\n"
    }
   }
  },
  {
   "cell_type": "code",
   "execution_count": 357,
   "outputs": [],
   "source": [
    "answer = list(set(data[data.TargetClass == 0].SpType.unique()) & set(data[data.TargetClass == 1].SpType.unique()))"
   ],
   "metadata": {
    "collapsed": false,
    "pycharm": {
     "name": "#%%\n"
    }
   }
  },
  {
   "cell_type": "code",
   "execution_count": 358,
   "outputs": [
    {
     "data": {
      "text/plain": "['G8IV...',\n 'G4V:p',\n 'B7Ib',\n 'F3V:+...',\n 'G8III/IV',\n 'K0IV:',\n 'B2V+...',\n 'K7V',\n 'F9III',\n 'G7IV',\n 'K0:III+...',\n 'G3V',\n 'G3IV/V',\n 'K0VCN...',\n 'F0III:',\n 'B2IV-Ve',\n 'B1.5III-IVn',\n 'B3Vn...',\n 'A2II/III',\n 'K1/2III: +F',\n 'B0.5IVn',\n 'F0IIw...',\n 'G6IV',\n 'B7/B8II/III',\n 'B6II/III',\n 'F8III/IV',\n 'A2V+...',\n 'A4V comp SB',\n 'G9III-IV',\n 'K3V',\n 'O9.5Ia SB:',\n 'K3III+A0IV/V',\n 'F3IVp...',\n 'K1III-IV',\n 'G8IV',\n 'G9IV',\n 'B8Ia-Iab',\n 'B8II',\n 'K1IV/V',\n 'B3III',\n 'K0/K1IVwp..',\n 'A3II/IIIm..',\n 'A8III',\n 'G5III-IV',\n 'K1IVCN...',\n 'B2.5V',\n 'B9V+...',\n 'F0/F2IVm...',\n 'B6III',\n 'F4IIIvar',\n 'K0IV/VCNIII',\n 'G8/K0IV/V',\n 'B5Ia',\n 'B0Ib/II',\n 'B7Iab...',\n 'K3III',\n 'G6IV/V',\n 'G6V',\n 'A6III',\n 'A3II/III',\n 'A(V) + G5III',\n 'A4/A5III:',\n 'A2/A3III',\n 'A3III + K1:',\n 'B2III-IV',\n 'K1IV...',\n 'G6/G8III/IV',\n 'K0IVw...',\n 'G9V',\n 'B4II',\n 'G5V',\n 'B6/B7II',\n 'K1/K2V',\n 'A6:III:+...',\n 'K1IV',\n 'F6/F7V',\n 'K3IV/V',\n 'A3Vs',\n 'B7Ib/II',\n 'K2/K3V',\n 'B0IVpe',\n 'G8IVp',\n 'G3/G5Vw',\n 'B9:Vn...',\n 'B4II/III',\n 'G6/8wF8IV/V',\n 'G8V',\n 'B5Vn...',\n 'B7II',\n 'K0V',\n 'B9IIp...']"
     },
     "execution_count": 358,
     "metadata": {},
     "output_type": "execute_result"
    }
   ],
   "source": [
    "answer"
   ],
   "metadata": {
    "collapsed": false,
    "pycharm": {
     "name": "#%%\n"
    }
   }
  },
  {
   "cell_type": "code",
   "execution_count": 359,
   "outputs": [],
   "source": [
    "data = data[~data.SpType.isin(answer)]"
   ],
   "metadata": {
    "collapsed": false,
    "pycharm": {
     "name": "#%%\n"
    }
   }
  },
  {
   "cell_type": "code",
   "execution_count": 360,
   "outputs": [],
   "source": [
    "color_index = lambda x: 4600 * ((1 / (0.92 * x + 1.7)) + (1 / (0.92 * x + 0.62)))\n",
    "round_ = lambda x: round(x, 1)\n",
    "def transform_type2(x):\n",
    "    x1 = x\n",
    "    x1 = x1.replace('I', '')\n",
    "    x1 = x1.replace('V', '')\n",
    "    lst = list(set(x1))\n",
    "    for i in lst:\n",
    "        x = x.replace(i, ' ')\n",
    "    x = x.split()[-1]\n",
    "    return roman.fromRoman(x) * 1000\n",
    "transform_type = lambda x: 1 if \"V\" in x or \"VI\" in x or \"VII\" in x else -1\n",
    "# avag ="
   ],
   "metadata": {
    "collapsed": false,
    "pycharm": {
     "name": "#%%\n"
    }
   }
  },
  {
   "cell_type": "code",
   "execution_count": 361,
   "outputs": [],
   "source": [
    "Ms = 3.86 * 10 ** 33\n",
    "data[\"temp\"] = data[\"B-V\"].apply(color_index)\n",
    "data[\"R\"] = np.sqrt(data.Vmag) / np.power(data.temp / 5778, 2)\n",
    "data[\"M\"] = data.Vmag + 5 - (5 * np.log(data.Plx))\n",
    "data[\"L\"] = np.power(data.R, 2) * np.power(data.temp / 5778, 4)"
   ],
   "metadata": {
    "collapsed": false,
    "pycharm": {
     "name": "#%%\n"
    }
   }
  },
  {
   "cell_type": "code",
   "execution_count": 422,
   "outputs": [
    {
     "data": {
      "text/plain": "-14.678000816908899"
     },
     "execution_count": 422,
     "metadata": {},
     "output_type": "execute_result"
    }
   ],
   "source": [
    "data.M.min()"
   ],
   "metadata": {
    "collapsed": false,
    "pycharm": {
     "name": "#%%\n"
    }
   }
  },
  {
   "cell_type": "code",
   "execution_count": 362,
   "outputs": [
    {
     "data": {
      "text/plain": "       Vmag        Plx     e_Plx       B-V SpType       Amag  TargetClass  \\\n1  4.334196   2.198947  0.593309  1.153210   G2Ib  13.043324            0   \n2  7.873019  11.750465  0.616568  0.589166    F5V  17.736492            1   \n3  8.110014   2.143815  0.848508  1.322107  K2III  15.592469            0   \n4  8.025193   4.165622  0.899296  1.141646  K5III  16.379680            0   \n5  2.899130  11.110086  0.701719  1.095357  M0III  14.370388            0   \n\n          temp         R         M         L  \n1  4402.632871  3.585786  5.394303  4.334196  \n2  6010.288989  2.593194  0.553555  7.873019  \n3  4082.305608  5.704989  9.297079  8.110014  \n4  4426.508743  4.826810  5.890864  8.025193  \n5  4524.866088  2.776371 -4.140137  2.899130  ",
      "text/html": "<div>\n<style scoped>\n    .dataframe tbody tr th:only-of-type {\n        vertical-align: middle;\n    }\n\n    .dataframe tbody tr th {\n        vertical-align: top;\n    }\n\n    .dataframe thead th {\n        text-align: right;\n    }\n</style>\n<table border=\"1\" class=\"dataframe\">\n  <thead>\n    <tr style=\"text-align: right;\">\n      <th></th>\n      <th>Vmag</th>\n      <th>Plx</th>\n      <th>e_Plx</th>\n      <th>B-V</th>\n      <th>SpType</th>\n      <th>Amag</th>\n      <th>TargetClass</th>\n      <th>temp</th>\n      <th>R</th>\n      <th>M</th>\n      <th>L</th>\n    </tr>\n  </thead>\n  <tbody>\n    <tr>\n      <th>1</th>\n      <td>4.334196</td>\n      <td>2.198947</td>\n      <td>0.593309</td>\n      <td>1.153210</td>\n      <td>G2Ib</td>\n      <td>13.043324</td>\n      <td>0</td>\n      <td>4402.632871</td>\n      <td>3.585786</td>\n      <td>5.394303</td>\n      <td>4.334196</td>\n    </tr>\n    <tr>\n      <th>2</th>\n      <td>7.873019</td>\n      <td>11.750465</td>\n      <td>0.616568</td>\n      <td>0.589166</td>\n      <td>F5V</td>\n      <td>17.736492</td>\n      <td>1</td>\n      <td>6010.288989</td>\n      <td>2.593194</td>\n      <td>0.553555</td>\n      <td>7.873019</td>\n    </tr>\n    <tr>\n      <th>3</th>\n      <td>8.110014</td>\n      <td>2.143815</td>\n      <td>0.848508</td>\n      <td>1.322107</td>\n      <td>K2III</td>\n      <td>15.592469</td>\n      <td>0</td>\n      <td>4082.305608</td>\n      <td>5.704989</td>\n      <td>9.297079</td>\n      <td>8.110014</td>\n    </tr>\n    <tr>\n      <th>4</th>\n      <td>8.025193</td>\n      <td>4.165622</td>\n      <td>0.899296</td>\n      <td>1.141646</td>\n      <td>K5III</td>\n      <td>16.379680</td>\n      <td>0</td>\n      <td>4426.508743</td>\n      <td>4.826810</td>\n      <td>5.890864</td>\n      <td>8.025193</td>\n    </tr>\n    <tr>\n      <th>5</th>\n      <td>2.899130</td>\n      <td>11.110086</td>\n      <td>0.701719</td>\n      <td>1.095357</td>\n      <td>M0III</td>\n      <td>14.370388</td>\n      <td>0</td>\n      <td>4524.866088</td>\n      <td>2.776371</td>\n      <td>-4.140137</td>\n      <td>2.899130</td>\n    </tr>\n  </tbody>\n</table>\n</div>"
     },
     "execution_count": 362,
     "metadata": {},
     "output_type": "execute_result"
    }
   ],
   "source": [
    "data.head()"
   ],
   "metadata": {
    "collapsed": false,
    "pycharm": {
     "name": "#%%\n"
    }
   }
  },
  {
   "cell_type": "code",
   "execution_count": 363,
   "outputs": [],
   "source": [
    "# data[\"spt2\"] = data.SpType.apply(transform_type2)\n",
    "data.SpType = data.SpType.apply(transform_type)"
   ],
   "metadata": {
    "collapsed": false,
    "pycharm": {
     "name": "#%%\n"
    }
   }
  },
  {
   "cell_type": "code",
   "execution_count": 364,
   "outputs": [
    {
     "data": {
      "text/plain": "       Vmag        Plx     e_Plx       B-V  SpType       Amag  TargetClass  \\\n1  4.334196   2.198947  0.593309  1.153210      -1  13.043324            0   \n2  7.873019  11.750465  0.616568  0.589166       1  17.736492            1   \n3  8.110014   2.143815  0.848508  1.322107      -1  15.592469            0   \n4  8.025193   4.165622  0.899296  1.141646      -1  16.379680            0   \n5  2.899130  11.110086  0.701719  1.095357      -1  14.370388            0   \n\n          temp         R         M         L  \n1  4402.632871  3.585786  5.394303  4.334196  \n2  6010.288989  2.593194  0.553555  7.873019  \n3  4082.305608  5.704989  9.297079  8.110014  \n4  4426.508743  4.826810  5.890864  8.025193  \n5  4524.866088  2.776371 -4.140137  2.899130  ",
      "text/html": "<div>\n<style scoped>\n    .dataframe tbody tr th:only-of-type {\n        vertical-align: middle;\n    }\n\n    .dataframe tbody tr th {\n        vertical-align: top;\n    }\n\n    .dataframe thead th {\n        text-align: right;\n    }\n</style>\n<table border=\"1\" class=\"dataframe\">\n  <thead>\n    <tr style=\"text-align: right;\">\n      <th></th>\n      <th>Vmag</th>\n      <th>Plx</th>\n      <th>e_Plx</th>\n      <th>B-V</th>\n      <th>SpType</th>\n      <th>Amag</th>\n      <th>TargetClass</th>\n      <th>temp</th>\n      <th>R</th>\n      <th>M</th>\n      <th>L</th>\n    </tr>\n  </thead>\n  <tbody>\n    <tr>\n      <th>1</th>\n      <td>4.334196</td>\n      <td>2.198947</td>\n      <td>0.593309</td>\n      <td>1.153210</td>\n      <td>-1</td>\n      <td>13.043324</td>\n      <td>0</td>\n      <td>4402.632871</td>\n      <td>3.585786</td>\n      <td>5.394303</td>\n      <td>4.334196</td>\n    </tr>\n    <tr>\n      <th>2</th>\n      <td>7.873019</td>\n      <td>11.750465</td>\n      <td>0.616568</td>\n      <td>0.589166</td>\n      <td>1</td>\n      <td>17.736492</td>\n      <td>1</td>\n      <td>6010.288989</td>\n      <td>2.593194</td>\n      <td>0.553555</td>\n      <td>7.873019</td>\n    </tr>\n    <tr>\n      <th>3</th>\n      <td>8.110014</td>\n      <td>2.143815</td>\n      <td>0.848508</td>\n      <td>1.322107</td>\n      <td>-1</td>\n      <td>15.592469</td>\n      <td>0</td>\n      <td>4082.305608</td>\n      <td>5.704989</td>\n      <td>9.297079</td>\n      <td>8.110014</td>\n    </tr>\n    <tr>\n      <th>4</th>\n      <td>8.025193</td>\n      <td>4.165622</td>\n      <td>0.899296</td>\n      <td>1.141646</td>\n      <td>-1</td>\n      <td>16.379680</td>\n      <td>0</td>\n      <td>4426.508743</td>\n      <td>4.826810</td>\n      <td>5.890864</td>\n      <td>8.025193</td>\n    </tr>\n    <tr>\n      <th>5</th>\n      <td>2.899130</td>\n      <td>11.110086</td>\n      <td>0.701719</td>\n      <td>1.095357</td>\n      <td>-1</td>\n      <td>14.370388</td>\n      <td>0</td>\n      <td>4524.866088</td>\n      <td>2.776371</td>\n      <td>-4.140137</td>\n      <td>2.899130</td>\n    </tr>\n  </tbody>\n</table>\n</div>"
     },
     "execution_count": 364,
     "metadata": {},
     "output_type": "execute_result"
    }
   ],
   "source": [
    "data.head()"
   ],
   "metadata": {
    "collapsed": false,
    "pycharm": {
     "name": "#%%\n"
    }
   }
  },
  {
   "cell_type": "code",
   "execution_count": 365,
   "outputs": [],
   "source": [
    "data = data[data.Plx + data.e_Plx > 0]"
   ],
   "metadata": {
    "collapsed": false,
    "pycharm": {
     "name": "#%%\n"
    }
   }
  },
  {
   "cell_type": "code",
   "execution_count": 366,
   "outputs": [],
   "source": [
    "# plt.boxplot(data.Vmag)"
   ],
   "metadata": {
    "collapsed": false,
    "pycharm": {
     "name": "#%%\n"
    }
   }
  },
  {
   "cell_type": "code",
   "execution_count": 367,
   "outputs": [],
   "source": [
    "# data = data[(data.Vmag > 4) & (data.Vmag < 11)]"
   ],
   "metadata": {
    "collapsed": false,
    "pycharm": {
     "name": "#%%\n"
    }
   }
  },
  {
   "cell_type": "code",
   "execution_count": 368,
   "outputs": [],
   "source": [
    "# plt.boxplot(data[\"B-V\"])"
   ],
   "metadata": {
    "collapsed": false,
    "pycharm": {
     "name": "#%%\n"
    }
   }
  },
  {
   "cell_type": "code",
   "execution_count": 369,
   "outputs": [],
   "source": [
    "# data = data[data[\"B-V\"] < 23]"
   ],
   "metadata": {
    "collapsed": false,
    "pycharm": {
     "name": "#%%\n"
    }
   }
  },
  {
   "cell_type": "code",
   "execution_count": 370,
   "outputs": [],
   "source": [
    "# plt.boxplot(data.Amag)"
   ],
   "metadata": {
    "collapsed": false,
    "pycharm": {
     "name": "#%%\n"
    }
   }
  },
  {
   "cell_type": "code",
   "execution_count": 371,
   "outputs": [],
   "source": [
    "# data = data[(data.Amag < 22) & (data.Amag > 10)]"
   ],
   "metadata": {
    "collapsed": false,
    "pycharm": {
     "name": "#%%\n"
    }
   }
  },
  {
   "cell_type": "code",
   "execution_count": 372,
   "outputs": [],
   "source": [
    "# data.Amag = data.Amag.apply(round_)\n",
    "# data.Vmag = data.Vmag.apply(round_)\n",
    "# data.Plx = data.Plx.apply(round_)\n",
    "# data.e_Plx = data.e_Plx.apply(round_)\n",
    "# data[\"B-V\"] = data[\"B-V\"].apply(round_)\n",
    "# data.temp = data.temp.apply(round_)\n",
    "# model[\"BVtype\"] = round(model[\"B-V\"] * model.SpType)"
   ],
   "metadata": {
    "collapsed": false,
    "pycharm": {
     "name": "#%%\n"
    }
   }
  },
  {
   "cell_type": "code",
   "execution_count": 373,
   "outputs": [],
   "source": [
    "# data = data.drop( [\"e_Plx\"], axis=1)"
   ],
   "metadata": {
    "collapsed": false,
    "pycharm": {
     "name": "#%%\n"
    }
   }
  },
  {
   "cell_type": "code",
   "execution_count": 398,
   "outputs": [
    {
     "data": {
      "text/plain": "<Figure size 720x720 with 2 Axes>",
      "image/png": "[encoded data removed]"
     },
     "metadata": {
      "needs_background": "light"
     },
     "output_type": "display_data"
    }
   ],
   "source": [
    "y = data['TargetClass']\n",
    "# X = data.drop(columns=['TargetClass'])\n",
    "X = data[[\"temp\", \"Amag\", \"SpType\", \"R\"]]\n",
    "X_train, X_test, y_train, y_test = train_test_split(X, y, random_state=5, test_size=0.2)\n",
    "\n",
    "fig = plt.figure(figsize=(10, 10))\n",
    "X_test2 = X_test.copy()\n",
    "X_test2[\"result\"] = y_test\n",
    "data_ploting = X_test2.corr(method='pearson')\n",
    "sns.heatmap(data_ploting, linecolor='black')\n",
    "plt.show()"
   ],
   "metadata": {
    "collapsed": false,
    "pycharm": {
     "name": "#%%\n"
    }
   }
  },
  {
   "cell_type": "code",
   "execution_count": 399,
   "outputs": [
    {
     "data": {
      "text/plain": "       Vmag        Plx     e_Plx       B-V  SpType       Amag  TargetClass  \\\n1  4.334196   2.198947  0.593309  1.153210      -1  13.043324            0   \n2  7.873019  11.750465  0.616568  0.589166       1  17.736492            1   \n3  8.110014   2.143815  0.848508  1.322107      -1  15.592469            0   \n4  8.025193   4.165622  0.899296  1.141646      -1  16.379680            0   \n5  2.899130  11.110086  0.701719  1.095357      -1  14.370388            0   \n\n          temp         R         M         L  \n1  4402.632871  3.585786  5.394303  4.334196  \n2  6010.288989  2.593194  0.553555  7.873019  \n3  4082.305608  5.704989  9.297079  8.110014  \n4  4426.508743  4.826810  5.890864  8.025193  \n5  4524.866088  2.776371 -4.140137  2.899130  ",
      "text/html": "<div>\n<style scoped>\n    .dataframe tbody tr th:only-of-type {\n        vertical-align: middle;\n    }\n\n    .dataframe tbody tr th {\n        vertical-align: top;\n    }\n\n    .dataframe thead th {\n        text-align: right;\n    }\n</style>\n<table border=\"1\" class=\"dataframe\">\n  <thead>\n    <tr style=\"text-align: right;\">\n      <th></th>\n      <th>Vmag</th>\n      <th>Plx</th>\n      <th>e_Plx</th>\n      <th>B-V</th>\n      <th>SpType</th>\n      <th>Amag</th>\n      <th>TargetClass</th>\n      <th>temp</th>\n      <th>R</th>\n      <th>M</th>\n      <th>L</th>\n    </tr>\n  </thead>\n  <tbody>\n    <tr>\n      <th>1</th>\n      <td>4.334196</td>\n      <td>2.198947</td>\n      <td>0.593309</td>\n      <td>1.153210</td>\n      <td>-1</td>\n      <td>13.043324</td>\n      <td>0</td>\n      <td>4402.632871</td>\n      <td>3.585786</td>\n      <td>5.394303</td>\n      <td>4.334196</td>\n    </tr>\n    <tr>\n      <th>2</th>\n      <td>7.873019</td>\n      <td>11.750465</td>\n      <td>0.616568</td>\n      <td>0.589166</td>\n      <td>1</td>\n      <td>17.736492</td>\n      <td>1</td>\n      <td>6010.288989</td>\n      <td>2.593194</td>\n      <td>0.553555</td>\n      <td>7.873019</td>\n    </tr>\n    <tr>\n      <th>3</th>\n      <td>8.110014</td>\n      <td>2.143815</td>\n      <td>0.848508</td>\n      <td>1.322107</td>\n      <td>-1</td>\n      <td>15.592469</td>\n      <td>0</td>\n      <td>4082.305608</td>\n      <td>5.704989</td>\n      <td>9.297079</td>\n      <td>8.110014</td>\n    </tr>\n    <tr>\n      <th>4</th>\n      <td>8.025193</td>\n      <td>4.165622</td>\n      <td>0.899296</td>\n      <td>1.141646</td>\n      <td>-1</td>\n      <td>16.379680</td>\n      <td>0</td>\n      <td>4426.508743</td>\n      <td>4.826810</td>\n      <td>5.890864</td>\n      <td>8.025193</td>\n    </tr>\n    <tr>\n      <th>5</th>\n      <td>2.899130</td>\n      <td>11.110086</td>\n      <td>0.701719</td>\n      <td>1.095357</td>\n      <td>-1</td>\n      <td>14.370388</td>\n      <td>0</td>\n      <td>4524.866088</td>\n      <td>2.776371</td>\n      <td>-4.140137</td>\n      <td>2.899130</td>\n    </tr>\n  </tbody>\n</table>\n</div>"
     },
     "execution_count": 399,
     "metadata": {},
     "output_type": "execute_result"
    }
   ],
   "source": [
    "data.head()"
   ],
   "metadata": {
    "collapsed": false,
    "pycharm": {
     "name": "#%%\n"
    }
   }
  },
  {
   "cell_type": "code",
   "execution_count": 400,
   "outputs": [
    {
     "name": "stdout",
     "output_type": "stream",
     "text": [
      "CPU times: user 3.87 s, sys: 1.82 s, total: 5.69 s\n",
      "Wall time: 1.07 s\n"
     ]
    },
    {
     "data": {
      "text/plain": "XGBClassifier(base_score=0.5, booster='gbtree', callbacks=None,\n              colsample_bylevel=1, colsample_bynode=1, colsample_bytree=0.8,\n              early_stopping_rounds=None, enable_categorical=False,\n              eval_metric=None, gamma=1, gpu_id=-1, grow_policy='depthwise',\n              importance_type=None, interaction_constraints='',\n              learning_rate=0.300000012, max_bin=256, max_cat_to_onehot=4,\n              max_delta_step=0, max_depth=14, max_leaves=0, min_child_weight=1,\n              missing=nan, monotone_constraints='()', n_estimators=100,\n              n_jobs=0, num_parallel_tree=1, predictor='auto', random_state=0,\n              reg_alpha=0, reg_lambda=1, ...)"
     },
     "execution_count": 400,
     "metadata": {},
     "output_type": "execute_result"
    }
   ],
   "source": [
    "%%time\n",
    "xgb = XGBClassifier(subsample=0.8,\n",
    "                    min_child_weight=1,\n",
    "                    max_depth=14,\n",
    "                    gamma=1,\n",
    "                    colsample_bytree=0.8)\n",
    "xgb.fit(X, y)"
   ],
   "metadata": {
    "collapsed": false,
    "pycharm": {
     "name": "#%%\n"
    }
   }
  },
  {
   "cell_type": "code",
   "execution_count": 401,
   "outputs": [],
   "source": [
    "pred = xgb.predict(X_test)"
   ],
   "metadata": {
    "collapsed": false,
    "pycharm": {
     "name": "#%%\n"
    }
   }
  },
  {
   "cell_type": "code",
   "execution_count": 402,
   "outputs": [
    {
     "data": {
      "text/plain": "0.999801429706116"
     },
     "execution_count": 402,
     "metadata": {},
     "output_type": "execute_result"
    }
   ],
   "source": [
    "roc_auc_score(y_test, pred)"
   ],
   "metadata": {
    "collapsed": false,
    "pycharm": {
     "name": "#%%\n"
    }
   }
  },
  {
   "cell_type": "code",
   "execution_count": 403,
   "outputs": [],
   "source": [
    "def check(M):\n",
    "    if M > 0:\n",
    "        return 1\n",
    "    else:\n",
    "        return 0\n"
   ],
   "metadata": {
    "collapsed": false,
    "pycharm": {
     "name": "#%%\n"
    }
   }
  },
  {
   "cell_type": "code",
   "execution_count": 404,
   "outputs": [],
   "source": [
    "data_ = pd.read_csv(\"predict.csv\")"
   ],
   "metadata": {
    "collapsed": false,
    "pycharm": {
     "name": "#%%\n"
    }
   }
  },
  {
   "cell_type": "code",
   "execution_count": 405,
   "outputs": [],
   "source": [
    "data_test = data_.copy()"
   ],
   "metadata": {
    "collapsed": false,
    "pycharm": {
     "name": "#%%\n"
    }
   }
  },
  {
   "cell_type": "code",
   "execution_count": 406,
   "outputs": [],
   "source": [
    "Ms = 3.86 * 10 ** 33\n",
    "data_test[\"temp\"] = data_test[\"B-V\"].apply(color_index)\n",
    "data_test[\"R\"] = np.sqrt(data_test.Vmag) / np.power(data_test.temp / 5778, 2)\n",
    "data_test[\"M\"] = data_test.Vmag + 5 - (5 * np.log(data_test.Plx))\n",
    "data_test[\"L\"] = np.power(data_test.R, 2) * np.power(data_test.temp / 5778, 4)"
   ],
   "metadata": {
    "collapsed": false,
    "pycharm": {
     "name": "#%%\n"
    }
   }
  },
  {
   "cell_type": "code",
   "execution_count": 407,
   "outputs": [
    {
     "data": {
      "text/plain": "False"
     },
     "execution_count": 407,
     "metadata": {},
     "output_type": "execute_result"
    }
   ],
   "source": [
    "list(data.columns) == list(data_test.columns)"
   ],
   "metadata": {
    "collapsed": false,
    "pycharm": {
     "name": "#%%\n"
    }
   }
  },
  {
   "cell_type": "code",
   "execution_count": 408,
   "outputs": [
    {
     "data": {
      "text/plain": "Index(['Vmag', 'Plx', 'e_Plx', 'B-V', 'SpType', 'Amag', 'TargetClass', 'temp',\n       'R', 'M', 'L'],\n      dtype='object')"
     },
     "execution_count": 408,
     "metadata": {},
     "output_type": "execute_result"
    }
   ],
   "source": [
    "data.columns"
   ],
   "metadata": {
    "collapsed": false,
    "pycharm": {
     "name": "#%%\n"
    }
   }
  },
  {
   "cell_type": "code",
   "execution_count": 409,
   "outputs": [
    {
     "data": {
      "text/plain": "Index(['Vmag', 'Plx', 'e_Plx', 'B-V', 'SpType', 'Amag', 'temp', 'R', 'M', 'L'], dtype='object')"
     },
     "execution_count": 409,
     "metadata": {},
     "output_type": "execute_result"
    }
   ],
   "source": [
    "data_test.columns"
   ],
   "metadata": {
    "collapsed": false,
    "pycharm": {
     "name": "#%%\n"
    }
   }
  },
  {
   "cell_type": "code",
   "execution_count": 410,
   "outputs": [
    {
     "data": {
      "text/plain": "       Vmag        Plx     e_Plx       B-V       SpType       Amag  \\\n0  4.039519  13.596504  0.845101 -0.097823      F5V+...  15.774122   \n1  6.655719   4.010332  1.050017  1.386670        K5III  15.344976   \n2  6.405060   0.348855  0.961598  0.951503       B0IVpe  12.236103   \n3  9.113068   2.954461  1.251422  1.002819        K1III  15.560838   \n4  6.107686   3.144180  0.475795  0.493345  G8II-IIIvar  12.771981   \n\n           temp         R          M         L  \n0  11536.343340  0.504178  -4.009545  4.039519  \n1   3972.332732  5.458349   4.711348  6.655719  \n2   4862.277063  3.573858  16.670551  6.405060  \n3   4735.981168  4.493321   8.696487  9.113068  \n4   6419.225528  2.002295   5.379920  6.107686  ",
      "text/html": "<div>\n<style scoped>\n    .dataframe tbody tr th:only-of-type {\n        vertical-align: middle;\n    }\n\n    .dataframe tbody tr th {\n        vertical-align: top;\n    }\n\n    .dataframe thead th {\n        text-align: right;\n    }\n</style>\n<table border=\"1\" class=\"dataframe\">\n  <thead>\n    <tr style=\"text-align: right;\">\n      <th></th>\n      <th>Vmag</th>\n      <th>Plx</th>\n      <th>e_Plx</th>\n      <th>B-V</th>\n      <th>SpType</th>\n      <th>Amag</th>\n      <th>temp</th>\n      <th>R</th>\n      <th>M</th>\n      <th>L</th>\n    </tr>\n  </thead>\n  <tbody>\n    <tr>\n      <th>0</th>\n      <td>4.039519</td>\n      <td>13.596504</td>\n      <td>0.845101</td>\n      <td>-0.097823</td>\n      <td>F5V+...</td>\n      <td>15.774122</td>\n      <td>11536.343340</td>\n      <td>0.504178</td>\n      <td>-4.009545</td>\n      <td>4.039519</td>\n    </tr>\n    <tr>\n      <th>1</th>\n      <td>6.655719</td>\n      <td>4.010332</td>\n      <td>1.050017</td>\n      <td>1.386670</td>\n      <td>K5III</td>\n      <td>15.344976</td>\n      <td>3972.332732</td>\n      <td>5.458349</td>\n      <td>4.711348</td>\n      <td>6.655719</td>\n    </tr>\n    <tr>\n      <th>2</th>\n      <td>6.405060</td>\n      <td>0.348855</td>\n      <td>0.961598</td>\n      <td>0.951503</td>\n      <td>B0IVpe</td>\n      <td>12.236103</td>\n      <td>4862.277063</td>\n      <td>3.573858</td>\n      <td>16.670551</td>\n      <td>6.405060</td>\n    </tr>\n    <tr>\n      <th>3</th>\n      <td>9.113068</td>\n      <td>2.954461</td>\n      <td>1.251422</td>\n      <td>1.002819</td>\n      <td>K1III</td>\n      <td>15.560838</td>\n      <td>4735.981168</td>\n      <td>4.493321</td>\n      <td>8.696487</td>\n      <td>9.113068</td>\n    </tr>\n    <tr>\n      <th>4</th>\n      <td>6.107686</td>\n      <td>3.144180</td>\n      <td>0.475795</td>\n      <td>0.493345</td>\n      <td>G8II-IIIvar</td>\n      <td>12.771981</td>\n      <td>6419.225528</td>\n      <td>2.002295</td>\n      <td>5.379920</td>\n      <td>6.107686</td>\n    </tr>\n  </tbody>\n</table>\n</div>"
     },
     "execution_count": 410,
     "metadata": {},
     "output_type": "execute_result"
    }
   ],
   "source": [
    "data_test.head()"
   ],
   "metadata": {
    "collapsed": false,
    "pycharm": {
     "name": "#%%\n"
    }
   }
  },
  {
   "cell_type": "code",
   "execution_count": 411,
   "outputs": [],
   "source": [
    "data_test.SpType = data_test.SpType.apply(transform_type)"
   ],
   "metadata": {
    "collapsed": false,
    "pycharm": {
     "name": "#%%\n"
    }
   }
  },
  {
   "cell_type": "code",
   "execution_count": 414,
   "outputs": [],
   "source": [
    "pred = xgb.predict(data_test[[\"temp\", \"Amag\", \"SpType\", \"R\"]].values)"
   ],
   "metadata": {
    "collapsed": false,
    "pycharm": {
     "name": "#%%\n"
    }
   }
  },
  {
   "cell_type": "code",
   "execution_count": 415,
   "outputs": [],
   "source": [
    "# pred =[check(i) for i in data_test.M]"
   ],
   "metadata": {
    "collapsed": false,
    "pycharm": {
     "name": "#%%\n"
    }
   }
  },
  {
   "cell_type": "code",
   "execution_count": 416,
   "outputs": [],
   "source": [
    "data_[\"TargetClass\"] = pred"
   ],
   "metadata": {
    "collapsed": false,
    "pycharm": {
     "name": "#%%\n"
    }
   }
  },
  {
   "cell_type": "code",
   "execution_count": 417,
   "outputs": [
    {
     "data": {
      "text/plain": "          Vmag        Plx     e_Plx       B-V       SpType       Amag  \\\n0     4.039519  13.596504  0.845101 -0.097823      F5V+...  15.774122   \n1     6.655719   4.010332  1.050017  1.386670        K5III  15.344976   \n2     6.405060   0.348855  0.961598  0.951503       B0IVpe  12.236103   \n3     9.113068   2.954461  1.251422  1.002819        K1III  15.560838   \n4     6.107686   3.144180  0.475795  0.493345  G8II-IIIvar  12.771981   \n...        ...        ...       ...       ...          ...        ...   \n7906  8.255272   2.858885  0.822289  1.349195        M3III  16.438014   \n7907  6.255358   3.034436  0.449386  0.966053        K0III  13.898403   \n7908  8.643598  10.932145  0.947897  0.504383          G0V  18.980729   \n7909  9.400810   6.279361  1.332124  0.351073          F2V  16.872491   \n7910  8.792551   2.379289  1.451311  1.110596        K1III  15.737505   \n\n      TargetClass  \n0               1  \n1               0  \n2               1  \n3               0  \n4               0  \n...           ...  \n7906            0  \n7907            0  \n7908            1  \n7909            1  \n7910            0  \n\n[7911 rows x 7 columns]",
      "text/html": "<div>\n<style scoped>\n    .dataframe tbody tr th:only-of-type {\n        vertical-align: middle;\n    }\n\n    .dataframe tbody tr th {\n        vertical-align: top;\n    }\n\n    .dataframe thead th {\n        text-align: right;\n    }\n</style>\n<table border=\"1\" class=\"dataframe\">\n  <thead>\n    <tr style=\"text-align: right;\">\n      <th></th>\n      <th>Vmag</th>\n      <th>Plx</th>\n      <th>e_Plx</th>\n      <th>B-V</th>\n      <th>SpType</th>\n      <th>Amag</th>\n      <th>TargetClass</th>\n    </tr>\n  </thead>\n  <tbody>\n    <tr>\n      <th>0</th>\n      <td>4.039519</td>\n      <td>13.596504</td>\n      <td>0.845101</td>\n      <td>-0.097823</td>\n      <td>F5V+...</td>\n      <td>15.774122</td>\n      <td>1</td>\n    </tr>\n    <tr>\n      <th>1</th>\n      <td>6.655719</td>\n      <td>4.010332</td>\n      <td>1.050017</td>\n      <td>1.386670</td>\n      <td>K5III</td>\n      <td>15.344976</td>\n      <td>0</td>\n    </tr>\n    <tr>\n      <th>2</th>\n      <td>6.405060</td>\n      <td>0.348855</td>\n      <td>0.961598</td>\n      <td>0.951503</td>\n      <td>B0IVpe</td>\n      <td>12.236103</td>\n      <td>1</td>\n    </tr>\n    <tr>\n      <th>3</th>\n      <td>9.113068</td>\n      <td>2.954461</td>\n      <td>1.251422</td>\n      <td>1.002819</td>\n      <td>K1III</td>\n      <td>15.560838</td>\n      <td>0</td>\n    </tr>\n    <tr>\n      <th>4</th>\n      <td>6.107686</td>\n      <td>3.144180</td>\n      <td>0.475795</td>\n      <td>0.493345</td>\n      <td>G8II-IIIvar</td>\n      <td>12.771981</td>\n      <td>0</td>\n    </tr>\n    <tr>\n      <th>...</th>\n      <td>...</td>\n      <td>...</td>\n      <td>...</td>\n      <td>...</td>\n      <td>...</td>\n      <td>...</td>\n      <td>...</td>\n    </tr>\n    <tr>\n      <th>7906</th>\n      <td>8.255272</td>\n      <td>2.858885</td>\n      <td>0.822289</td>\n      <td>1.349195</td>\n      <td>M3III</td>\n      <td>16.438014</td>\n      <td>0</td>\n    </tr>\n    <tr>\n      <th>7907</th>\n      <td>6.255358</td>\n      <td>3.034436</td>\n      <td>0.449386</td>\n      <td>0.966053</td>\n      <td>K0III</td>\n      <td>13.898403</td>\n      <td>0</td>\n    </tr>\n    <tr>\n      <th>7908</th>\n      <td>8.643598</td>\n      <td>10.932145</td>\n      <td>0.947897</td>\n      <td>0.504383</td>\n      <td>G0V</td>\n      <td>18.980729</td>\n      <td>1</td>\n    </tr>\n    <tr>\n      <th>7909</th>\n      <td>9.400810</td>\n      <td>6.279361</td>\n      <td>1.332124</td>\n      <td>0.351073</td>\n      <td>F2V</td>\n      <td>16.872491</td>\n      <td>1</td>\n    </tr>\n    <tr>\n      <th>7910</th>\n      <td>8.792551</td>\n      <td>2.379289</td>\n      <td>1.451311</td>\n      <td>1.110596</td>\n      <td>K1III</td>\n      <td>15.737505</td>\n      <td>0</td>\n    </tr>\n  </tbody>\n</table>\n<p>7911 rows × 7 columns</p>\n</div>"
     },
     "execution_count": 417,
     "metadata": {},
     "output_type": "execute_result"
    }
   ],
   "source": [
    "data_"
   ],
   "metadata": {
    "collapsed": false,
    "pycharm": {
     "name": "#%%\n"
    }
   }
  },
  {
   "cell_type": "code",
   "execution_count": 418,
   "outputs": [],
   "source": [
    "data_.to_csv(\"answer.csv\")"
   ],
   "metadata": {
    "collapsed": false,
    "pycharm": {
     "name": "#%%\n"
    }
   }
  },
  {
   "cell_type": "code",
   "execution_count": null,
   "outputs": [],
   "source": [],
   "metadata": {
    "collapsed": false,
    "pycharm": {
     "name": "#%%\n"
    }
   }
  },
  {
   "cell_type": "code",
   "execution_count": null,
   "outputs": [],
   "source": [],
   "metadata": {
    "collapsed": false,
    "pycharm": {
     "name": "#%%\n"
    }
   }
  }
 ],
 "metadata": {
  "kernelspec": {
   "display_name": "Python 3",
   "language": "python",
   "name": "python3"
  },
  "language_info": {
   "codemirror_mode": {
    "name": "ipython",
    "version": 2
   },
   "file_extension": ".py",
   "mimetype": "text/x-python",
   "name": "python",
   "nbconvert_exporter": "python",
   "pygments_lexer": "ipython2",
   "version": "2.7.6"
  }
 },
 "nbformat": 4,
 "nbformat_minor": 0
}