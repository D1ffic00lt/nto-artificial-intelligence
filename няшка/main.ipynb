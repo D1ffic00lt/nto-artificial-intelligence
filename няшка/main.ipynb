{
 "cells": [
  {
   "cell_type": "code",
   "execution_count": 41,
   "metadata": {
    "collapsed": true
   },
   "outputs": [],
   "source": [
    "import numpy as np\n",
    "import pandas as pd\n",
    "from sklearn.model_selection import train_test_split\n",
    "from sklearn.metrics import roc_auc_score, accuracy_score, roc_curve, auc\n",
    "from sklearn.ensemble import RandomForestClassifier, GradientBoostingClassifier\n",
    "from sklearn.preprocessing import LabelEncoder\n",
    "from xgboost import XGBClassifier, plot_importance\n",
    "import matplotlib.pyplot as plt\n",
    "import warnings\n",
    "import seaborn as sns\n",
    "from sklearn.neighbors import KNeighborsClassifier\n",
    "from catboost import CatBoostClassifier\n",
    "from hyperopt import STATUS_OK, Trials, fmin, hp, tpe\n",
    "import math"
   ]
  },
  {
   "cell_type": "code",
   "execution_count": 42,
   "outputs": [],
   "source": [
    "warnings.filterwarnings(\"ignore\")"
   ],
   "metadata": {
    "collapsed": false,
    "pycharm": {
     "name": "#%%\n"
    }
   }
  },
  {
   "cell_type": "code",
   "execution_count": 60,
   "outputs": [],
   "source": [
    "data = pd.read_csv(\"train-2.csv\")"
   ],
   "metadata": {
    "collapsed": false,
    "pycharm": {
     "name": "#%%\n"
    }
   }
  },
  {
   "cell_type": "code",
   "execution_count": 61,
   "outputs": [
    {
     "data": {
      "text/plain": "31641"
     },
     "execution_count": 61,
     "metadata": {},
     "output_type": "execute_result"
    }
   ],
   "source": [
    "len(data)"
   ],
   "metadata": {
    "collapsed": false,
    "pycharm": {
     "name": "#%%\n"
    }
   }
  },
  {
   "cell_type": "code",
   "execution_count": 62,
   "outputs": [
    {
     "data": {
      "text/plain": "1145"
     },
     "execution_count": 62,
     "metadata": {},
     "output_type": "execute_result"
    }
   ],
   "source": [
    "len(data.loc[data.Plx < 0])"
   ],
   "metadata": {
    "collapsed": false,
    "pycharm": {
     "name": "#%%\n"
    }
   }
  },
  {
   "cell_type": "code",
   "execution_count": 63,
   "outputs": [],
   "source": [
    "labels = {i[1]: i[0] for i in enumerate(data.SpType.unique())}"
   ],
   "metadata": {
    "collapsed": false,
    "pycharm": {
     "name": "#%%\n"
    }
   }
  },
  {
   "cell_type": "code",
   "execution_count": 64,
   "outputs": [
    {
     "data": {
      "text/plain": "1842"
     },
     "execution_count": 64,
     "metadata": {},
     "output_type": "execute_result"
    }
   ],
   "source": [
    "(len(labels))"
   ],
   "metadata": {
    "collapsed": false,
    "pycharm": {
     "name": "#%%\n"
    }
   }
  },
  {
   "cell_type": "code",
   "execution_count": 65,
   "outputs": [
    {
     "data": {
      "text/plain": "1842"
     },
     "execution_count": 65,
     "metadata": {},
     "output_type": "execute_result"
    }
   ],
   "source": [
    "data.SpType.nunique()"
   ],
   "metadata": {
    "collapsed": false,
    "pycharm": {
     "name": "#%%\n"
    }
   }
  },
  {
   "cell_type": "markdown",
   "source": [],
   "metadata": {
    "collapsed": false
   }
  },
  {
   "cell_type": "code",
   "execution_count": 66,
   "outputs": [],
   "source": [
    "data.SpType = data.SpType.apply(lambda x: labels[x])"
   ],
   "metadata": {
    "collapsed": false,
    "pycharm": {
     "name": "#%%\n"
    }
   }
  },
  {
   "cell_type": "code",
   "execution_count": 67,
   "outputs": [
    {
     "data": {
      "text/plain": "           Vmag        Plx     e_Plx       B-V  SpType       Amag  TargetClass\n0      6.901420  24.569658  0.862829  0.737416       0  20.449126            1\n1      4.334196   2.198947  0.593309  1.153210       1  13.043324            0\n2      7.873019  11.750465  0.616568  0.589166       2  17.736492            1\n3      8.110014   2.143815  0.848508  1.322107       3  15.592469            0\n4      8.025193   4.165622  0.899296  1.141646       4  16.379680            0\n...         ...        ...       ...       ...     ...        ...          ...\n31636  7.561113   0.692340  0.843319  0.252874     192  12.542120            0\n31637  8.078011   3.002784  0.689891  0.971966       9  15.379710            0\n31638  7.065964   7.820498  0.885794  0.435381     190  16.737442            1\n31639  8.685452   2.643033  1.064647  0.988600      14  14.859882            0\n31640  8.612488  19.959947  0.771636  0.611390      24  20.814352            1\n\n[31641 rows x 7 columns]",
      "text/html": "<div>\n<style scoped>\n    .dataframe tbody tr th:only-of-type {\n        vertical-align: middle;\n    }\n\n    .dataframe tbody tr th {\n        vertical-align: top;\n    }\n\n    .dataframe thead th {\n        text-align: right;\n    }\n</style>\n<table border=\"1\" class=\"dataframe\">\n  <thead>\n    <tr style=\"text-align: right;\">\n      <th></th>\n      <th>Vmag</th>\n      <th>Plx</th>\n      <th>e_Plx</th>\n      <th>B-V</th>\n      <th>SpType</th>\n      <th>Amag</th>\n      <th>TargetClass</th>\n    </tr>\n  </thead>\n  <tbody>\n    <tr>\n      <th>0</th>\n      <td>6.901420</td>\n      <td>24.569658</td>\n      <td>0.862829</td>\n      <td>0.737416</td>\n      <td>0</td>\n      <td>20.449126</td>\n      <td>1</td>\n    </tr>\n    <tr>\n      <th>1</th>\n      <td>4.334196</td>\n      <td>2.198947</td>\n      <td>0.593309</td>\n      <td>1.153210</td>\n      <td>1</td>\n      <td>13.043324</td>\n      <td>0</td>\n    </tr>\n    <tr>\n      <th>2</th>\n      <td>7.873019</td>\n      <td>11.750465</td>\n      <td>0.616568</td>\n      <td>0.589166</td>\n      <td>2</td>\n      <td>17.736492</td>\n      <td>1</td>\n    </tr>\n    <tr>\n      <th>3</th>\n      <td>8.110014</td>\n      <td>2.143815</td>\n      <td>0.848508</td>\n      <td>1.322107</td>\n      <td>3</td>\n      <td>15.592469</td>\n      <td>0</td>\n    </tr>\n    <tr>\n      <th>4</th>\n      <td>8.025193</td>\n      <td>4.165622</td>\n      <td>0.899296</td>\n      <td>1.141646</td>\n      <td>4</td>\n      <td>16.379680</td>\n      <td>0</td>\n    </tr>\n    <tr>\n      <th>...</th>\n      <td>...</td>\n      <td>...</td>\n      <td>...</td>\n      <td>...</td>\n      <td>...</td>\n      <td>...</td>\n      <td>...</td>\n    </tr>\n    <tr>\n      <th>31636</th>\n      <td>7.561113</td>\n      <td>0.692340</td>\n      <td>0.843319</td>\n      <td>0.252874</td>\n      <td>192</td>\n      <td>12.542120</td>\n      <td>0</td>\n    </tr>\n    <tr>\n      <th>31637</th>\n      <td>8.078011</td>\n      <td>3.002784</td>\n      <td>0.689891</td>\n      <td>0.971966</td>\n      <td>9</td>\n      <td>15.379710</td>\n      <td>0</td>\n    </tr>\n    <tr>\n      <th>31638</th>\n      <td>7.065964</td>\n      <td>7.820498</td>\n      <td>0.885794</td>\n      <td>0.435381</td>\n      <td>190</td>\n      <td>16.737442</td>\n      <td>1</td>\n    </tr>\n    <tr>\n      <th>31639</th>\n      <td>8.685452</td>\n      <td>2.643033</td>\n      <td>1.064647</td>\n      <td>0.988600</td>\n      <td>14</td>\n      <td>14.859882</td>\n      <td>0</td>\n    </tr>\n    <tr>\n      <th>31640</th>\n      <td>8.612488</td>\n      <td>19.959947</td>\n      <td>0.771636</td>\n      <td>0.611390</td>\n      <td>24</td>\n      <td>20.814352</td>\n      <td>1</td>\n    </tr>\n  </tbody>\n</table>\n<p>31641 rows × 7 columns</p>\n</div>"
     },
     "execution_count": 67,
     "metadata": {},
     "output_type": "execute_result"
    }
   ],
   "source": [
    "data"
   ],
   "metadata": {
    "collapsed": false,
    "pycharm": {
     "name": "#%%\n"
    }
   }
  },
  {
   "cell_type": "code",
   "execution_count": 68,
   "outputs": [],
   "source": [
    "data.Amag = data.Amag.apply(lambda x: math.ceil(x))\n",
    "data.Vmag = data.Vmag.apply(lambda x: math.ceil(x))\n",
    "data.Plx = data.Plx.apply(lambda x: math.ceil(x))\n",
    "data.e_Plx = data.e_Plx.apply(lambda x: math.ceil(x))\n",
    "data[\"B-V\"] = data[\"B-V\"].apply(lambda x: math.ceil(x))"
   ],
   "metadata": {
    "collapsed": false,
    "pycharm": {
     "name": "#%%\n"
    }
   }
  },
  {
   "cell_type": "code",
   "source": [
    "data[\"b-v2\"] = data[\"B-V\"] * 2"
   ],
   "metadata": {
    "collapsed": false,
    "pycharm": {
     "name": "#%%\n"
    }
   },
   "execution_count": 69,
   "outputs": []
  },
  {
   "cell_type": "code",
   "execution_count": 70,
   "outputs": [],
   "source": [
    "data = data.drop([\"e_Plx\", \"Plx\", \"Vmag\", \"Amag\"], axis=1)"
   ],
   "metadata": {
    "collapsed": false,
    "pycharm": {
     "name": "#%%\n"
    }
   }
  },
  {
   "cell_type": "code",
   "execution_count": 70,
   "outputs": [],
   "source": [],
   "metadata": {
    "collapsed": false,
    "pycharm": {
     "name": "#%%\n"
    }
   }
  },
  {
   "cell_type": "code",
   "execution_count": 71,
   "outputs": [],
   "source": [
    "y = data['TargetClass']\n",
    "X = data.drop(columns=['TargetClass'])\n",
    "\n",
    "X_train, X_test, y_train, y_test = train_test_split(X, y, random_state = 42, test_size = 0.3)"
   ],
   "metadata": {
    "collapsed": false,
    "pycharm": {
     "name": "#%%\n"
    }
   }
  },
  {
   "cell_type": "code",
   "execution_count": 72,
   "outputs": [
    {
     "data": {
      "text/plain": "<Figure size 720x720 with 2 Axes>",
      "image/png": "[encoded data removed]"
     },
     "metadata": {
      "needs_background": "light"
     },
     "output_type": "display_data"
    }
   ],
   "source": [
    "fig = plt.figure(figsize = (10, 10))\n",
    "X_test2 = X_test\n",
    "X_test2[\"result\"] = y_test\n",
    "data_ploting = X_test2.corr(method= 'pearson')\n",
    "sns.heatmap(data_ploting, linecolor='black')\n",
    "plt.show()"
   ],
   "metadata": {
    "collapsed": false,
    "pycharm": {
     "name": "#%%\n"
    }
   }
  },
  {
   "cell_type": "code",
   "execution_count": 73,
   "outputs": [
    {
     "name": "stdout",
     "output_type": "stream",
     "text": [
      "CPU times: user 5.1 s, sys: 1.99 s, total: 7.09 s\n",
      "Wall time: 1.39 s\n"
     ]
    },
    {
     "data": {
      "text/plain": "XGBClassifier(base_score=0.5, booster='gbtree', callbacks=None,\n              colsample_bylevel=1, colsample_bynode=1, colsample_bytree=1,\n              early_stopping_rounds=None, enable_categorical=False,\n              eval_metric=None, gamma=0, gpu_id=-1, grow_policy='depthwise',\n              importance_type=None, interaction_constraints='',\n              learning_rate=0.300000012, max_bin=256, max_cat_to_onehot=4,\n              max_delta_step=0, max_depth=6, max_leaves=0, min_child_weight=1,\n              missing=nan, monotone_constraints='()', n_estimators=300,\n              n_jobs=0, num_parallel_tree=1, predictor='auto', random_state=0,\n              reg_alpha=0, reg_lambda=1, ...)"
     },
     "execution_count": 73,
     "metadata": {},
     "output_type": "execute_result"
    }
   ],
   "source": [
    "%%time\n",
    "xgb = XGBClassifier(n_estimators=300)\n",
    "xgb.fit(X_train, y_train)"
   ],
   "metadata": {
    "collapsed": false,
    "pycharm": {
     "name": "#%%\n"
    }
   }
  },
  {
   "cell_type": "code",
   "execution_count": 74,
   "outputs": [],
   "source": [
    "X_test = X_test.drop(\"result\", axis=1)"
   ],
   "metadata": {
    "collapsed": false,
    "pycharm": {
     "name": "#%%\n"
    }
   }
  },
  {
   "cell_type": "code",
   "execution_count": 75,
   "outputs": [],
   "source": [
    "pred = xgb.predict(X_test)"
   ],
   "metadata": {
    "collapsed": false,
    "pycharm": {
     "name": "#%%\n"
    }
   }
  },
  {
   "cell_type": "code",
   "execution_count": 59,
   "outputs": [
    {
     "name": "stdout",
     "output_type": "stream",
     "text": [
      "ROC AUC=0.967\n"
     ]
    }
   ],
   "source": [
    "# рассчитываем ROC AUC\n",
    "auc1 = roc_auc_score(y_test, pred)\n",
    "print('ROC AUC=%.3f' % (auc1))"
   ],
   "metadata": {
    "collapsed": false,
    "pycharm": {
     "name": "#%%\n"
    }
   }
  },
  {
   "cell_type": "code",
   "execution_count": null,
   "outputs": [],
   "source": [],
   "metadata": {
    "collapsed": false,
    "pycharm": {
     "name": "#%%\n"
    }
   }
  }
 ],
 "metadata": {
  "kernelspec": {
   "display_name": "Python 3",
   "language": "python",
   "name": "python3"
  },
  "language_info": {
   "codemirror_mode": {
    "name": "ipython",
    "version": 2
   },
   "file_extension": ".py",
   "mimetype": "text/x-python",
   "name": "python",
   "nbconvert_exporter": "python",
   "pygments_lexer": "ipython2",
   "version": "2.7.6"
  }
 },
 "nbformat": 4,
 "nbformat_minor": 0
}