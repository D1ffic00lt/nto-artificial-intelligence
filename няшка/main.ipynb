{
 "cells": [
  {
   "cell_type": "code",
   "execution_count": 189,
   "metadata": {
    "collapsed": true,
    "pycharm": {
     "name": "#%%\n"
    }
   },
   "outputs": [],
   "source": [
    "import numpy as np\n",
    "import pandas as pd\n",
    "import roman as roman\n",
    "from sklearn.model_selection import train_test_split\n",
    "from sklearn.metrics import roc_auc_score, accuracy_score, roc_curve, auc\n",
    "from sklearn.ensemble import RandomForestClassifier, GradientBoostingRegressor\n",
    "from sklearn.preprocessing import LabelEncoder\n",
    "from xgboost import XGBClassifier, plot_importance, XGBRegressor\n",
    "import matplotlib.pyplot as plt\n",
    "import warnings\n",
    "import seaborn as sns\n",
    "from sklearn.preprocessing import MinMaxScaler\n",
    "from sklearn.neighbors import KNeighborsClassifier\n",
    "# from catboost import CatBoostClassifier\n",
    "# from hyperopt import STATUS_OK, Trials, fmin, hp, tpe\n",
    "from sklearn.model_selection import StratifiedKFold, RandomizedSearchCV, GridSearchCV\n",
    "import math\n",
    "from sklearn.linear_model import LinearRegression, LogisticRegression\n",
    "import roman"
   ]
  },
  {
   "cell_type": "code",
   "execution_count": 3,
   "outputs": [],
   "source": [
    "warnings.filterwarnings(\"ignore\")"
   ],
   "metadata": {
    "collapsed": false,
    "pycharm": {
     "name": "#%%\n"
    }
   }
  },
  {
   "cell_type": "code",
   "execution_count": 346,
   "outputs": [],
   "source": [
    "data = pd.read_csv(\"train-2.csv\")"
   ],
   "metadata": {
    "collapsed": false,
    "pycharm": {
     "name": "#%%\n"
    }
   }
  },
  {
   "cell_type": "code",
   "execution_count": 347,
   "outputs": [],
   "source": [
    "data = data.drop_duplicates()"
   ],
   "metadata": {
    "collapsed": false,
    "pycharm": {
     "name": "#%%\n"
    }
   }
  },
  {
   "cell_type": "code",
   "execution_count": 348,
   "outputs": [],
   "source": [
    "answer = list(set(data[data.TargetClass == 0].SpType.unique()) & set(data[data.TargetClass == 1].SpType.unique()))"
   ],
   "metadata": {
    "collapsed": false,
    "pycharm": {
     "name": "#%%\n"
    }
   }
  },
  {
   "cell_type": "code",
   "execution_count": 349,
   "outputs": [
    {
     "data": {
      "text/plain": "['G5V',\n 'A2/A3III',\n 'B1.5III-IVn',\n 'F0/F2IVm...',\n 'K1/K2V',\n 'B3Vn...',\n 'G6V',\n 'G8/K0IV/V',\n 'G9III-IV',\n 'B2.5V',\n 'B9:Vn...',\n 'K3IV/V',\n 'B9V+...',\n 'G5III-IV',\n 'B2V+...',\n 'F6/F7V',\n 'G6/8wF8IV/V',\n 'K0IV:',\n 'G7IV',\n 'G8V',\n 'A6III',\n 'K0V',\n 'G3V',\n 'F0III:',\n 'B3III',\n 'O9.5Ia SB:',\n 'B7Iab...',\n 'K2/K3V',\n 'B2III-IV',\n 'A3II/IIIm..',\n 'A6:III:+...',\n 'G8III/IV',\n 'F9III',\n 'K0IV/VCNIII',\n 'A2V+...',\n 'A3III + K1:',\n 'B0IVpe',\n 'A4/A5III:',\n 'B5Ia',\n 'G8IVp',\n 'A3Vs',\n 'K1IVCN...',\n 'A(V) + G5III',\n 'B6III',\n 'K0:III+...',\n 'A2II/III',\n 'K0VCN...',\n 'K1IV...',\n 'B4II/III',\n 'K1/2III: +F',\n 'G9IV',\n 'B6/B7II',\n 'G6/G8III/IV',\n 'F8III/IV',\n 'B9IIp...',\n 'B0Ib/II',\n 'G8IV',\n 'B8II',\n 'K3III+A0IV/V',\n 'G6IV/V',\n 'K7V',\n 'G9V',\n 'F4IIIvar',\n 'B7Ib',\n 'G4V:p',\n 'F3IVp...',\n 'A8III',\n 'B7Ib/II',\n 'B8Ia-Iab',\n 'G8IV...',\n 'G6IV',\n 'A3II/III',\n 'G3IV/V',\n 'F3V:+...',\n 'B7II',\n 'F0IIw...',\n 'K0/K1IVwp..',\n 'B6II/III',\n 'G3/G5Vw',\n 'B5Vn...',\n 'K0IVw...',\n 'K1IV/V',\n 'B4II',\n 'K3III',\n 'B2IV-Ve',\n 'K1IV',\n 'A4V comp SB',\n 'B7/B8II/III',\n 'B0.5IVn',\n 'K1III-IV',\n 'K3V']"
     },
     "execution_count": 349,
     "metadata": {},
     "output_type": "execute_result"
    }
   ],
   "source": [
    "answer"
   ],
   "metadata": {
    "collapsed": false,
    "pycharm": {
     "name": "#%%\n"
    }
   }
  },
  {
   "cell_type": "code",
   "execution_count": 350,
   "outputs": [],
   "source": [
    "data = data[~data.SpType.isin(answer)]"
   ],
   "metadata": {
    "collapsed": false,
    "pycharm": {
     "name": "#%%\n"
    }
   }
  },
  {
   "cell_type": "code",
   "execution_count": 351,
   "outputs": [],
   "source": [
    "color_index = lambda x: 4600 * ((1 / (0.92 * x + 1.7)) + (1 / (0.92 * x + 0.62)))\n",
    "round_ = lambda x: round(x, 1)\n",
    "def transform_type2(x):\n",
    "    x1 = x\n",
    "    x1 = x1.replace('I', '')\n",
    "    x1 = x1.replace('V', '')\n",
    "    lst = list(set(x1))\n",
    "    for i in lst:\n",
    "        x = x.replace(i, ' ')\n",
    "    x = x.split()[-1]\n",
    "    return roman.fromRoman(x) * 1000\n",
    "transform_type = lambda x: 1 if \"V\" in x or \"VI\" in x or \"VII\" in x else -1\n",
    "# avag ="
   ],
   "metadata": {
    "collapsed": false,
    "pycharm": {
     "name": "#%%\n"
    }
   }
  },
  {
   "cell_type": "code",
   "execution_count": 352,
   "outputs": [],
   "source": [
    "Ms = 3.86 * 10 ** 33\n",
    "data[\"temp\"] = data[\"B-V\"].apply(color_index)\n",
    "# data[\"R\"] = np.sqrt(data.Vmag) / np.power(data.temp / 5778, 2)\n",
    "# data[\"M\"] = data.Vmag + 5 - (5 * np.log(data.Plx))\n",
    "# data[\"L\"] = np.power(data.R, 2) * np.power(data.temp / 5778, 4)"
   ],
   "metadata": {
    "collapsed": false,
    "pycharm": {
     "name": "#%%\n"
    }
   }
  },
  {
   "cell_type": "code",
   "execution_count": 353,
   "outputs": [],
   "source": [
    "# data.M.min()"
   ],
   "metadata": {
    "collapsed": false,
    "pycharm": {
     "name": "#%%\n"
    }
   }
  },
  {
   "cell_type": "code",
   "execution_count": 354,
   "outputs": [
    {
     "data": {
      "text/plain": "       Vmag        Plx     e_Plx       B-V SpType       Amag  TargetClass  \\\n1  4.334196   2.198947  0.593309  1.153210   G2Ib  13.043324            0   \n2  7.873019  11.750465  0.616568  0.589166    F5V  17.736492            1   \n3  8.110014   2.143815  0.848508  1.322107  K2III  15.592469            0   \n4  8.025193   4.165622  0.899296  1.141646  K5III  16.379680            0   \n5  2.899130  11.110086  0.701719  1.095357  M0III  14.370388            0   \n\n          temp  \n1  4402.632871  \n2  6010.288989  \n3  4082.305608  \n4  4426.508743  \n5  4524.866088  ",
      "text/html": "<div>\n<style scoped>\n    .dataframe tbody tr th:only-of-type {\n        vertical-align: middle;\n    }\n\n    .dataframe tbody tr th {\n        vertical-align: top;\n    }\n\n    .dataframe thead th {\n        text-align: right;\n    }\n</style>\n<table border=\"1\" class=\"dataframe\">\n  <thead>\n    <tr style=\"text-align: right;\">\n      <th></th>\n      <th>Vmag</th>\n      <th>Plx</th>\n      <th>e_Plx</th>\n      <th>B-V</th>\n      <th>SpType</th>\n      <th>Amag</th>\n      <th>TargetClass</th>\n      <th>temp</th>\n    </tr>\n  </thead>\n  <tbody>\n    <tr>\n      <th>1</th>\n      <td>4.334196</td>\n      <td>2.198947</td>\n      <td>0.593309</td>\n      <td>1.153210</td>\n      <td>G2Ib</td>\n      <td>13.043324</td>\n      <td>0</td>\n      <td>4402.632871</td>\n    </tr>\n    <tr>\n      <th>2</th>\n      <td>7.873019</td>\n      <td>11.750465</td>\n      <td>0.616568</td>\n      <td>0.589166</td>\n      <td>F5V</td>\n      <td>17.736492</td>\n      <td>1</td>\n      <td>6010.288989</td>\n    </tr>\n    <tr>\n      <th>3</th>\n      <td>8.110014</td>\n      <td>2.143815</td>\n      <td>0.848508</td>\n      <td>1.322107</td>\n      <td>K2III</td>\n      <td>15.592469</td>\n      <td>0</td>\n      <td>4082.305608</td>\n    </tr>\n    <tr>\n      <th>4</th>\n      <td>8.025193</td>\n      <td>4.165622</td>\n      <td>0.899296</td>\n      <td>1.141646</td>\n      <td>K5III</td>\n      <td>16.379680</td>\n      <td>0</td>\n      <td>4426.508743</td>\n    </tr>\n    <tr>\n      <th>5</th>\n      <td>2.899130</td>\n      <td>11.110086</td>\n      <td>0.701719</td>\n      <td>1.095357</td>\n      <td>M0III</td>\n      <td>14.370388</td>\n      <td>0</td>\n      <td>4524.866088</td>\n    </tr>\n  </tbody>\n</table>\n</div>"
     },
     "execution_count": 354,
     "metadata": {},
     "output_type": "execute_result"
    }
   ],
   "source": [
    "data.head()"
   ],
   "metadata": {
    "collapsed": false,
    "pycharm": {
     "name": "#%%\n"
    }
   }
  },
  {
   "cell_type": "code",
   "execution_count": 355,
   "outputs": [],
   "source": [
    "# data[\"spt2\"] = data.SpType.apply(transform_type2)\n",
    "data.SpType = data.SpType.apply(transform_type)"
   ],
   "metadata": {
    "collapsed": false,
    "pycharm": {
     "name": "#%%\n"
    }
   }
  },
  {
   "cell_type": "code",
   "execution_count": 356,
   "outputs": [
    {
     "data": {
      "text/plain": "       Vmag        Plx     e_Plx       B-V  SpType       Amag  TargetClass  \\\n1  4.334196   2.198947  0.593309  1.153210      -1  13.043324            0   \n2  7.873019  11.750465  0.616568  0.589166       1  17.736492            1   \n3  8.110014   2.143815  0.848508  1.322107      -1  15.592469            0   \n4  8.025193   4.165622  0.899296  1.141646      -1  16.379680            0   \n5  2.899130  11.110086  0.701719  1.095357      -1  14.370388            0   \n\n          temp  \n1  4402.632871  \n2  6010.288989  \n3  4082.305608  \n4  4426.508743  \n5  4524.866088  ",
      "text/html": "<div>\n<style scoped>\n    .dataframe tbody tr th:only-of-type {\n        vertical-align: middle;\n    }\n\n    .dataframe tbody tr th {\n        vertical-align: top;\n    }\n\n    .dataframe thead th {\n        text-align: right;\n    }\n</style>\n<table border=\"1\" class=\"dataframe\">\n  <thead>\n    <tr style=\"text-align: right;\">\n      <th></th>\n      <th>Vmag</th>\n      <th>Plx</th>\n      <th>e_Plx</th>\n      <th>B-V</th>\n      <th>SpType</th>\n      <th>Amag</th>\n      <th>TargetClass</th>\n      <th>temp</th>\n    </tr>\n  </thead>\n  <tbody>\n    <tr>\n      <th>1</th>\n      <td>4.334196</td>\n      <td>2.198947</td>\n      <td>0.593309</td>\n      <td>1.153210</td>\n      <td>-1</td>\n      <td>13.043324</td>\n      <td>0</td>\n      <td>4402.632871</td>\n    </tr>\n    <tr>\n      <th>2</th>\n      <td>7.873019</td>\n      <td>11.750465</td>\n      <td>0.616568</td>\n      <td>0.589166</td>\n      <td>1</td>\n      <td>17.736492</td>\n      <td>1</td>\n      <td>6010.288989</td>\n    </tr>\n    <tr>\n      <th>3</th>\n      <td>8.110014</td>\n      <td>2.143815</td>\n      <td>0.848508</td>\n      <td>1.322107</td>\n      <td>-1</td>\n      <td>15.592469</td>\n      <td>0</td>\n      <td>4082.305608</td>\n    </tr>\n    <tr>\n      <th>4</th>\n      <td>8.025193</td>\n      <td>4.165622</td>\n      <td>0.899296</td>\n      <td>1.141646</td>\n      <td>-1</td>\n      <td>16.379680</td>\n      <td>0</td>\n      <td>4426.508743</td>\n    </tr>\n    <tr>\n      <th>5</th>\n      <td>2.899130</td>\n      <td>11.110086</td>\n      <td>0.701719</td>\n      <td>1.095357</td>\n      <td>-1</td>\n      <td>14.370388</td>\n      <td>0</td>\n      <td>4524.866088</td>\n    </tr>\n  </tbody>\n</table>\n</div>"
     },
     "execution_count": 356,
     "metadata": {},
     "output_type": "execute_result"
    }
   ],
   "source": [
    "data.head()"
   ],
   "metadata": {
    "collapsed": false,
    "pycharm": {
     "name": "#%%\n"
    }
   }
  },
  {
   "cell_type": "code",
   "execution_count": 357,
   "outputs": [],
   "source": [
    "data = data[data.Plx + data.e_Plx > 0]"
   ],
   "metadata": {
    "collapsed": false,
    "pycharm": {
     "name": "#%%\n"
    }
   }
  },
  {
   "cell_type": "code",
   "execution_count": 358,
   "outputs": [],
   "source": [
    "# plt.boxplot(data.Vmag)"
   ],
   "metadata": {
    "collapsed": false,
    "pycharm": {
     "name": "#%%\n"
    }
   }
  },
  {
   "cell_type": "code",
   "execution_count": 359,
   "outputs": [],
   "source": [
    "# data = data[(data.Vmag > 4) & (data.Vmag < 11)]"
   ],
   "metadata": {
    "collapsed": false,
    "pycharm": {
     "name": "#%%\n"
    }
   }
  },
  {
   "cell_type": "code",
   "execution_count": 360,
   "outputs": [],
   "source": [
    "# plt.boxplot(data[\"B-V\"])"
   ],
   "metadata": {
    "collapsed": false,
    "pycharm": {
     "name": "#%%\n"
    }
   }
  },
  {
   "cell_type": "code",
   "execution_count": 361,
   "outputs": [],
   "source": [
    "# data = data[data[\"B-V\"] < 23]"
   ],
   "metadata": {
    "collapsed": false,
    "pycharm": {
     "name": "#%%\n"
    }
   }
  },
  {
   "cell_type": "code",
   "execution_count": 362,
   "outputs": [],
   "source": [
    "# plt.boxplot(data.Amag)"
   ],
   "metadata": {
    "collapsed": false,
    "pycharm": {
     "name": "#%%\n"
    }
   }
  },
  {
   "cell_type": "code",
   "execution_count": 363,
   "outputs": [],
   "source": [
    "# data = data[(data.Amag < 22) & (data.Amag > 10)]"
   ],
   "metadata": {
    "collapsed": false,
    "pycharm": {
     "name": "#%%\n"
    }
   }
  },
  {
   "cell_type": "code",
   "execution_count": 364,
   "outputs": [],
   "source": [
    "# data.Amag = data.Amag.apply(round_)\n",
    "# data.Vmag = data.Vmag.apply(round_)\n",
    "# data.Plx = data.Plx.apply(round_)\n",
    "# data.e_Plx = data.e_Plx.apply(round_)\n",
    "# data[\"B-V\"] = data[\"B-V\"].apply(round_)\n",
    "# data.temp = data.temp.apply(round_)\n",
    "# model[\"BVtype\"] = round(model[\"B-V\"] * model.SpType)"
   ],
   "metadata": {
    "collapsed": false,
    "pycharm": {
     "name": "#%%\n"
    }
   }
  },
  {
   "cell_type": "code",
   "execution_count": 365,
   "outputs": [],
   "source": [
    "# data = data.drop( [\"e_Plx\"], axis=1)\n",
    "# data[:] = MinMaxScaler().fit_transform(data)"
   ],
   "metadata": {
    "collapsed": false,
    "pycharm": {
     "name": "#%%\n"
    }
   }
  },
  {
   "cell_type": "code",
   "execution_count": 366,
   "outputs": [
    {
     "data": {
      "text/plain": "       Vmag        Plx     e_Plx       B-V  SpType       Amag  TargetClass  \\\n1  4.334196   2.198947  0.593309  1.153210      -1  13.043324            0   \n2  7.873019  11.750465  0.616568  0.589166       1  17.736492            1   \n3  8.110014   2.143815  0.848508  1.322107      -1  15.592469            0   \n4  8.025193   4.165622  0.899296  1.141646      -1  16.379680            0   \n5  2.899130  11.110086  0.701719  1.095357      -1  14.370388            0   \n\n          temp  \n1  4402.632871  \n2  6010.288989  \n3  4082.305608  \n4  4426.508743  \n5  4524.866088  ",
      "text/html": "<div>\n<style scoped>\n    .dataframe tbody tr th:only-of-type {\n        vertical-align: middle;\n    }\n\n    .dataframe tbody tr th {\n        vertical-align: top;\n    }\n\n    .dataframe thead th {\n        text-align: right;\n    }\n</style>\n<table border=\"1\" class=\"dataframe\">\n  <thead>\n    <tr style=\"text-align: right;\">\n      <th></th>\n      <th>Vmag</th>\n      <th>Plx</th>\n      <th>e_Plx</th>\n      <th>B-V</th>\n      <th>SpType</th>\n      <th>Amag</th>\n      <th>TargetClass</th>\n      <th>temp</th>\n    </tr>\n  </thead>\n  <tbody>\n    <tr>\n      <th>1</th>\n      <td>4.334196</td>\n      <td>2.198947</td>\n      <td>0.593309</td>\n      <td>1.153210</td>\n      <td>-1</td>\n      <td>13.043324</td>\n      <td>0</td>\n      <td>4402.632871</td>\n    </tr>\n    <tr>\n      <th>2</th>\n      <td>7.873019</td>\n      <td>11.750465</td>\n      <td>0.616568</td>\n      <td>0.589166</td>\n      <td>1</td>\n      <td>17.736492</td>\n      <td>1</td>\n      <td>6010.288989</td>\n    </tr>\n    <tr>\n      <th>3</th>\n      <td>8.110014</td>\n      <td>2.143815</td>\n      <td>0.848508</td>\n      <td>1.322107</td>\n      <td>-1</td>\n      <td>15.592469</td>\n      <td>0</td>\n      <td>4082.305608</td>\n    </tr>\n    <tr>\n      <th>4</th>\n      <td>8.025193</td>\n      <td>4.165622</td>\n      <td>0.899296</td>\n      <td>1.141646</td>\n      <td>-1</td>\n      <td>16.379680</td>\n      <td>0</td>\n      <td>4426.508743</td>\n    </tr>\n    <tr>\n      <th>5</th>\n      <td>2.899130</td>\n      <td>11.110086</td>\n      <td>0.701719</td>\n      <td>1.095357</td>\n      <td>-1</td>\n      <td>14.370388</td>\n      <td>0</td>\n      <td>4524.866088</td>\n    </tr>\n  </tbody>\n</table>\n</div>"
     },
     "execution_count": 366,
     "metadata": {},
     "output_type": "execute_result"
    }
   ],
   "source": [
    "data.head()"
   ],
   "metadata": {
    "collapsed": false,
    "pycharm": {
     "name": "#%%\n"
    }
   }
  },
  {
   "cell_type": "code",
   "execution_count": 367,
   "outputs": [
    {
     "data": {
      "text/plain": "<Figure size 720x720 with 2 Axes>",
      "image/png": "[encoded data removed]"
     },
     "metadata": {
      "needs_background": "light"
     },
     "output_type": "display_data"
    }
   ],
   "source": [
    "y = data['TargetClass']\n",
    "X = data.drop(columns=['TargetClass'])\n",
    "# X = data[[\"temp\", \"Amag\", \"SpType\"]]\n",
    "X_train, X_test, y_train, y_test = train_test_split(X, y, random_state=5, test_size=0.2)\n",
    "\n",
    "fig = plt.figure(figsize=(10, 10))\n",
    "X_test2 = X_test.copy()\n",
    "X_test2[\"result\"] = y_test\n",
    "data_ploting = X_test2.corr(method='pearson')\n",
    "sns.heatmap(data_ploting, linecolor='black')\n",
    "plt.show()"
   ],
   "metadata": {
    "collapsed": false,
    "pycharm": {
     "name": "#%%\n"
    }
   }
  },
  {
   "cell_type": "code",
   "execution_count": 368,
   "outputs": [
    {
     "data": {
      "text/plain": "       Vmag        Plx     e_Plx       B-V  SpType       Amag  TargetClass  \\\n1  4.334196   2.198947  0.593309  1.153210      -1  13.043324            0   \n2  7.873019  11.750465  0.616568  0.589166       1  17.736492            1   \n3  8.110014   2.143815  0.848508  1.322107      -1  15.592469            0   \n4  8.025193   4.165622  0.899296  1.141646      -1  16.379680            0   \n5  2.899130  11.110086  0.701719  1.095357      -1  14.370388            0   \n\n          temp  \n1  4402.632871  \n2  6010.288989  \n3  4082.305608  \n4  4426.508743  \n5  4524.866088  ",
      "text/html": "<div>\n<style scoped>\n    .dataframe tbody tr th:only-of-type {\n        vertical-align: middle;\n    }\n\n    .dataframe tbody tr th {\n        vertical-align: top;\n    }\n\n    .dataframe thead th {\n        text-align: right;\n    }\n</style>\n<table border=\"1\" class=\"dataframe\">\n  <thead>\n    <tr style=\"text-align: right;\">\n      <th></th>\n      <th>Vmag</th>\n      <th>Plx</th>\n      <th>e_Plx</th>\n      <th>B-V</th>\n      <th>SpType</th>\n      <th>Amag</th>\n      <th>TargetClass</th>\n      <th>temp</th>\n    </tr>\n  </thead>\n  <tbody>\n    <tr>\n      <th>1</th>\n      <td>4.334196</td>\n      <td>2.198947</td>\n      <td>0.593309</td>\n      <td>1.153210</td>\n      <td>-1</td>\n      <td>13.043324</td>\n      <td>0</td>\n      <td>4402.632871</td>\n    </tr>\n    <tr>\n      <th>2</th>\n      <td>7.873019</td>\n      <td>11.750465</td>\n      <td>0.616568</td>\n      <td>0.589166</td>\n      <td>1</td>\n      <td>17.736492</td>\n      <td>1</td>\n      <td>6010.288989</td>\n    </tr>\n    <tr>\n      <th>3</th>\n      <td>8.110014</td>\n      <td>2.143815</td>\n      <td>0.848508</td>\n      <td>1.322107</td>\n      <td>-1</td>\n      <td>15.592469</td>\n      <td>0</td>\n      <td>4082.305608</td>\n    </tr>\n    <tr>\n      <th>4</th>\n      <td>8.025193</td>\n      <td>4.165622</td>\n      <td>0.899296</td>\n      <td>1.141646</td>\n      <td>-1</td>\n      <td>16.379680</td>\n      <td>0</td>\n      <td>4426.508743</td>\n    </tr>\n    <tr>\n      <th>5</th>\n      <td>2.899130</td>\n      <td>11.110086</td>\n      <td>0.701719</td>\n      <td>1.095357</td>\n      <td>-1</td>\n      <td>14.370388</td>\n      <td>0</td>\n      <td>4524.866088</td>\n    </tr>\n  </tbody>\n</table>\n</div>"
     },
     "execution_count": 368,
     "metadata": {},
     "output_type": "execute_result"
    }
   ],
   "source": [
    "data.head()"
   ],
   "metadata": {
    "collapsed": false,
    "pycharm": {
     "name": "#%%\n"
    }
   }
  },
  {
   "cell_type": "code",
   "execution_count": 369,
   "outputs": [
    {
     "data": {
      "text/plain": "LinearRegression()"
     },
     "execution_count": 369,
     "metadata": {},
     "output_type": "execute_result"
    }
   ],
   "source": [
    "model2 = LinearRegression()\n",
    "model2.fit(X, y)"
   ],
   "metadata": {
    "collapsed": false,
    "pycharm": {
     "name": "#%%\n"
    }
   }
  },
  {
   "cell_type": "code",
   "execution_count": 370,
   "outputs": [
    {
     "data": {
      "text/plain": "LogisticRegression()"
     },
     "execution_count": 370,
     "metadata": {},
     "output_type": "execute_result"
    }
   ],
   "source": [
    "model3 = LogisticRegression()\n",
    "model3.fit(X, y)"
   ],
   "metadata": {
    "collapsed": false,
    "pycharm": {
     "name": "#%%\n"
    }
   }
  },
  {
   "cell_type": "code",
   "execution_count": 371,
   "outputs": [
    {
     "name": "stdout",
     "output_type": "stream",
     "text": [
      "CPU times: user 3.15 s, sys: 16.6 ms, total: 3.16 s\n",
      "Wall time: 3.23 s\n"
     ]
    },
    {
     "data": {
      "text/plain": "GradientBoostingRegressor()"
     },
     "execution_count": 371,
     "metadata": {},
     "output_type": "execute_result"
    }
   ],
   "source": [
    "%%time\n",
    "# xgb = XGBClassifier(subsample=0.8,\n",
    "#                     min_child_weight=1,\n",
    "#                     max_depth=14,\n",
    "#                     gamma=1,\n",
    "#                     colsample_bytree=0.8)\n",
    "xgb = GradientBoostingRegressor()\n",
    "xgb.fit(X_train, y_train)"
   ],
   "metadata": {
    "collapsed": false,
    "pycharm": {
     "name": "#%%\n"
    }
   }
  },
  {
   "cell_type": "code",
   "execution_count": 372,
   "outputs": [],
   "source": [
    "pred = xgb.predict(X_test)\n",
    "pred_ = pd.Series(model2.predict(X_test))\n",
    "pred__ = pd.Series(model3.predict(X_test))"
   ],
   "metadata": {
    "collapsed": false,
    "pycharm": {
     "name": "#%%\n"
    }
   }
  },
  {
   "cell_type": "code",
   "execution_count": 373,
   "outputs": [
    {
     "data": {
      "text/plain": "0    0\n1    0\n2    1\n3    1\n4    1\ndtype: int64"
     },
     "execution_count": 373,
     "metadata": {},
     "output_type": "execute_result"
    }
   ],
   "source": [
    "pred__.head()"
   ],
   "metadata": {
    "collapsed": false,
    "pycharm": {
     "name": "#%%\n"
    }
   }
  },
  {
   "cell_type": "code",
   "execution_count": 374,
   "outputs": [
    {
     "data": {
      "text/plain": "(0.9999901940595612, 0.9999298174834315, 0.999801429706116)"
     },
     "execution_count": 374,
     "metadata": {},
     "output_type": "execute_result"
    }
   ],
   "source": [
    "roc_auc_score(y_test, pred), roc_auc_score(y_test, pred_), roc_auc_score(y_test, pred__)"
   ],
   "metadata": {
    "collapsed": false,
    "pycharm": {
     "name": "#%%\n"
    }
   }
  },
  {
   "cell_type": "code",
   "execution_count": 375,
   "outputs": [
    {
     "data": {
      "text/plain": "0.9999901940595612"
     },
     "execution_count": 375,
     "metadata": {},
     "output_type": "execute_result"
    }
   ],
   "source": [
    "0.9999901940595612"
   ],
   "metadata": {
    "collapsed": false,
    "pycharm": {
     "name": "#%%\n"
    }
   }
  },
  {
   "cell_type": "code",
   "execution_count": 124,
   "outputs": [],
   "source": [
    "def check(M):\n",
    "    if M > 0:\n",
    "        return 1\n",
    "    else:\n",
    "        return 0\n"
   ],
   "metadata": {
    "collapsed": false,
    "pycharm": {
     "name": "#%%\n"
    }
   }
  },
  {
   "cell_type": "code",
   "execution_count": 196,
   "outputs": [],
   "source": [
    "data_ = pd.read_csv(\"predict.csv\")"
   ],
   "metadata": {
    "collapsed": false,
    "pycharm": {
     "name": "#%%\n"
    }
   }
  },
  {
   "cell_type": "code",
   "execution_count": 197,
   "outputs": [],
   "source": [
    "data_test = data_.copy()"
   ],
   "metadata": {
    "collapsed": false,
    "pycharm": {
     "name": "#%%\n"
    }
   }
  },
  {
   "cell_type": "code",
   "execution_count": 198,
   "outputs": [],
   "source": [
    "Ms = 3.86 * 10 ** 33\n",
    "data_test[\"temp\"] = data_test[\"B-V\"].apply(color_index)\n",
    "# data_test[\"R\"] = np.sqrt(data_test.Vmag) / np.power(data_test.temp / 5778, 2)\n",
    "# data_test[\"M\"] = data_test.Vmag + 5 - (5 * np.log(data_test.Plx))\n",
    "# data_test[\"L\"] = np.power(data_test.R, 2) * np.power(data_test.temp / 5778, 4)"
   ],
   "metadata": {
    "collapsed": false,
    "pycharm": {
     "name": "#%%\n"
    }
   }
  },
  {
   "cell_type": "code",
   "execution_count": 199,
   "outputs": [
    {
     "data": {
      "text/plain": "False"
     },
     "execution_count": 199,
     "metadata": {},
     "output_type": "execute_result"
    }
   ],
   "source": [
    "list(data.columns) == list(data_test.columns)"
   ],
   "metadata": {
    "collapsed": false,
    "pycharm": {
     "name": "#%%\n"
    }
   }
  },
  {
   "cell_type": "code",
   "execution_count": 200,
   "outputs": [
    {
     "data": {
      "text/plain": "Index(['Vmag', 'Plx', 'e_Plx', 'B-V', 'SpType', 'Amag', 'TargetClass', 'temp'], dtype='object')"
     },
     "execution_count": 200,
     "metadata": {},
     "output_type": "execute_result"
    }
   ],
   "source": [
    "data.columns"
   ],
   "metadata": {
    "collapsed": false,
    "pycharm": {
     "name": "#%%\n"
    }
   }
  },
  {
   "cell_type": "code",
   "execution_count": 201,
   "outputs": [
    {
     "data": {
      "text/plain": "Index(['Vmag', 'Plx', 'e_Plx', 'B-V', 'SpType', 'Amag', 'temp'], dtype='object')"
     },
     "execution_count": 201,
     "metadata": {},
     "output_type": "execute_result"
    }
   ],
   "source": [
    "data_test.columns"
   ],
   "metadata": {
    "collapsed": false,
    "pycharm": {
     "name": "#%%\n"
    }
   }
  },
  {
   "cell_type": "code",
   "execution_count": 202,
   "outputs": [
    {
     "data": {
      "text/plain": "       Vmag        Plx     e_Plx       B-V       SpType       Amag  \\\n0  4.039519  13.596504  0.845101 -0.097823      F5V+...  15.774122   \n1  6.655719   4.010332  1.050017  1.386670        K5III  15.344976   \n2  6.405060   0.348855  0.961598  0.951503       B0IVpe  12.236103   \n3  9.113068   2.954461  1.251422  1.002819        K1III  15.560838   \n4  6.107686   3.144180  0.475795  0.493345  G8II-IIIvar  12.771981   \n\n           temp  \n0  11536.343340  \n1   3972.332732  \n2   4862.277063  \n3   4735.981168  \n4   6419.225528  ",
      "text/html": "<div>\n<style scoped>\n    .dataframe tbody tr th:only-of-type {\n        vertical-align: middle;\n    }\n\n    .dataframe tbody tr th {\n        vertical-align: top;\n    }\n\n    .dataframe thead th {\n        text-align: right;\n    }\n</style>\n<table border=\"1\" class=\"dataframe\">\n  <thead>\n    <tr style=\"text-align: right;\">\n      <th></th>\n      <th>Vmag</th>\n      <th>Plx</th>\n      <th>e_Plx</th>\n      <th>B-V</th>\n      <th>SpType</th>\n      <th>Amag</th>\n      <th>temp</th>\n    </tr>\n  </thead>\n  <tbody>\n    <tr>\n      <th>0</th>\n      <td>4.039519</td>\n      <td>13.596504</td>\n      <td>0.845101</td>\n      <td>-0.097823</td>\n      <td>F5V+...</td>\n      <td>15.774122</td>\n      <td>11536.343340</td>\n    </tr>\n    <tr>\n      <th>1</th>\n      <td>6.655719</td>\n      <td>4.010332</td>\n      <td>1.050017</td>\n      <td>1.386670</td>\n      <td>K5III</td>\n      <td>15.344976</td>\n      <td>3972.332732</td>\n    </tr>\n    <tr>\n      <th>2</th>\n      <td>6.405060</td>\n      <td>0.348855</td>\n      <td>0.961598</td>\n      <td>0.951503</td>\n      <td>B0IVpe</td>\n      <td>12.236103</td>\n      <td>4862.277063</td>\n    </tr>\n    <tr>\n      <th>3</th>\n      <td>9.113068</td>\n      <td>2.954461</td>\n      <td>1.251422</td>\n      <td>1.002819</td>\n      <td>K1III</td>\n      <td>15.560838</td>\n      <td>4735.981168</td>\n    </tr>\n    <tr>\n      <th>4</th>\n      <td>6.107686</td>\n      <td>3.144180</td>\n      <td>0.475795</td>\n      <td>0.493345</td>\n      <td>G8II-IIIvar</td>\n      <td>12.771981</td>\n      <td>6419.225528</td>\n    </tr>\n  </tbody>\n</table>\n</div>"
     },
     "execution_count": 202,
     "metadata": {},
     "output_type": "execute_result"
    }
   ],
   "source": [
    "data_test.head()"
   ],
   "metadata": {
    "collapsed": false,
    "pycharm": {
     "name": "#%%\n"
    }
   }
  },
  {
   "cell_type": "code",
   "execution_count": 203,
   "outputs": [],
   "source": [
    "data_test.SpType = data_test.SpType.apply(transform_type)"
   ],
   "metadata": {
    "collapsed": false,
    "pycharm": {
     "name": "#%%\n"
    }
   }
  },
  {
   "cell_type": "code",
   "execution_count": 204,
   "outputs": [],
   "source": [
    "data_test[:] = MinMaxScaler().fit_transform(data_test)"
   ],
   "metadata": {
    "collapsed": false,
    "pycharm": {
     "name": "#%%\n"
    }
   }
  },
  {
   "cell_type": "code",
   "execution_count": 205,
   "outputs": [
    {
     "data": {
      "text/plain": "pandas.core.frame.DataFrame"
     },
     "execution_count": 205,
     "metadata": {},
     "output_type": "execute_result"
    }
   ],
   "source": [
    "type(data_test)"
   ],
   "metadata": {
    "collapsed": false,
    "pycharm": {
     "name": "#%%\n"
    }
   }
  },
  {
   "cell_type": "code",
   "execution_count": 206,
   "outputs": [],
   "source": [
    "pred = xgb.predict(data_test.values)"
   ],
   "metadata": {
    "collapsed": false,
    "pycharm": {
     "name": "#%%\n"
    }
   }
  },
  {
   "cell_type": "code",
   "execution_count": 207,
   "outputs": [],
   "source": [
    "# pred =[check(i) for i in data_test.M]"
   ],
   "metadata": {
    "collapsed": false,
    "pycharm": {
     "name": "#%%\n"
    }
   }
  },
  {
   "cell_type": "code",
   "execution_count": 208,
   "outputs": [],
   "source": [
    "data_[\"TargetClass\"] = pred"
   ],
   "metadata": {
    "collapsed": false,
    "pycharm": {
     "name": "#%%\n"
    }
   }
  },
  {
   "cell_type": "code",
   "execution_count": 209,
   "outputs": [
    {
     "data": {
      "text/plain": "          Vmag        Plx     e_Plx       B-V       SpType       Amag  \\\n0     4.039519  13.596504  0.845101 -0.097823      F5V+...  15.774122   \n1     6.655719   4.010332  1.050017  1.386670        K5III  15.344976   \n2     6.405060   0.348855  0.961598  0.951503       B0IVpe  12.236103   \n3     9.113068   2.954461  1.251422  1.002819        K1III  15.560838   \n4     6.107686   3.144180  0.475795  0.493345  G8II-IIIvar  12.771981   \n...        ...        ...       ...       ...          ...        ...   \n7906  8.255272   2.858885  0.822289  1.349195        M3III  16.438014   \n7907  6.255358   3.034436  0.449386  0.966053        K0III  13.898403   \n7908  8.643598  10.932145  0.947897  0.504383          G0V  18.980729   \n7909  9.400810   6.279361  1.332124  0.351073          F2V  16.872491   \n7910  8.792551   2.379289  1.451311  1.110596        K1III  15.737505   \n\n      TargetClass  \n0        0.209362  \n1        0.069348  \n2        0.209282  \n3        0.069348  \n4        0.069348  \n...           ...  \n7906     0.069348  \n7907     0.069348  \n7908     0.209282  \n7909     0.209282  \n7910     0.069348  \n\n[7911 rows x 7 columns]",
      "text/html": "<div>\n<style scoped>\n    .dataframe tbody tr th:only-of-type {\n        vertical-align: middle;\n    }\n\n    .dataframe tbody tr th {\n        vertical-align: top;\n    }\n\n    .dataframe thead th {\n        text-align: right;\n    }\n</style>\n<table border=\"1\" class=\"dataframe\">\n  <thead>\n    <tr style=\"text-align: right;\">\n      <th></th>\n      <th>Vmag</th>\n      <th>Plx</th>\n      <th>e_Plx</th>\n      <th>B-V</th>\n      <th>SpType</th>\n      <th>Amag</th>\n      <th>TargetClass</th>\n    </tr>\n  </thead>\n  <tbody>\n    <tr>\n      <th>0</th>\n      <td>4.039519</td>\n      <td>13.596504</td>\n      <td>0.845101</td>\n      <td>-0.097823</td>\n      <td>F5V+...</td>\n      <td>15.774122</td>\n      <td>0.209362</td>\n    </tr>\n    <tr>\n      <th>1</th>\n      <td>6.655719</td>\n      <td>4.010332</td>\n      <td>1.050017</td>\n      <td>1.386670</td>\n      <td>K5III</td>\n      <td>15.344976</td>\n      <td>0.069348</td>\n    </tr>\n    <tr>\n      <th>2</th>\n      <td>6.405060</td>\n      <td>0.348855</td>\n      <td>0.961598</td>\n      <td>0.951503</td>\n      <td>B0IVpe</td>\n      <td>12.236103</td>\n      <td>0.209282</td>\n    </tr>\n    <tr>\n      <th>3</th>\n      <td>9.113068</td>\n      <td>2.954461</td>\n      <td>1.251422</td>\n      <td>1.002819</td>\n      <td>K1III</td>\n      <td>15.560838</td>\n      <td>0.069348</td>\n    </tr>\n    <tr>\n      <th>4</th>\n      <td>6.107686</td>\n      <td>3.144180</td>\n      <td>0.475795</td>\n      <td>0.493345</td>\n      <td>G8II-IIIvar</td>\n      <td>12.771981</td>\n      <td>0.069348</td>\n    </tr>\n    <tr>\n      <th>...</th>\n      <td>...</td>\n      <td>...</td>\n      <td>...</td>\n      <td>...</td>\n      <td>...</td>\n      <td>...</td>\n      <td>...</td>\n    </tr>\n    <tr>\n      <th>7906</th>\n      <td>8.255272</td>\n      <td>2.858885</td>\n      <td>0.822289</td>\n      <td>1.349195</td>\n      <td>M3III</td>\n      <td>16.438014</td>\n      <td>0.069348</td>\n    </tr>\n    <tr>\n      <th>7907</th>\n      <td>6.255358</td>\n      <td>3.034436</td>\n      <td>0.449386</td>\n      <td>0.966053</td>\n      <td>K0III</td>\n      <td>13.898403</td>\n      <td>0.069348</td>\n    </tr>\n    <tr>\n      <th>7908</th>\n      <td>8.643598</td>\n      <td>10.932145</td>\n      <td>0.947897</td>\n      <td>0.504383</td>\n      <td>G0V</td>\n      <td>18.980729</td>\n      <td>0.209282</td>\n    </tr>\n    <tr>\n      <th>7909</th>\n      <td>9.400810</td>\n      <td>6.279361</td>\n      <td>1.332124</td>\n      <td>0.351073</td>\n      <td>F2V</td>\n      <td>16.872491</td>\n      <td>0.209282</td>\n    </tr>\n    <tr>\n      <th>7910</th>\n      <td>8.792551</td>\n      <td>2.379289</td>\n      <td>1.451311</td>\n      <td>1.110596</td>\n      <td>K1III</td>\n      <td>15.737505</td>\n      <td>0.069348</td>\n    </tr>\n  </tbody>\n</table>\n<p>7911 rows × 7 columns</p>\n</div>"
     },
     "execution_count": 209,
     "metadata": {},
     "output_type": "execute_result"
    }
   ],
   "source": [
    "data_"
   ],
   "metadata": {
    "collapsed": false,
    "pycharm": {
     "name": "#%%\n"
    }
   }
  },
  {
   "cell_type": "code",
   "execution_count": 210,
   "outputs": [],
   "source": [
    "data_.to_csv(\"answer.csv\")"
   ],
   "metadata": {
    "collapsed": false,
    "pycharm": {
     "name": "#%%\n"
    }
   }
  },
  {
   "cell_type": "code",
   "execution_count": null,
   "outputs": [],
   "source": [],
   "metadata": {
    "collapsed": false,
    "pycharm": {
     "name": "#%%\n"
    }
   }
  },
  {
   "cell_type": "code",
   "execution_count": null,
   "outputs": [],
   "source": [],
   "metadata": {
    "collapsed": false,
    "pycharm": {
     "name": "#%%\n"
    }
   }
  }
 ],
 "metadata": {
  "kernelspec": {
   "display_name": "Python 3",
   "language": "python",
   "name": "python3"
  },
  "language_info": {
   "codemirror_mode": {
    "name": "ipython",
    "version": 2
   },
   "file_extension": ".py",
   "mimetype": "text/x-python",
   "name": "python",
   "nbconvert_exporter": "python",
   "pygments_lexer": "ipython2",
   "version": "2.7.6"
  }
 },
 "nbformat": 4,
 "nbformat_minor": 0
}