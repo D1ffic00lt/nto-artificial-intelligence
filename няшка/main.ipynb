{
 "cells": [
  {
   "cell_type": "code",
   "execution_count": 275,
   "metadata": {
    "collapsed": true,
    "pycharm": {
     "name": "#%%\n"
    }
   },
   "outputs": [],
   "source": [
    "import numpy as np\n",
    "import pandas as pd\n",
    "from sklearn.model_selection import train_test_split\n",
    "from sklearn.metrics import roc_auc_score, accuracy_score, roc_curve, auc\n",
    "from sklearn.ensemble import RandomForestClassifier, GradientBoostingClassifier\n",
    "from sklearn.preprocessing import LabelEncoder\n",
    "from xgboost import XGBClassifier, plot_importance\n",
    "import matplotlib.pyplot as plt\n",
    "import warnings\n",
    "import seaborn as sns\n",
    "from sklearn.neighbors import KNeighborsClassifier\n",
    "# from catboost import CatBoostClassifier\n",
    "# from hyperopt import STATUS_OK, Trials, fmin, hp, tpe\n",
    "from sklearn.model_selection import StratifiedKFold, RandomizedSearchCV, GridSearchCV\n",
    "import math"
   ]
  },
  {
   "cell_type": "code",
   "execution_count": 72,
   "outputs": [],
   "source": [
    "warnings.filterwarnings(\"ignore\")"
   ],
   "metadata": {
    "collapsed": false,
    "pycharm": {
     "name": "#%%\n"
    }
   }
  },
  {
   "cell_type": "code",
   "execution_count": 240,
   "outputs": [],
   "source": [
    "data = pd.read_csv(\"train-2.csv\")"
   ],
   "metadata": {
    "collapsed": false,
    "pycharm": {
     "name": "#%%\n"
    }
   }
  },
  {
   "cell_type": "code",
   "execution_count": 241,
   "outputs": [],
   "source": [
    "answer = list(set(data[data.TargetClass == 0].SpType.unique()) & set(data[data.TargetClass == 1].SpType.unique()))"
   ],
   "metadata": {
    "collapsed": false,
    "pycharm": {
     "name": "#%%\n"
    }
   }
  },
  {
   "cell_type": "code",
   "execution_count": 242,
   "outputs": [
    {
     "data": {
      "text/plain": "['K1III-IV',\n 'G6IV/V',\n 'B5Ia',\n 'K0IVw...',\n 'B9IIp...',\n 'B0.5IVn',\n 'G6V',\n 'K3III',\n 'G5V',\n 'B2.5V',\n 'F8III/IV',\n 'A6:III:+...',\n 'A3III + K1:',\n 'G6/8wF8IV/V',\n 'F0IIw...',\n 'F6/F7V',\n 'B3III',\n 'B6III',\n 'A2/A3III',\n 'F3V:+...',\n 'F0III:',\n 'K1IV/V',\n 'G9IV',\n 'K0V',\n 'G8V',\n 'B9:Vn...',\n 'K3V',\n 'B4II/III',\n 'G8IVp',\n 'F9III',\n 'A2II/III',\n 'K0IV/VCNIII',\n 'K1IVCN...',\n 'B7Ib',\n 'G6/G8III/IV',\n 'O9.5Ia SB:',\n 'G8/K0IV/V',\n 'F0/F2IVm...',\n 'A3Vs',\n 'B3Vn...',\n 'B1.5III-IVn',\n 'B9V+...',\n 'G4V:p',\n 'K1/K2V',\n 'B6II/III',\n 'K1IV...',\n 'K7V',\n 'K0:III+...',\n 'F3IVp...',\n 'G8IV',\n 'K3IV/V',\n 'G3/G5Vw',\n 'K2/K3V',\n 'K1IV',\n 'B8Ia-Iab',\n 'B0IVpe',\n 'K0IV:',\n 'B2V+...',\n 'B8II',\n 'K1/2III: +F',\n 'B4II',\n 'A3II/IIIm..',\n 'K3III+A0IV/V',\n 'A4V comp SB',\n 'A4/A5III:',\n 'A2V+...',\n 'A8III',\n 'G9III-IV',\n 'K0/K1IVwp..',\n 'B7Iab...',\n 'F4IIIvar',\n 'G9V',\n 'B7II',\n 'A(V) + G5III',\n 'G5III-IV',\n 'B7Ib/II',\n 'K0VCN...',\n 'A6III',\n 'G3V',\n 'G8IV...',\n 'G3IV/V',\n 'B2IV-Ve',\n 'B0Ib/II',\n 'B2III-IV',\n 'B5Vn...',\n 'B6/B7II',\n 'A3II/III',\n 'G8III/IV',\n 'G7IV',\n 'B7/B8II/III',\n 'G6IV']"
     },
     "execution_count": 242,
     "metadata": {},
     "output_type": "execute_result"
    }
   ],
   "source": [
    "answer"
   ],
   "metadata": {
    "collapsed": false,
    "pycharm": {
     "name": "#%%\n"
    }
   }
  },
  {
   "cell_type": "code",
   "execution_count": 243,
   "outputs": [],
   "source": [
    "data = data[~data.SpType.isin(answer)]"
   ],
   "metadata": {
    "collapsed": false,
    "pycharm": {
     "name": "#%%\n"
    }
   }
  },
  {
   "cell_type": "code",
   "execution_count": 244,
   "outputs": [],
   "source": [
    "color_index = lambda x: 4600 * ((1 / (0.92 * x + 1.7)) + (1 / (0.92 * x + 0.62)))\n",
    "transform_type = lambda x: 99999 if \"V\" in x or \"VI\" in x or \"VII\" in x else -99999\n",
    "round_ = lambda x: round(x, 1)"
   ],
   "metadata": {
    "collapsed": false,
    "pycharm": {
     "name": "#%%\n"
    }
   }
  },
  {
   "cell_type": "code",
   "execution_count": 245,
   "outputs": [],
   "source": [
    "data[\"temp\"] = data[\"B-V\"].apply(color_index)"
   ],
   "metadata": {
    "collapsed": false,
    "pycharm": {
     "name": "#%%\n"
    }
   }
  },
  {
   "cell_type": "code",
   "execution_count": 246,
   "outputs": [
    {
     "data": {
      "text/plain": "       Vmag        Plx     e_Plx       B-V SpType       Amag  TargetClass  \\\n1  4.334196   2.198947  0.593309  1.153210   G2Ib  13.043324            0   \n2  7.873019  11.750465  0.616568  0.589166    F5V  17.736492            1   \n3  8.110014   2.143815  0.848508  1.322107  K2III  15.592469            0   \n4  8.025193   4.165622  0.899296  1.141646  K5III  16.379680            0   \n5  2.899130  11.110086  0.701719  1.095357  M0III  14.370388            0   \n\n          temp  \n1  4402.632871  \n2  6010.288989  \n3  4082.305608  \n4  4426.508743  \n5  4524.866088  ",
      "text/html": "<div>\n<style scoped>\n    .dataframe tbody tr th:only-of-type {\n        vertical-align: middle;\n    }\n\n    .dataframe tbody tr th {\n        vertical-align: top;\n    }\n\n    .dataframe thead th {\n        text-align: right;\n    }\n</style>\n<table border=\"1\" class=\"dataframe\">\n  <thead>\n    <tr style=\"text-align: right;\">\n      <th></th>\n      <th>Vmag</th>\n      <th>Plx</th>\n      <th>e_Plx</th>\n      <th>B-V</th>\n      <th>SpType</th>\n      <th>Amag</th>\n      <th>TargetClass</th>\n      <th>temp</th>\n    </tr>\n  </thead>\n  <tbody>\n    <tr>\n      <th>1</th>\n      <td>4.334196</td>\n      <td>2.198947</td>\n      <td>0.593309</td>\n      <td>1.153210</td>\n      <td>G2Ib</td>\n      <td>13.043324</td>\n      <td>0</td>\n      <td>4402.632871</td>\n    </tr>\n    <tr>\n      <th>2</th>\n      <td>7.873019</td>\n      <td>11.750465</td>\n      <td>0.616568</td>\n      <td>0.589166</td>\n      <td>F5V</td>\n      <td>17.736492</td>\n      <td>1</td>\n      <td>6010.288989</td>\n    </tr>\n    <tr>\n      <th>3</th>\n      <td>8.110014</td>\n      <td>2.143815</td>\n      <td>0.848508</td>\n      <td>1.322107</td>\n      <td>K2III</td>\n      <td>15.592469</td>\n      <td>0</td>\n      <td>4082.305608</td>\n    </tr>\n    <tr>\n      <th>4</th>\n      <td>8.025193</td>\n      <td>4.165622</td>\n      <td>0.899296</td>\n      <td>1.141646</td>\n      <td>K5III</td>\n      <td>16.379680</td>\n      <td>0</td>\n      <td>4426.508743</td>\n    </tr>\n    <tr>\n      <th>5</th>\n      <td>2.899130</td>\n      <td>11.110086</td>\n      <td>0.701719</td>\n      <td>1.095357</td>\n      <td>M0III</td>\n      <td>14.370388</td>\n      <td>0</td>\n      <td>4524.866088</td>\n    </tr>\n  </tbody>\n</table>\n</div>"
     },
     "execution_count": 246,
     "metadata": {},
     "output_type": "execute_result"
    }
   ],
   "source": [
    "data.head()"
   ],
   "metadata": {
    "collapsed": false,
    "pycharm": {
     "name": "#%%\n"
    }
   }
  },
  {
   "cell_type": "code",
   "execution_count": 247,
   "outputs": [],
   "source": [
    "data.SpType = data.SpType.apply(transform_type)"
   ],
   "metadata": {
    "collapsed": false,
    "pycharm": {
     "name": "#%%\n"
    }
   }
  },
  {
   "cell_type": "code",
   "execution_count": 248,
   "outputs": [
    {
     "data": {
      "text/plain": "       Vmag        Plx     e_Plx       B-V  SpType       Amag  TargetClass  \\\n1  4.334196   2.198947  0.593309  1.153210  -99999  13.043324            0   \n2  7.873019  11.750465  0.616568  0.589166   99999  17.736492            1   \n3  8.110014   2.143815  0.848508  1.322107  -99999  15.592469            0   \n4  8.025193   4.165622  0.899296  1.141646  -99999  16.379680            0   \n5  2.899130  11.110086  0.701719  1.095357  -99999  14.370388            0   \n\n          temp  \n1  4402.632871  \n2  6010.288989  \n3  4082.305608  \n4  4426.508743  \n5  4524.866088  ",
      "text/html": "<div>\n<style scoped>\n    .dataframe tbody tr th:only-of-type {\n        vertical-align: middle;\n    }\n\n    .dataframe tbody tr th {\n        vertical-align: top;\n    }\n\n    .dataframe thead th {\n        text-align: right;\n    }\n</style>\n<table border=\"1\" class=\"dataframe\">\n  <thead>\n    <tr style=\"text-align: right;\">\n      <th></th>\n      <th>Vmag</th>\n      <th>Plx</th>\n      <th>e_Plx</th>\n      <th>B-V</th>\n      <th>SpType</th>\n      <th>Amag</th>\n      <th>TargetClass</th>\n      <th>temp</th>\n    </tr>\n  </thead>\n  <tbody>\n    <tr>\n      <th>1</th>\n      <td>4.334196</td>\n      <td>2.198947</td>\n      <td>0.593309</td>\n      <td>1.153210</td>\n      <td>-99999</td>\n      <td>13.043324</td>\n      <td>0</td>\n      <td>4402.632871</td>\n    </tr>\n    <tr>\n      <th>2</th>\n      <td>7.873019</td>\n      <td>11.750465</td>\n      <td>0.616568</td>\n      <td>0.589166</td>\n      <td>99999</td>\n      <td>17.736492</td>\n      <td>1</td>\n      <td>6010.288989</td>\n    </tr>\n    <tr>\n      <th>3</th>\n      <td>8.110014</td>\n      <td>2.143815</td>\n      <td>0.848508</td>\n      <td>1.322107</td>\n      <td>-99999</td>\n      <td>15.592469</td>\n      <td>0</td>\n      <td>4082.305608</td>\n    </tr>\n    <tr>\n      <th>4</th>\n      <td>8.025193</td>\n      <td>4.165622</td>\n      <td>0.899296</td>\n      <td>1.141646</td>\n      <td>-99999</td>\n      <td>16.379680</td>\n      <td>0</td>\n      <td>4426.508743</td>\n    </tr>\n    <tr>\n      <th>5</th>\n      <td>2.899130</td>\n      <td>11.110086</td>\n      <td>0.701719</td>\n      <td>1.095357</td>\n      <td>-99999</td>\n      <td>14.370388</td>\n      <td>0</td>\n      <td>4524.866088</td>\n    </tr>\n  </tbody>\n</table>\n</div>"
     },
     "execution_count": 248,
     "metadata": {},
     "output_type": "execute_result"
    }
   ],
   "source": [
    "data.head()"
   ],
   "metadata": {
    "collapsed": false,
    "pycharm": {
     "name": "#%%\n"
    }
   }
  },
  {
   "cell_type": "code",
   "execution_count": 249,
   "outputs": [],
   "source": [
    "data = data[data.Plx + data.e_Plx > 0]"
   ],
   "metadata": {
    "collapsed": false,
    "pycharm": {
     "name": "#%%\n"
    }
   }
  },
  {
   "cell_type": "code",
   "execution_count": 250,
   "outputs": [],
   "source": [
    "# plt.boxplot(data.Vmag)"
   ],
   "metadata": {
    "collapsed": false,
    "pycharm": {
     "name": "#%%\n"
    }
   }
  },
  {
   "cell_type": "code",
   "execution_count": 251,
   "outputs": [],
   "source": [
    "# data = data[(data.Vmag > 4) & (data.Vmag < 11)]"
   ],
   "metadata": {
    "collapsed": false,
    "pycharm": {
     "name": "#%%\n"
    }
   }
  },
  {
   "cell_type": "code",
   "execution_count": 252,
   "outputs": [],
   "source": [
    "# plt.boxplot(data[\"B-V\"])"
   ],
   "metadata": {
    "collapsed": false,
    "pycharm": {
     "name": "#%%\n"
    }
   }
  },
  {
   "cell_type": "code",
   "execution_count": 253,
   "outputs": [],
   "source": [
    "# data = data[data[\"B-V\"] < 23]"
   ],
   "metadata": {
    "collapsed": false,
    "pycharm": {
     "name": "#%%\n"
    }
   }
  },
  {
   "cell_type": "code",
   "execution_count": 254,
   "outputs": [],
   "source": [
    "# plt.boxplot(data.Amag)"
   ],
   "metadata": {
    "collapsed": false,
    "pycharm": {
     "name": "#%%\n"
    }
   }
  },
  {
   "cell_type": "code",
   "execution_count": 255,
   "outputs": [],
   "source": [
    "# data = data[(data.Amag < 22) & (data.Amag > 10)]"
   ],
   "metadata": {
    "collapsed": false,
    "pycharm": {
     "name": "#%%\n"
    }
   }
  },
  {
   "cell_type": "code",
   "execution_count": 256,
   "outputs": [],
   "source": [
    "data.Amag = data.Amag.apply(round_)\n",
    "data.Vmag = data.Vmag.apply(round_)\n",
    "data.Plx = data.Plx.apply(round_)\n",
    "data.e_Plx = data.e_Plx.apply(round_)\n",
    "data[\"B-V\"] = data[\"B-V\"].apply(round_)\n",
    "data.temp = data.temp.apply(round_)\n",
    "# model[\"BVtype\"] = round(model[\"B-V\"] * model.SpType)"
   ],
   "metadata": {
    "collapsed": false,
    "pycharm": {
     "name": "#%%\n"
    }
   }
  },
  {
   "cell_type": "code",
   "execution_count": 257,
   "outputs": [],
   "source": [
    "# data = data.drop([\"Vmag\", \"Plx\", \"e_Plx\"], axis=1)"
   ],
   "metadata": {
    "collapsed": false,
    "pycharm": {
     "name": "#%%\n"
    }
   }
  },
  {
   "cell_type": "code",
   "execution_count": 258,
   "outputs": [
    {
     "data": {
      "text/plain": "<Figure size 720x720 with 2 Axes>",
      "image/png": "[encoded data removed]"
     },
     "metadata": {},
     "output_type": "display_data"
    }
   ],
   "source": [
    "y = data['TargetClass']\n",
    "X = data.drop(columns=['TargetClass'])\n",
    "\n",
    "X_train, X_test, y_train, y_test = train_test_split(X, y, random_state=42, test_size=0.3)\n",
    "\n",
    "fig = plt.figure(figsize=(10, 10))\n",
    "X_test2 = X_test.copy()\n",
    "X_test2[\"result\"] = y_test\n",
    "data_ploting = X_test2.corr(method='pearson')\n",
    "sns.heatmap(data_ploting, linecolor='black')\n",
    "plt.show()"
   ],
   "metadata": {
    "collapsed": false,
    "pycharm": {
     "name": "#%%\n"
    }
   }
  },
  {
   "cell_type": "code",
   "execution_count": 259,
   "outputs": [
    {
     "data": {
      "text/plain": "   Vmag   Plx  e_Plx  B-V  SpType  Amag  TargetClass    temp\n1   4.3   2.2    0.6  1.2  -99999  13.0            0  4402.6\n2   7.9  11.8    0.6  0.6   99999  17.7            1  6010.3\n3   8.1   2.1    0.8  1.3  -99999  15.6            0  4082.3\n4   8.0   4.2    0.9  1.1  -99999  16.4            0  4426.5\n5   2.9  11.1    0.7  1.1  -99999  14.4            0  4524.9",
      "text/html": "<div>\n<style scoped>\n    .dataframe tbody tr th:only-of-type {\n        vertical-align: middle;\n    }\n\n    .dataframe tbody tr th {\n        vertical-align: top;\n    }\n\n    .dataframe thead th {\n        text-align: right;\n    }\n</style>\n<table border=\"1\" class=\"dataframe\">\n  <thead>\n    <tr style=\"text-align: right;\">\n      <th></th>\n      <th>Vmag</th>\n      <th>Plx</th>\n      <th>e_Plx</th>\n      <th>B-V</th>\n      <th>SpType</th>\n      <th>Amag</th>\n      <th>TargetClass</th>\n      <th>temp</th>\n    </tr>\n  </thead>\n  <tbody>\n    <tr>\n      <th>1</th>\n      <td>4.3</td>\n      <td>2.2</td>\n      <td>0.6</td>\n      <td>1.2</td>\n      <td>-99999</td>\n      <td>13.0</td>\n      <td>0</td>\n      <td>4402.6</td>\n    </tr>\n    <tr>\n      <th>2</th>\n      <td>7.9</td>\n      <td>11.8</td>\n      <td>0.6</td>\n      <td>0.6</td>\n      <td>99999</td>\n      <td>17.7</td>\n      <td>1</td>\n      <td>6010.3</td>\n    </tr>\n    <tr>\n      <th>3</th>\n      <td>8.1</td>\n      <td>2.1</td>\n      <td>0.8</td>\n      <td>1.3</td>\n      <td>-99999</td>\n      <td>15.6</td>\n      <td>0</td>\n      <td>4082.3</td>\n    </tr>\n    <tr>\n      <th>4</th>\n      <td>8.0</td>\n      <td>4.2</td>\n      <td>0.9</td>\n      <td>1.1</td>\n      <td>-99999</td>\n      <td>16.4</td>\n      <td>0</td>\n      <td>4426.5</td>\n    </tr>\n    <tr>\n      <th>5</th>\n      <td>2.9</td>\n      <td>11.1</td>\n      <td>0.7</td>\n      <td>1.1</td>\n      <td>-99999</td>\n      <td>14.4</td>\n      <td>0</td>\n      <td>4524.9</td>\n    </tr>\n  </tbody>\n</table>\n</div>"
     },
     "execution_count": 259,
     "metadata": {},
     "output_type": "execute_result"
    }
   ],
   "source": [
    "data.head()"
   ],
   "metadata": {
    "collapsed": false,
    "pycharm": {
     "name": "#%%\n"
    }
   }
  },
  {
   "cell_type": "code",
   "execution_count": 277,
   "outputs": [
    {
     "name": "stdout",
     "output_type": "stream",
     "text": [
      "Fitting 5 folds for each of 5220 candidates, totalling 26100 fits\n"
     ]
    },
    {
     "name": "stderr",
     "output_type": "stream",
     "text": [
      "\n",
      "KeyboardInterrupt\n",
      "\n"
     ]
    }
   ],
   "source": [
    "\n",
    "%%time\n",
    "params = {\n",
    "    'min_child_weight': [1, 5, 10, 15],\n",
    "    'gamma': [0.5, 1, 1.5, 2, 5],\n",
    "    'subsample': [0.6, 0.8, 1.0],\n",
    "    'colsample_bytree': [0.6, 0.8, 1.0],\n",
    "    'max_depth': range(1, 30)\n",
    "}\n",
    "#rfc = RandomForestClassifier(random_state = 42, n_jobs = -1)\n",
    "rfc = XGBClassifier(learning_rate=0.02, n_estimators=600, objective='binary:logistic', silent=True, nthread=1)\n",
    "folds = 5\n",
    "param_comb = 30\n",
    "\n",
    "skf = StratifiedKFold(n_splits=folds, shuffle = True)\n",
    "\n",
    "random_search = GridSearchCV(rfc, param_grid=params, scoring='roc_auc', n_jobs=4, cv=skf.split(X_train, y_train), verbose=3)\n",
    "\n",
    "\n",
    "random_search.fit(X_train, y_train)"
   ],
   "metadata": {
    "collapsed": false,
    "pycharm": {
     "name": "#%%\n"
    }
   }
  },
  {
   "cell_type": "code",
   "execution_count": 270,
   "outputs": [
    {
     "name": "stdout",
     "output_type": "stream",
     "text": [
      "CPU times: total: 2.03 s\n",
      "Wall time: 286 ms\n"
     ]
    },
    {
     "data": {
      "text/plain": "XGBClassifier(base_score=0.5, booster='gbtree', callbacks=None,\n              colsample_bylevel=1, colsample_bynode=1, colsample_bytree=0.8,\n              early_stopping_rounds=None, enable_categorical=False,\n              eval_metric=None, gamma=1, gpu_id=-1, grow_policy='depthwise',\n              importance_type=None, interaction_constraints='',\n              learning_rate=0.300000012, max_bin=256, max_cat_to_onehot=4,\n              max_delta_step=0, max_depth=14, max_leaves=0, min_child_weight=1,\n              missing=nan, monotone_constraints='()', n_estimators=100,\n              n_jobs=0, num_parallel_tree=1, predictor='auto', random_state=0,\n              reg_alpha=0, reg_lambda=1, ...)"
     },
     "execution_count": 270,
     "metadata": {},
     "output_type": "execute_result"
    }
   ],
   "source": [
    "%%time\n",
    "xgb = XGBClassifier(subsample=0.8,\n",
    "                     min_child_weight=1,\n",
    "                     max_depth=14,\n",
    "                     gamma=1,\n",
    "                     colsample_bytree=0.8)\n",
    "xgb.fit(X_train, y_train)"
   ],
   "metadata": {
    "collapsed": false,
    "pycharm": {
     "name": "#%%\n"
    }
   }
  },
  {
   "cell_type": "code",
   "execution_count": 271,
   "outputs": [
    {
     "data": {
      "text/plain": "{'subsample': 0.8,\n 'min_child_weight': 1,\n 'max_depth': 14,\n 'gamma': 1,\n 'colsample_bytree': 0.8}"
     },
     "execution_count": 271,
     "metadata": {},
     "output_type": "execute_result"
    }
   ],
   "source": [
    "random_search.best_params_"
   ],
   "metadata": {
    "collapsed": false,
    "pycharm": {
     "name": "#%%\n"
    }
   }
  },
  {
   "cell_type": "code",
   "execution_count": 272,
   "outputs": [],
   "source": [
    "pred = xgb.predict(X_test)"
   ],
   "metadata": {
    "collapsed": false,
    "pycharm": {
     "name": "#%%\n"
    }
   }
  },
  {
   "cell_type": "code",
   "execution_count": 273,
   "outputs": [
    {
     "data": {
      "text/plain": "0.9992493823061369"
     },
     "execution_count": 273,
     "metadata": {},
     "output_type": "execute_result"
    }
   ],
   "source": [
    "roc_auc_score(y_test, pred)"
   ],
   "metadata": {
    "collapsed": false,
    "pycharm": {
     "name": "#%%\n"
    }
   }
  },
  {
   "cell_type": "code",
   "execution_count": 222,
   "outputs": [],
   "source": [
    "data_ = pd.read_csv(\"predict.csv\")"
   ],
   "metadata": {
    "collapsed": false,
    "pycharm": {
     "name": "#%%\n"
    }
   }
  },
  {
   "cell_type": "code",
   "execution_count": 223,
   "outputs": [],
   "source": [
    "data_test = data_.copy()"
   ],
   "metadata": {
    "collapsed": false,
    "pycharm": {
     "name": "#%%\n"
    }
   }
  },
  {
   "cell_type": "code",
   "execution_count": 224,
   "outputs": [],
   "source": [
    "data_test[\"temp\"] = data_test[\"B-V\"].apply(color_index)"
   ],
   "metadata": {
    "collapsed": false,
    "pycharm": {
     "name": "#%%\n"
    }
   }
  },
  {
   "cell_type": "code",
   "execution_count": 225,
   "outputs": [
    {
     "data": {
      "text/plain": "False"
     },
     "execution_count": 225,
     "metadata": {},
     "output_type": "execute_result"
    }
   ],
   "source": [
    "list(data.columns) == list(data_test.columns)"
   ],
   "metadata": {
    "collapsed": false,
    "pycharm": {
     "name": "#%%\n"
    }
   }
  },
  {
   "cell_type": "code",
   "execution_count": 226,
   "outputs": [
    {
     "data": {
      "text/plain": "Index(['Vmag', 'Plx', 'e_Plx', 'B-V', 'SpType', 'Amag', 'TargetClass', 'temp'], dtype='object')"
     },
     "execution_count": 226,
     "metadata": {},
     "output_type": "execute_result"
    }
   ],
   "source": [
    "data.columns"
   ],
   "metadata": {
    "collapsed": false,
    "pycharm": {
     "name": "#%%\n"
    }
   }
  },
  {
   "cell_type": "code",
   "execution_count": 227,
   "outputs": [
    {
     "data": {
      "text/plain": "Index(['Vmag', 'Plx', 'e_Plx', 'B-V', 'SpType', 'Amag', 'temp'], dtype='object')"
     },
     "execution_count": 227,
     "metadata": {},
     "output_type": "execute_result"
    }
   ],
   "source": [
    "data_test.columns"
   ],
   "metadata": {
    "collapsed": false,
    "pycharm": {
     "name": "#%%\n"
    }
   }
  },
  {
   "cell_type": "code",
   "execution_count": 228,
   "outputs": [
    {
     "data": {
      "text/plain": "       Vmag        Plx     e_Plx       B-V       SpType       Amag  \\\n0  4.039519  13.596504  0.845101 -0.097823      F5V+...  15.774122   \n1  6.655719   4.010332  1.050017  1.386670        K5III  15.344976   \n2  6.405060   0.348855  0.961598  0.951503       B0IVpe  12.236103   \n3  9.113068   2.954461  1.251422  1.002819        K1III  15.560838   \n4  6.107686   3.144180  0.475795  0.493345  G8II-IIIvar  12.771981   \n\n           temp  \n0  11536.343340  \n1   3972.332732  \n2   4862.277063  \n3   4735.981168  \n4   6419.225528  ",
      "text/html": "<div>\n<style scoped>\n    .dataframe tbody tr th:only-of-type {\n        vertical-align: middle;\n    }\n\n    .dataframe tbody tr th {\n        vertical-align: top;\n    }\n\n    .dataframe thead th {\n        text-align: right;\n    }\n</style>\n<table border=\"1\" class=\"dataframe\">\n  <thead>\n    <tr style=\"text-align: right;\">\n      <th></th>\n      <th>Vmag</th>\n      <th>Plx</th>\n      <th>e_Plx</th>\n      <th>B-V</th>\n      <th>SpType</th>\n      <th>Amag</th>\n      <th>temp</th>\n    </tr>\n  </thead>\n  <tbody>\n    <tr>\n      <th>0</th>\n      <td>4.039519</td>\n      <td>13.596504</td>\n      <td>0.845101</td>\n      <td>-0.097823</td>\n      <td>F5V+...</td>\n      <td>15.774122</td>\n      <td>11536.343340</td>\n    </tr>\n    <tr>\n      <th>1</th>\n      <td>6.655719</td>\n      <td>4.010332</td>\n      <td>1.050017</td>\n      <td>1.386670</td>\n      <td>K5III</td>\n      <td>15.344976</td>\n      <td>3972.332732</td>\n    </tr>\n    <tr>\n      <th>2</th>\n      <td>6.405060</td>\n      <td>0.348855</td>\n      <td>0.961598</td>\n      <td>0.951503</td>\n      <td>B0IVpe</td>\n      <td>12.236103</td>\n      <td>4862.277063</td>\n    </tr>\n    <tr>\n      <th>3</th>\n      <td>9.113068</td>\n      <td>2.954461</td>\n      <td>1.251422</td>\n      <td>1.002819</td>\n      <td>K1III</td>\n      <td>15.560838</td>\n      <td>4735.981168</td>\n    </tr>\n    <tr>\n      <th>4</th>\n      <td>6.107686</td>\n      <td>3.144180</td>\n      <td>0.475795</td>\n      <td>0.493345</td>\n      <td>G8II-IIIvar</td>\n      <td>12.771981</td>\n      <td>6419.225528</td>\n    </tr>\n  </tbody>\n</table>\n</div>"
     },
     "execution_count": 228,
     "metadata": {},
     "output_type": "execute_result"
    }
   ],
   "source": [
    "data_test.head()"
   ],
   "metadata": {
    "collapsed": false,
    "pycharm": {
     "name": "#%%\n"
    }
   }
  },
  {
   "cell_type": "code",
   "execution_count": 229,
   "outputs": [],
   "source": [
    "data_test.SpType = data_test.SpType.apply(transform_type)"
   ],
   "metadata": {
    "collapsed": false,
    "pycharm": {
     "name": "#%%\n"
    }
   }
  },
  {
   "cell_type": "code",
   "execution_count": 230,
   "outputs": [],
   "source": [
    "pred = xgb.predict(data_test.values)"
   ],
   "metadata": {
    "collapsed": false,
    "pycharm": {
     "name": "#%%\n"
    }
   }
  },
  {
   "cell_type": "code",
   "execution_count": 231,
   "outputs": [],
   "source": [
    "data_[\"TargetClass\"] = pred"
   ],
   "metadata": {
    "collapsed": false,
    "pycharm": {
     "name": "#%%\n"
    }
   }
  },
  {
   "cell_type": "code",
   "execution_count": 232,
   "outputs": [
    {
     "data": {
      "text/plain": "          Vmag        Plx     e_Plx       B-V       SpType       Amag  \\\n0     4.039519  13.596504  0.845101 -0.097823      F5V+...  15.774122   \n1     6.655719   4.010332  1.050017  1.386670        K5III  15.344976   \n2     6.405060   0.348855  0.961598  0.951503       B0IVpe  12.236103   \n3     9.113068   2.954461  1.251422  1.002819        K1III  15.560838   \n4     6.107686   3.144180  0.475795  0.493345  G8II-IIIvar  12.771981   \n...        ...        ...       ...       ...          ...        ...   \n7906  8.255272   2.858885  0.822289  1.349195        M3III  16.438014   \n7907  6.255358   3.034436  0.449386  0.966053        K0III  13.898403   \n7908  8.643598  10.932145  0.947897  0.504383          G0V  18.980729   \n7909  9.400810   6.279361  1.332124  0.351073          F2V  16.872491   \n7910  8.792551   2.379289  1.451311  1.110596        K1III  15.737505   \n\n      TargetClass  \n0               1  \n1               0  \n2               0  \n3               0  \n4               0  \n...           ...  \n7906            0  \n7907            0  \n7908            1  \n7909            1  \n7910            0  \n\n[7911 rows x 7 columns]",
      "text/html": "<div>\n<style scoped>\n    .dataframe tbody tr th:only-of-type {\n        vertical-align: middle;\n    }\n\n    .dataframe tbody tr th {\n        vertical-align: top;\n    }\n\n    .dataframe thead th {\n        text-align: right;\n    }\n</style>\n<table border=\"1\" class=\"dataframe\">\n  <thead>\n    <tr style=\"text-align: right;\">\n      <th></th>\n      <th>Vmag</th>\n      <th>Plx</th>\n      <th>e_Plx</th>\n      <th>B-V</th>\n      <th>SpType</th>\n      <th>Amag</th>\n      <th>TargetClass</th>\n    </tr>\n  </thead>\n  <tbody>\n    <tr>\n      <th>0</th>\n      <td>4.039519</td>\n      <td>13.596504</td>\n      <td>0.845101</td>\n      <td>-0.097823</td>\n      <td>F5V+...</td>\n      <td>15.774122</td>\n      <td>1</td>\n    </tr>\n    <tr>\n      <th>1</th>\n      <td>6.655719</td>\n      <td>4.010332</td>\n      <td>1.050017</td>\n      <td>1.386670</td>\n      <td>K5III</td>\n      <td>15.344976</td>\n      <td>0</td>\n    </tr>\n    <tr>\n      <th>2</th>\n      <td>6.405060</td>\n      <td>0.348855</td>\n      <td>0.961598</td>\n      <td>0.951503</td>\n      <td>B0IVpe</td>\n      <td>12.236103</td>\n      <td>0</td>\n    </tr>\n    <tr>\n      <th>3</th>\n      <td>9.113068</td>\n      <td>2.954461</td>\n      <td>1.251422</td>\n      <td>1.002819</td>\n      <td>K1III</td>\n      <td>15.560838</td>\n      <td>0</td>\n    </tr>\n    <tr>\n      <th>4</th>\n      <td>6.107686</td>\n      <td>3.144180</td>\n      <td>0.475795</td>\n      <td>0.493345</td>\n      <td>G8II-IIIvar</td>\n      <td>12.771981</td>\n      <td>0</td>\n    </tr>\n    <tr>\n      <th>...</th>\n      <td>...</td>\n      <td>...</td>\n      <td>...</td>\n      <td>...</td>\n      <td>...</td>\n      <td>...</td>\n      <td>...</td>\n    </tr>\n    <tr>\n      <th>7906</th>\n      <td>8.255272</td>\n      <td>2.858885</td>\n      <td>0.822289</td>\n      <td>1.349195</td>\n      <td>M3III</td>\n      <td>16.438014</td>\n      <td>0</td>\n    </tr>\n    <tr>\n      <th>7907</th>\n      <td>6.255358</td>\n      <td>3.034436</td>\n      <td>0.449386</td>\n      <td>0.966053</td>\n      <td>K0III</td>\n      <td>13.898403</td>\n      <td>0</td>\n    </tr>\n    <tr>\n      <th>7908</th>\n      <td>8.643598</td>\n      <td>10.932145</td>\n      <td>0.947897</td>\n      <td>0.504383</td>\n      <td>G0V</td>\n      <td>18.980729</td>\n      <td>1</td>\n    </tr>\n    <tr>\n      <th>7909</th>\n      <td>9.400810</td>\n      <td>6.279361</td>\n      <td>1.332124</td>\n      <td>0.351073</td>\n      <td>F2V</td>\n      <td>16.872491</td>\n      <td>1</td>\n    </tr>\n    <tr>\n      <th>7910</th>\n      <td>8.792551</td>\n      <td>2.379289</td>\n      <td>1.451311</td>\n      <td>1.110596</td>\n      <td>K1III</td>\n      <td>15.737505</td>\n      <td>0</td>\n    </tr>\n  </tbody>\n</table>\n<p>7911 rows × 7 columns</p>\n</div>"
     },
     "execution_count": 232,
     "metadata": {},
     "output_type": "execute_result"
    }
   ],
   "source": [
    "data_"
   ],
   "metadata": {
    "collapsed": false,
    "pycharm": {
     "name": "#%%\n"
    }
   }
  },
  {
   "cell_type": "code",
   "execution_count": 233,
   "outputs": [],
   "source": [
    "data_.to_csv(\"answer.csv\")"
   ],
   "metadata": {
    "collapsed": false,
    "pycharm": {
     "name": "#%%\n"
    }
   }
  },
  {
   "cell_type": "code",
   "execution_count": null,
   "outputs": [],
   "source": [],
   "metadata": {
    "collapsed": false,
    "pycharm": {
     "name": "#%%\n"
    }
   }
  }
 ],
 "metadata": {
  "kernelspec": {
   "display_name": "Python 3",
   "language": "python",
   "name": "python3"
  },
  "language_info": {
   "codemirror_mode": {
    "name": "ipython",
    "version": 2
   },
   "file_extension": ".py",
   "mimetype": "text/x-python",
   "name": "python",
   "nbconvert_exporter": "python",
   "pygments_lexer": "ipython2",
   "version": "2.7.6"
  }
 },
 "nbformat": 4,
 "nbformat_minor": 0
}