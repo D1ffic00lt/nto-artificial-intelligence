{
  "nbformat": 4,
  "nbformat_minor": 0,
  "metadata": {
    "colab": {
      "provenance": []
    },
    "kernelspec": {
      "name": "python3",
      "display_name": "Python 3"
    },
    "language_info": {
      "name": "python"
    }
  },
  "cells": [
    {
      "cell_type": "markdown",
      "source": [
        "Здесь написан фрагмент кода, который позволит расчитать метрику и визуализировать её. Применити данный фрагмент в своей работе, предварительно адаптировав его."
      ],
      "metadata": {
        "id": "JmW0UhVH9DZm"
      }
    },
    {
      "cell_type": "markdown",
      "source": [
        "Здесь testy - значения целевой переменной на тестовой выборке, а probs - предсказанные алгоритмом значения целевой переменной."
      ],
      "metadata": {
        "id": "NBnEJuFE9Kk4"
      }
    },
    {
      "cell_type": "code",
      "execution_count": null,
      "metadata": {
        "id": "2r0SRtsU9BOI"
      },
      "outputs": [],
      "source": [
        "# рассчитываем ROC AUC\n",
        "auc = roc_auc_score(testy, probs)\n",
        "print('ROC AUC=%.3f' % (auc))"
      ]
    },
    {
      "cell_type": "code",
      "execution_count": null,
      "metadata": {
        "id": "tYx8rXW-9u29"
      },
      "outputs": [],
      "source": [
        "# рассчитываем roc-кривую\n",
        "fpr, tpr, treshold = roc_curve(testy, probs)\n",
        "roc_auc = auc(fpr, tpr)"
      ]
    },
    {
      "cell_type": "code",
      "execution_count": null,
      "metadata": {
        "id": "Qmd0IMox9pg1"
      },
      "outputs": [],
      "source": [
        "# строим график\n",
        "plt.plot(fpr, tpr, color='darkorange',\n",
        "         label='ROC кривая (area = %0.2f)' % roc_auc)\n",
        "plt.plot([0, 1], [0, 1], color='navy', linestyle='--')\n",
        "plt.xlim([0.0, 1.0])\n",
        "plt.ylim([0.0, 1.05])\n",
        "plt.xlabel('False Positive Rate')\n",
        "plt.ylabel('True Positive Rate')\n",
        "plt.title('Пример ROC-кривой')\n",
        "plt.legend(loc=\"lower right\")\n",
        "plt.show()"
      ]
    }
  ]
}