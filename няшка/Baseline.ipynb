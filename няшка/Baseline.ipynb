{
 "metadata": {
  "kernelspec": {
   "language": "python",
   "display_name": "Python 3",
   "name": "python3"
  },
  "language_info": {
   "pygments_lexer": "ipython3",
   "nbconvert_exporter": "python",
   "version": "3.6.4",
   "file_extension": ".py",
   "codemirror_mode": {
    "name": "ipython",
    "version": 3
   },
   "name": "python",
   "mimetype": "text/x-python"
  },
  "colab": {
   "provenance": []
  }
 },
 "nbformat_minor": 0,
 "nbformat": 4,
 "cells": [
  {
   "cell_type": "markdown",
   "source": [
    "# Baseline"
   ],
   "metadata": {
    "id": "MBN9C5_UHIOf",
    "pycharm": {
     "name": "#%% md\n"
    }
   }
  },
  {
   "cell_type": "markdown",
   "source": [
    "##Что такое baseline?"
   ],
   "metadata": {
    "id": "Ff90NkMfLATk",
    "pycharm": {
     "name": "#%% md\n"
    }
   }
  },
  {
   "cell_type": "markdown",
   "source": [
    "**Бейзлайн (от анг. baseline - базовая линия)** - основная простая модель, которая может служить ориентиром для дальнейшей работы и оценки качества. На хакатонах такие модели обычно служат отправной точкой для написания своего кода.\n",
    "\n",
    "Также бейзлайны позволяют понять, какой итоговый результат должна давать модель. Например, в нашем случае это файл для отправки на платформу.\n"
   ],
   "metadata": {
    "id": "oTwex6EyHIpx",
    "pycharm": {
     "name": "#%% md\n"
    }
   }
  },
  {
   "cell_type": "markdown",
   "source": [
    "##Как работать с бейзлайном?"
   ],
   "metadata": {
    "id": "7lH3HgCYK1JO",
    "pycharm": {
     "name": "#%% md\n"
    }
   }
  },
  {
   "cell_type": "markdown",
   "source": [
    "1) Запустите бейзлайн, получите ответ и отправьте его на плфторму проведения, чтобы посмотреть на изначальные результаты работы, а также обозначить себя на лидерборде.\n",
    "\n",
    "\n",
    "\n",
    "\n",
    "2) Внимательно познакомьтесь с данными, поищите дополнительную информацию в интернете на тему данных, разберитесь в признаках и теме.\n",
    "\n",
    "\n",
    "\n",
    "\n",
    "3) Попробуйте улучшить предобработку данных: сделайте визуализации, ставьте и проверяйте гипотезы. Для проверки ваших гипотез отправляйте результат на платформу и следите за изменением вашего места на турнирной таблице.\n",
    "\n",
    "\n",
    "\n",
    "\n",
    "4) Подумайте о том, какими инструментами лучше решить представленную задачу машинного обучения. В нашем случае это задача бинарной классификации."
   ],
   "metadata": {
    "id": "iSpLAF6gK-aH",
    "pycharm": {
     "name": "#%% md\n"
    }
   }
  },
  {
   "cell_type": "markdown",
   "source": [
    "##Код бейзлайна."
   ],
   "metadata": {
    "id": "nfq2I4kSaFIw",
    "pycharm": {
     "name": "#%% md\n"
    }
   }
  },
  {
   "cell_type": "markdown",
   "source": [
    "Сначала выполним импорт всех необходимых библиотек."
   ],
   "metadata": {
    "id": "i2CrCDCsInxy",
    "pycharm": {
     "name": "#%% md\n"
    }
   }
  },
  {
   "cell_type": "code",
   "source": [
    "import numpy as np\n",
    "import pandas as pd\n",
    "from sklearn.model_selection import train_test_split\n",
    "from sklearn.metrics import roc_auc_score, accuracy_score, roc_curve, auc\n",
    "from sklearn.ensemble import RandomForestClassifier, GradientBoostingClassifier\n",
    "from sklearn.preprocessing import LabelEncoder\n",
    "from xgboost import XGBClassifier, plot_importance\n",
    "import matplotlib.pyplot as plt\n",
    "import warnings\n",
    "import seaborn as sns\n",
    "from sklearn.neighbors import KNeighborsClassifier\n",
    "from catboost import CatBoostClassifier\n",
    "from hyperopt import STATUS_OK, Trials, fmin, hp, tpe\n",
    "import math"
   ],
   "metadata": {
    "id": "5RIuYt0nhWBw",
    "executionInfo": {
     "status": "ok",
     "timestamp": 1664794657223,
     "user_tz": -180,
     "elapsed": 345,
     "user": {
      "displayName": "Taisia Klepova",
      "userId": "18081598006309729337"
     }
    },
    "pycharm": {
     "name": "#%%\n"
    }
   },
   "execution_count": 913,
   "outputs": []
  },
  {
   "cell_type": "code",
   "execution_count": 914,
   "outputs": [],
   "source": [
    "warnings.filterwarnings(\"ignore\")"
   ],
   "metadata": {
    "collapsed": false,
    "pycharm": {
     "name": "#%%\n"
    }
   }
  },
  {
   "cell_type": "markdown",
   "source": [
    "Здесь мы открываем файлы из папки data: данные для обучения модели и для предсказания."
   ],
   "metadata": {
    "id": "vuYadcMAIuHn",
    "pycharm": {
     "name": "#%% md\n"
    }
   }
  },
  {
   "cell_type": "code",
   "source": [
    "model = pd.read_csv('train-2.csv')\n",
    "check = pd.read_csv('predict.csv')"
   ],
   "metadata": {
    "id": "eLG-NJsMhj0H",
    "executionInfo": {
     "status": "ok",
     "timestamp": 1664794658637,
     "user_tz": -180,
     "elapsed": 241,
     "user": {
      "displayName": "Taisia Klepova",
      "userId": "18081598006309729337"
     }
    },
    "pycharm": {
     "name": "#%%\n"
    }
   },
   "execution_count": 1001,
   "outputs": []
  },
  {
   "cell_type": "code",
   "execution_count": 1004,
   "outputs": [
    {
     "data": {
      "text/plain": "28"
     },
     "execution_count": 1004,
     "metadata": {},
     "output_type": "execute_result"
    }
   ],
   "source": [
    "len(model.loc[model.Vmag < 0])"
   ],
   "metadata": {
    "collapsed": false,
    "pycharm": {
     "name": "#%%\n"
    }
   }
  },
  {
   "cell_type": "code",
   "execution_count": null,
   "outputs": [],
   "source": [],
   "metadata": {
    "collapsed": false,
    "pycharm": {
     "name": "#%%\n"
    }
   }
  },
  {
   "cell_type": "code",
   "execution_count": 975,
   "outputs": [
    {
     "data": {
      "text/plain": "1841"
     },
     "execution_count": 975,
     "metadata": {},
     "output_type": "execute_result"
    }
   ],
   "source": [
    "le = LabelEncoder()\n",
    "label = le.fit_transform(model['SpType'])\n",
    "sorted(set(label))[-1]"
   ],
   "metadata": {
    "collapsed": false,
    "pycharm": {
     "name": "#%%\n"
    }
   }
  },
  {
   "cell_type": "code",
   "source": [
    "model['TargetClass'].value_counts()"
   ],
   "metadata": {
    "id": "6sHZR9uhQ4wm",
    "outputId": "9db2139a-0acf-42cf-928b-c257d59af783",
    "colab": {
     "base_uri": "https://localhost:8080/"
    },
    "executionInfo": {
     "status": "ok",
     "timestamp": 1664794668131,
     "user_tz": -180,
     "elapsed": 2,
     "user": {
      "displayName": "Taisia Klepova",
      "userId": "18081598006309729337"
     }
    },
    "pycharm": {
     "name": "#%%\n"
    }
   },
   "execution_count": 977,
   "outputs": [
    {
     "data": {
      "text/plain": "0    15842\n1    15799\nName: TargetClass, dtype: int64"
     },
     "execution_count": 977,
     "metadata": {},
     "output_type": "execute_result"
    }
   ]
  },
  {
   "cell_type": "code",
   "execution_count": 976,
   "outputs": [],
   "source": [
    "model.drop(\"SpType\", axis=1, inplace=True)\n",
    "model[\"SpType\"] = label"
   ],
   "metadata": {
    "collapsed": false,
    "pycharm": {
     "name": "#%%\n"
    }
   }
  },
  {
   "cell_type": "code",
   "execution_count": 978,
   "outputs": [
    {
     "data": {
      "text/plain": "Index(['Vmag', 'Plx', 'e_Plx', 'B-V', 'Amag', 'TargetClass', 'SpType'], dtype='object')"
     },
     "execution_count": 978,
     "metadata": {},
     "output_type": "execute_result"
    }
   ],
   "source": [
    "model.columns"
   ],
   "metadata": {
    "collapsed": false,
    "pycharm": {
     "name": "#%%\n"
    }
   }
  },
  {
   "cell_type": "code",
   "execution_count": 979,
   "outputs": [],
   "source": [
    "model.Amag = model.Amag.apply(lambda x: math.ceil(x))\n",
    "model.Vmag = model.Vmag.apply(lambda x: math.ceil(x))\n",
    "model.Plx = model.Plx.apply(lambda x: math.ceil(x))\n",
    "model.e_Plx = model.e_Plx.apply(lambda x: math.ceil(x))\n",
    "model[\"B-V\"] = model[\"B-V\"].apply(lambda x: math.ceil(x))"
   ],
   "metadata": {
    "collapsed": false,
    "pycharm": {
     "name": "#%%\n"
    }
   }
  },
  {
   "cell_type": "code",
   "execution_count": 980,
   "outputs": [],
   "source": [
    "# model[\"BVtype\"] = round(model[\"B-V\"] * model.SpType)"
   ],
   "metadata": {
    "collapsed": false,
    "pycharm": {
     "name": "#%%\n"
    }
   }
  },
  {
   "cell_type": "code",
   "execution_count": 981,
   "outputs": [],
   "source": [
    "model = model.drop([\"e_Plx\", \"Plx\", \"Vmag\", \"Amag\", \"B-V\"], axis=1)"
   ],
   "metadata": {
    "collapsed": false,
    "pycharm": {
     "name": "#%%\n"
    }
   }
  },
  {
   "cell_type": "markdown",
   "source": [
    "Делим наши данные на train и test. Не забываем, что нам нужно предсказать является ли звезда гигантом или карликом."
   ],
   "metadata": {
    "id": "32ftkdZ5KJR2",
    "pycharm": {
     "name": "#%% md\n"
    }
   }
  },
  {
   "cell_type": "code",
   "source": [
    "y = model['TargetClass']\n",
    "X = model.drop(columns=['TargetClass'])\n",
    "\n",
    "X_train, X_test, y_train, y_test = train_test_split(X, y, random_state = 42, test_size = 0.3)"
   ],
   "metadata": {
    "id": "FIqB_CH5Q4rp",
    "executionInfo": {
     "status": "ok",
     "timestamp": 1664794669088,
     "user_tz": -180,
     "elapsed": 3,
     "user": {
      "displayName": "Taisia Klepova",
      "userId": "18081598006309729337"
     }
    },
    "pycharm": {
     "name": "#%%\n"
    }
   },
   "execution_count": 982,
   "outputs": []
  },
  {
   "cell_type": "code",
   "execution_count": 982,
   "outputs": [],
   "source": [],
   "metadata": {
    "collapsed": false,
    "pycharm": {
     "name": "#%%\n"
    }
   }
  },
  {
   "cell_type": "code",
   "execution_count": 983,
   "outputs": [
    {
     "data": {
      "text/plain": "<Figure size 720x720 with 2 Axes>",
      "image/png": "[encoded data removed]"
     },
     "metadata": {
      "needs_background": "light"
     },
     "output_type": "display_data"
    }
   ],
   "source": [
    "fig = plt.figure(figsize = (10, 10))\n",
    "X_test2 = X_test\n",
    "X_test2[\"result\"] = y_test\n",
    "data_ploting = X_test2.corr(method= 'pearson')\n",
    "sns.heatmap(data_ploting, linecolor='black')\n",
    "plt.show()"
   ],
   "metadata": {
    "collapsed": false,
    "pycharm": {
     "name": "#%%\n"
    }
   }
  },
  {
   "cell_type": "markdown",
   "source": [
    "    Модель, выбранная в бейзлайне - случайный лес. Она не является оптимальной, но быстро обучается и позволяет получить результат, который выше случайного. Можете начать улучшать бейзлайлн с того, что попробовать изменить гиперпараметры представленного случайного леса."
   ],
   "metadata": {
    "id": "awb5dJF8KTW0",
    "pycharm": {
     "name": "#%% md\n"
    }
   }
  },
  {
   "cell_type": "code",
   "source": [
    "%%time\n",
    "xgb = XGBClassifier(n_estimators=300)\n",
    "xgb.fit(X_train, y_train)"
   ],
   "metadata": {
    "id": "7n9P6T5nQ4pB",
    "outputId": "a36d3806-cf5d-4c9c-eddc-93528163fd37",
    "colab": {
     "base_uri": "https://localhost:8080/"
    },
    "executionInfo": {
     "status": "ok",
     "timestamp": 1664794674366,
     "user_tz": -180,
     "elapsed": 3898,
     "user": {
      "displayName": "Taisia Klepova",
      "userId": "18081598006309729337"
     }
    },
    "pycharm": {
     "name": "#%%\n"
    }
   },
   "execution_count": 984,
   "outputs": [
    {
     "name": "stdout",
     "output_type": "stream",
     "text": [
      "CPU times: user 4.47 s, sys: 2.14 s, total: 6.61 s\n",
      "Wall time: 1.23 s\n"
     ]
    },
    {
     "data": {
      "text/plain": "XGBClassifier(base_score=0.5, booster='gbtree', callbacks=None,\n              colsample_bylevel=1, colsample_bynode=1, colsample_bytree=1,\n              early_stopping_rounds=None, enable_categorical=False,\n              eval_metric=None, gamma=0, gpu_id=-1, grow_policy='depthwise',\n              importance_type=None, interaction_constraints='',\n              learning_rate=0.300000012, max_bin=256, max_cat_to_onehot=4,\n              max_delta_step=0, max_depth=6, max_leaves=0, min_child_weight=1,\n              missing=nan, monotone_constraints='()', n_estimators=300,\n              n_jobs=0, num_parallel_tree=1, predictor='auto', random_state=0,\n              reg_alpha=0, reg_lambda=1, ...)"
     },
     "execution_count": 984,
     "metadata": {},
     "output_type": "execute_result"
    }
   ]
  },
  {
   "cell_type": "code",
   "execution_count": 985,
   "outputs": [],
   "source": [
    "X_test = X_test.drop(\"result\", axis=1)"
   ],
   "metadata": {
    "collapsed": false,
    "pycharm": {
     "name": "#%%\n"
    }
   }
  },
  {
   "cell_type": "code",
   "source": [
    "pred = xgb.predict(X_test)"
   ],
   "metadata": {
    "id": "OCCWOn4MQ4mQ",
    "executionInfo": {
     "status": "ok",
     "timestamp": 1664794679586,
     "user_tz": -180,
     "elapsed": 240,
     "user": {
      "displayName": "Taisia Klepova",
      "userId": "18081598006309729337"
     }
    },
    "pycharm": {
     "name": "#%%\n"
    }
   },
   "execution_count": 986,
   "outputs": []
  },
  {
   "cell_type": "markdown",
   "source": [
    "Здесь мы оцениваем то, насколько точно работает наша модель. Здесь мы смотрим на ROC-AUC метрику."
   ],
   "metadata": {
    "id": "d9-mACYuK4W_",
    "pycharm": {
     "name": "#%% md\n"
    }
   }
  },
  {
   "cell_type": "code",
   "source": [
    "roc_auc_score(y_test, pred)"
   ],
   "metadata": {
    "id": "KFfke_QoQ4aS",
    "outputId": "8d557cce-5dea-4ec0-be9a-84b4d159efdc",
    "colab": {
     "base_uri": "https://localhost:8080/"
    },
    "executionInfo": {
     "status": "ok",
     "timestamp": 1664794681491,
     "user_tz": -180,
     "elapsed": 3,
     "user": {
      "displayName": "Taisia Klepova",
      "userId": "18081598006309729337"
     }
    },
    "pycharm": {
     "name": "#%%\n"
    }
   },
   "execution_count": 987,
   "outputs": [
    {
     "data": {
      "text/plain": "0.9813534488039111"
     },
     "execution_count": 987,
     "metadata": {},
     "output_type": "execute_result"
    }
   ]
  },
  {
   "cell_type": "markdown",
   "source": [
    "Далее мы обращаемся к данным, для которых нам необходимо сделать предсказание и применить модель."
   ],
   "metadata": {
    "id": "eTHzJJU_LJEv",
    "pycharm": {
     "name": "#%% md\n"
    }
   }
  },
  {
   "cell_type": "code",
   "source": [
    "check.info()"
   ],
   "metadata": {
    "id": "h_oIgLYhTLud",
    "outputId": "0e8ad4e7-54fc-41c5-d9db-58b5388468cf",
    "colab": {
     "base_uri": "https://localhost:8080/"
    },
    "executionInfo": {
     "status": "ok",
     "timestamp": 1664794683109,
     "user_tz": -180,
     "elapsed": 343,
     "user": {
      "displayName": "Taisia Klepova",
      "userId": "18081598006309729337"
     }
    },
    "pycharm": {
     "name": "#%%\n"
    }
   },
   "execution_count": 988,
   "outputs": [
    {
     "name": "stdout",
     "output_type": "stream",
     "text": [
      "<class 'pandas.core.frame.DataFrame'>\n",
      "RangeIndex: 7911 entries, 0 to 7910\n",
      "Data columns (total 6 columns):\n",
      " #   Column  Non-Null Count  Dtype  \n",
      "---  ------  --------------  -----  \n",
      " 0   Vmag    7911 non-null   float64\n",
      " 1   Plx     7911 non-null   float64\n",
      " 2   e_Plx   7911 non-null   float64\n",
      " 3   B-V     7911 non-null   float64\n",
      " 4   SpType  7911 non-null   object \n",
      " 5   Amag    7911 non-null   float64\n",
      "dtypes: float64(5), object(1)\n",
      "memory usage: 371.0+ KB\n"
     ]
    }
   ]
  },
  {
   "cell_type": "markdown",
   "source": [
    "Применяем разработанную модель к нашим данным, но до этого необходимо преобразоват признак \"SpType\"."
   ],
   "metadata": {
    "id": "6TotUDF-LRyY",
    "pycharm": {
     "name": "#%% md\n"
    }
   }
  },
  {
   "cell_type": "code",
   "source": [
    "label = le.fit_transform(check['SpType'])\n",
    "label"
   ],
   "metadata": {
    "colab": {
     "base_uri": "https://localhost:8080/"
    },
    "id": "VAxL4b92fRJM",
    "executionInfo": {
     "status": "ok",
     "timestamp": 1664794684568,
     "user_tz": -180,
     "elapsed": 6,
     "user": {
      "displayName": "Taisia Klepova",
      "userId": "18081598006309729337"
     }
    },
    "outputId": "57ae0fef-8eb7-4de7-ce3b-2a2b8ce9bf09",
    "pycharm": {
     "name": "#%%\n"
    }
   },
   "execution_count": 989,
   "outputs": [
    {
     "data": {
      "text/plain": "array([ 620, 1027,  231, ...,  709,  560,  931])"
     },
     "execution_count": 989,
     "metadata": {},
     "output_type": "execute_result"
    }
   ]
  },
  {
   "cell_type": "code",
   "source": [
    "check.drop(\"SpType\", axis=1, inplace=True)\n",
    "check[\"SpType\"] = label"
   ],
   "metadata": {
    "id": "DNdt7Fc1fUb6",
    "executionInfo": {
     "status": "ok",
     "timestamp": 1664794685522,
     "user_tz": -180,
     "elapsed": 2,
     "user": {
      "displayName": "Taisia Klepova",
      "userId": "18081598006309729337"
     }
    },
    "pycharm": {
     "name": "#%%\n"
    }
   },
   "execution_count": 990,
   "outputs": []
  },
  {
   "cell_type": "code",
   "execution_count": 991,
   "outputs": [
    {
     "data": {
      "text/plain": "          Vmag        Plx     e_Plx       B-V       Amag  SpType\n0     4.039519  13.596504  0.845101 -0.097823  15.774122     620\n1     6.655719   4.010332  1.050017  1.386670  15.344976    1027\n2     6.405060   0.348855  0.961598  0.951503  12.236103     231\n3     9.113068   2.954461  1.251422  1.002819  15.560838     931\n4     6.107686   3.144180  0.475795  0.493345  12.771981     839\n...        ...        ...       ...       ...        ...     ...\n7906  8.255272   2.858885  0.822289  1.349195  16.438014    1075\n7907  6.255358   3.034436  0.449386  0.966053  13.898403     888\n7908  8.643598  10.932145  0.947897  0.504383  18.980729     709\n7909  9.400810   6.279361  1.332124  0.351073  16.872491     560\n7910  8.792551   2.379289  1.451311  1.110596  15.737505     931\n\n[7911 rows x 6 columns]",
      "text/html": "<div>\n<style scoped>\n    .dataframe tbody tr th:only-of-type {\n        vertical-align: middle;\n    }\n\n    .dataframe tbody tr th {\n        vertical-align: top;\n    }\n\n    .dataframe thead th {\n        text-align: right;\n    }\n</style>\n<table border=\"1\" class=\"dataframe\">\n  <thead>\n    <tr style=\"text-align: right;\">\n      <th></th>\n      <th>Vmag</th>\n      <th>Plx</th>\n      <th>e_Plx</th>\n      <th>B-V</th>\n      <th>Amag</th>\n      <th>SpType</th>\n    </tr>\n  </thead>\n  <tbody>\n    <tr>\n      <th>0</th>\n      <td>4.039519</td>\n      <td>13.596504</td>\n      <td>0.845101</td>\n      <td>-0.097823</td>\n      <td>15.774122</td>\n      <td>620</td>\n    </tr>\n    <tr>\n      <th>1</th>\n      <td>6.655719</td>\n      <td>4.010332</td>\n      <td>1.050017</td>\n      <td>1.386670</td>\n      <td>15.344976</td>\n      <td>1027</td>\n    </tr>\n    <tr>\n      <th>2</th>\n      <td>6.405060</td>\n      <td>0.348855</td>\n      <td>0.961598</td>\n      <td>0.951503</td>\n      <td>12.236103</td>\n      <td>231</td>\n    </tr>\n    <tr>\n      <th>3</th>\n      <td>9.113068</td>\n      <td>2.954461</td>\n      <td>1.251422</td>\n      <td>1.002819</td>\n      <td>15.560838</td>\n      <td>931</td>\n    </tr>\n    <tr>\n      <th>4</th>\n      <td>6.107686</td>\n      <td>3.144180</td>\n      <td>0.475795</td>\n      <td>0.493345</td>\n      <td>12.771981</td>\n      <td>839</td>\n    </tr>\n    <tr>\n      <th>...</th>\n      <td>...</td>\n      <td>...</td>\n      <td>...</td>\n      <td>...</td>\n      <td>...</td>\n      <td>...</td>\n    </tr>\n    <tr>\n      <th>7906</th>\n      <td>8.255272</td>\n      <td>2.858885</td>\n      <td>0.822289</td>\n      <td>1.349195</td>\n      <td>16.438014</td>\n      <td>1075</td>\n    </tr>\n    <tr>\n      <th>7907</th>\n      <td>6.255358</td>\n      <td>3.034436</td>\n      <td>0.449386</td>\n      <td>0.966053</td>\n      <td>13.898403</td>\n      <td>888</td>\n    </tr>\n    <tr>\n      <th>7908</th>\n      <td>8.643598</td>\n      <td>10.932145</td>\n      <td>0.947897</td>\n      <td>0.504383</td>\n      <td>18.980729</td>\n      <td>709</td>\n    </tr>\n    <tr>\n      <th>7909</th>\n      <td>9.400810</td>\n      <td>6.279361</td>\n      <td>1.332124</td>\n      <td>0.351073</td>\n      <td>16.872491</td>\n      <td>560</td>\n    </tr>\n    <tr>\n      <th>7910</th>\n      <td>8.792551</td>\n      <td>2.379289</td>\n      <td>1.451311</td>\n      <td>1.110596</td>\n      <td>15.737505</td>\n      <td>931</td>\n    </tr>\n  </tbody>\n</table>\n<p>7911 rows × 6 columns</p>\n</div>"
     },
     "execution_count": 991,
     "metadata": {},
     "output_type": "execute_result"
    }
   ],
   "source": [
    "check"
   ],
   "metadata": {
    "collapsed": false,
    "pycharm": {
     "name": "#%%\n"
    }
   }
  },
  {
   "cell_type": "code",
   "execution_count": 992,
   "outputs": [],
   "source": [
    "pred = check[['SpType']]"
   ],
   "metadata": {
    "collapsed": false,
    "pycharm": {
     "name": "#%%\n"
    }
   }
  },
  {
   "cell_type": "code",
   "execution_count": 993,
   "outputs": [],
   "source": [
    "pred = xgb.predict(pred)"
   ],
   "metadata": {
    "collapsed": false,
    "pycharm": {
     "name": "#%%\n"
    }
   }
  },
  {
   "cell_type": "code",
   "execution_count": 993,
   "outputs": [],
   "source": [],
   "metadata": {
    "collapsed": false,
    "pycharm": {
     "name": "#%%\n"
    }
   }
  },
  {
   "cell_type": "markdown",
   "source": [
    "Сохарняем результат в таком формате, чтобы его затем можно было бы вывести как CSV файл и выгружаем итоговый результат."
   ],
   "metadata": {
    "id": "1DtV0_U_LU7x",
    "pycharm": {
     "name": "#%% md\n"
    }
   }
  },
  {
   "cell_type": "code",
   "source": [
    "pred = pd.Series(pred)"
   ],
   "metadata": {
    "id": "nqEr4u8IpL_l",
    "executionInfo": {
     "status": "ok",
     "timestamp": 1664794690638,
     "user_tz": -180,
     "elapsed": 2,
     "user": {
      "displayName": "Taisia Klepova",
      "userId": "18081598006309729337"
     }
    },
    "pycharm": {
     "name": "#%%\n"
    }
   },
   "execution_count": 994,
   "outputs": []
  },
  {
   "cell_type": "code",
   "source": [
    "pred.head(10)"
   ],
   "metadata": {
    "id": "gopcuhm029vl",
    "outputId": "ca9611fd-df7f-45a2-e95b-c1bb630087b9",
    "colab": {
     "base_uri": "https://localhost:8080/"
    },
    "executionInfo": {
     "status": "ok",
     "timestamp": 1664794693788,
     "user_tz": -180,
     "elapsed": 427,
     "user": {
      "displayName": "Taisia Klepova",
      "userId": "18081598006309729337"
     }
    },
    "pycharm": {
     "name": "#%%\n"
    }
   },
   "execution_count": 995,
   "outputs": [
    {
     "data": {
      "text/plain": "0    1\n1    1\n2    1\n3    0\n4    1\n5    1\n6    0\n7    1\n8    0\n9    1\ndtype: int64"
     },
     "execution_count": 995,
     "metadata": {},
     "output_type": "execute_result"
    }
   ]
  },
  {
   "cell_type": "code",
   "source": [
    "pred.to_csv('Result.csv')\n",
    "pred_file = pd.read_csv('Result.csv')\n",
    "pred_file.head(10)"
   ],
   "metadata": {
    "id": "7iJeuisT36wx",
    "outputId": "1e2899bf-7eea-4f8a-f972-69dcd7597a25",
    "colab": {
     "base_uri": "https://localhost:8080/",
     "height": 363
    },
    "executionInfo": {
     "status": "ok",
     "timestamp": 1664794709342,
     "user_tz": -180,
     "elapsed": 236,
     "user": {
      "displayName": "Taisia Klepova",
      "userId": "18081598006309729337"
     }
    },
    "pycharm": {
     "name": "#%%\n"
    }
   },
   "execution_count": 963,
   "outputs": [
    {
     "data": {
      "text/plain": "   Unnamed: 0  0\n0           0  1\n1           1  1\n2           2  1\n3           3  0\n4           4  1\n5           5  1\n6           6  0\n7           7  1\n8           8  0\n9           9  1",
      "text/html": "<div>\n<style scoped>\n    .dataframe tbody tr th:only-of-type {\n        vertical-align: middle;\n    }\n\n    .dataframe tbody tr th {\n        vertical-align: top;\n    }\n\n    .dataframe thead th {\n        text-align: right;\n    }\n</style>\n<table border=\"1\" class=\"dataframe\">\n  <thead>\n    <tr style=\"text-align: right;\">\n      <th></th>\n      <th>Unnamed: 0</th>\n      <th>0</th>\n    </tr>\n  </thead>\n  <tbody>\n    <tr>\n      <th>0</th>\n      <td>0</td>\n      <td>1</td>\n    </tr>\n    <tr>\n      <th>1</th>\n      <td>1</td>\n      <td>1</td>\n    </tr>\n    <tr>\n      <th>2</th>\n      <td>2</td>\n      <td>1</td>\n    </tr>\n    <tr>\n      <th>3</th>\n      <td>3</td>\n      <td>0</td>\n    </tr>\n    <tr>\n      <th>4</th>\n      <td>4</td>\n      <td>1</td>\n    </tr>\n    <tr>\n      <th>5</th>\n      <td>5</td>\n      <td>1</td>\n    </tr>\n    <tr>\n      <th>6</th>\n      <td>6</td>\n      <td>0</td>\n    </tr>\n    <tr>\n      <th>7</th>\n      <td>7</td>\n      <td>1</td>\n    </tr>\n    <tr>\n      <th>8</th>\n      <td>8</td>\n      <td>0</td>\n    </tr>\n    <tr>\n      <th>9</th>\n      <td>9</td>\n      <td>1</td>\n    </tr>\n  </tbody>\n</table>\n</div>"
     },
     "execution_count": 963,
     "metadata": {},
     "output_type": "execute_result"
    }
   ]
  },
  {
   "cell_type": "code",
   "source": [
    "pred_file.rename(columns={'0': 'TargetClass','Unnamed: 0':'Number'}, inplace=True)"
   ],
   "metadata": {
    "id": "mmh3vfTB4h0d",
    "executionInfo": {
     "status": "ok",
     "timestamp": 1664794772539,
     "user_tz": -180,
     "elapsed": 276,
     "user": {
      "displayName": "Taisia Klepova",
      "userId": "18081598006309729337"
     }
    },
    "pycharm": {
     "name": "#%%\n"
    }
   },
   "execution_count": 964,
   "outputs": []
  },
  {
   "cell_type": "code",
   "source": [
    "pred_file.head(10)"
   ],
   "metadata": {
    "id": "gRS8AmVc4uO1",
    "outputId": "634e092f-81de-4bbe-ece0-78d3afddebf8",
    "colab": {
     "base_uri": "https://localhost:8080/",
     "height": 363
    },
    "executionInfo": {
     "status": "ok",
     "timestamp": 1664794774657,
     "user_tz": -180,
     "elapsed": 386,
     "user": {
      "displayName": "Taisia Klepova",
      "userId": "18081598006309729337"
     }
    },
    "pycharm": {
     "name": "#%%\n"
    }
   },
   "execution_count": 965,
   "outputs": [
    {
     "data": {
      "text/plain": "   Number  TargetClass\n0       0            1\n1       1            1\n2       2            1\n3       3            0\n4       4            1\n5       5            1\n6       6            0\n7       7            1\n8       8            0\n9       9            1",
      "text/html": "<div>\n<style scoped>\n    .dataframe tbody tr th:only-of-type {\n        vertical-align: middle;\n    }\n\n    .dataframe tbody tr th {\n        vertical-align: top;\n    }\n\n    .dataframe thead th {\n        text-align: right;\n    }\n</style>\n<table border=\"1\" class=\"dataframe\">\n  <thead>\n    <tr style=\"text-align: right;\">\n      <th></th>\n      <th>Number</th>\n      <th>TargetClass</th>\n    </tr>\n  </thead>\n  <tbody>\n    <tr>\n      <th>0</th>\n      <td>0</td>\n      <td>1</td>\n    </tr>\n    <tr>\n      <th>1</th>\n      <td>1</td>\n      <td>1</td>\n    </tr>\n    <tr>\n      <th>2</th>\n      <td>2</td>\n      <td>1</td>\n    </tr>\n    <tr>\n      <th>3</th>\n      <td>3</td>\n      <td>0</td>\n    </tr>\n    <tr>\n      <th>4</th>\n      <td>4</td>\n      <td>1</td>\n    </tr>\n    <tr>\n      <th>5</th>\n      <td>5</td>\n      <td>1</td>\n    </tr>\n    <tr>\n      <th>6</th>\n      <td>6</td>\n      <td>0</td>\n    </tr>\n    <tr>\n      <th>7</th>\n      <td>7</td>\n      <td>1</td>\n    </tr>\n    <tr>\n      <th>8</th>\n      <td>8</td>\n      <td>0</td>\n    </tr>\n    <tr>\n      <th>9</th>\n      <td>9</td>\n      <td>1</td>\n    </tr>\n  </tbody>\n</table>\n</div>"
     },
     "execution_count": 965,
     "metadata": {},
     "output_type": "execute_result"
    }
   ]
  },
  {
   "cell_type": "markdown",
   "source": [
    "Удалим ненужные столбцы."
   ],
   "metadata": {
    "id": "C5RkELMi3I7m",
    "pycharm": {
     "name": "#%% md\n"
    }
   }
  },
  {
   "cell_type": "code",
   "source": [
    "check=check.join(pred_file)"
   ],
   "metadata": {
    "id": "BK7rh23X3UMN",
    "executionInfo": {
     "status": "ok",
     "timestamp": 1664794782046,
     "user_tz": -180,
     "elapsed": 412,
     "user": {
      "displayName": "Taisia Klepova",
      "userId": "18081598006309729337"
     }
    },
    "pycharm": {
     "name": "#%%\n"
    }
   },
   "execution_count": 966,
   "outputs": []
  },
  {
   "cell_type": "code",
   "source": [
    "check.head()"
   ],
   "metadata": {
    "colab": {
     "base_uri": "https://localhost:8080/",
     "height": 206
    },
    "id": "IWIa1hEJgOYs",
    "executionInfo": {
     "status": "ok",
     "timestamp": 1664794820193,
     "user_tz": -180,
     "elapsed": 243,
     "user": {
      "displayName": "Taisia Klepova",
      "userId": "18081598006309729337"
     }
    },
    "outputId": "18e18416-3501-4203-c4cf-0fec2e5dc08e",
    "pycharm": {
     "name": "#%%\n"
    }
   },
   "execution_count": 967,
   "outputs": [
    {
     "data": {
      "text/plain": "       Vmag        Plx     e_Plx       B-V       Amag  SpType  Number  \\\n0  4.039519  13.596504  0.845101 -0.097823  15.774122     620       0   \n1  6.655719   4.010332  1.050017  1.386670  15.344976    1027       1   \n2  6.405060   0.348855  0.961598  0.951503  12.236103     231       2   \n3  9.113068   2.954461  1.251422  1.002819  15.560838     931       3   \n4  6.107686   3.144180  0.475795  0.493345  12.771981     839       4   \n\n   TargetClass  \n0            1  \n1            1  \n2            1  \n3            0  \n4            1  ",
      "text/html": "<div>\n<style scoped>\n    .dataframe tbody tr th:only-of-type {\n        vertical-align: middle;\n    }\n\n    .dataframe tbody tr th {\n        vertical-align: top;\n    }\n\n    .dataframe thead th {\n        text-align: right;\n    }\n</style>\n<table border=\"1\" class=\"dataframe\">\n  <thead>\n    <tr style=\"text-align: right;\">\n      <th></th>\n      <th>Vmag</th>\n      <th>Plx</th>\n      <th>e_Plx</th>\n      <th>B-V</th>\n      <th>Amag</th>\n      <th>SpType</th>\n      <th>Number</th>\n      <th>TargetClass</th>\n    </tr>\n  </thead>\n  <tbody>\n    <tr>\n      <th>0</th>\n      <td>4.039519</td>\n      <td>13.596504</td>\n      <td>0.845101</td>\n      <td>-0.097823</td>\n      <td>15.774122</td>\n      <td>620</td>\n      <td>0</td>\n      <td>1</td>\n    </tr>\n    <tr>\n      <th>1</th>\n      <td>6.655719</td>\n      <td>4.010332</td>\n      <td>1.050017</td>\n      <td>1.386670</td>\n      <td>15.344976</td>\n      <td>1027</td>\n      <td>1</td>\n      <td>1</td>\n    </tr>\n    <tr>\n      <th>2</th>\n      <td>6.405060</td>\n      <td>0.348855</td>\n      <td>0.961598</td>\n      <td>0.951503</td>\n      <td>12.236103</td>\n      <td>231</td>\n      <td>2</td>\n      <td>1</td>\n    </tr>\n    <tr>\n      <th>3</th>\n      <td>9.113068</td>\n      <td>2.954461</td>\n      <td>1.251422</td>\n      <td>1.002819</td>\n      <td>15.560838</td>\n      <td>931</td>\n      <td>3</td>\n      <td>0</td>\n    </tr>\n    <tr>\n      <th>4</th>\n      <td>6.107686</td>\n      <td>3.144180</td>\n      <td>0.475795</td>\n      <td>0.493345</td>\n      <td>12.771981</td>\n      <td>839</td>\n      <td>4</td>\n      <td>1</td>\n    </tr>\n  </tbody>\n</table>\n</div>"
     },
     "execution_count": 967,
     "metadata": {},
     "output_type": "execute_result"
    }
   ]
  },
  {
   "cell_type": "code",
   "source": [
    "pred_final = check.drop(['Number'], axis='columns')"
   ],
   "metadata": {
    "id": "8uhzWgww4_17",
    "executionInfo": {
     "status": "ok",
     "timestamp": 1664794841242,
     "user_tz": -180,
     "elapsed": 277,
     "user": {
      "displayName": "Taisia Klepova",
      "userId": "18081598006309729337"
     }
    },
    "pycharm": {
     "name": "#%%\n"
    }
   },
   "execution_count": 968,
   "outputs": []
  },
  {
   "cell_type": "markdown",
   "source": [
    "Выполним проверку."
   ],
   "metadata": {
    "id": "3fRbNc68VmPJ",
    "pycharm": {
     "name": "#%% md\n"
    }
   }
  },
  {
   "cell_type": "code",
   "source": [
    "pred_final.head(10)"
   ],
   "metadata": {
    "id": "V2n-EsaQ8P84",
    "outputId": "3724c209-c821-47a0-b88f-4db644da638f",
    "colab": {
     "base_uri": "https://localhost:8080/",
     "height": 363
    },
    "executionInfo": {
     "status": "ok",
     "timestamp": 1664794845606,
     "user_tz": -180,
     "elapsed": 238,
     "user": {
      "displayName": "Taisia Klepova",
      "userId": "18081598006309729337"
     }
    },
    "pycharm": {
     "name": "#%%\n"
    }
   },
   "execution_count": 969,
   "outputs": [
    {
     "data": {
      "text/plain": "       Vmag        Plx     e_Plx       B-V       Amag  SpType  TargetClass\n0  4.039519  13.596504  0.845101 -0.097823  15.774122     620            1\n1  6.655719   4.010332  1.050017  1.386670  15.344976    1027            1\n2  6.405060   0.348855  0.961598  0.951503  12.236103     231            1\n3  9.113068   2.954461  1.251422  1.002819  15.560838     931            0\n4  6.107686   3.144180  0.475795  0.493345  12.771981     839            1\n5  7.337771  12.254347  0.651041  0.330493  17.315567     595            1\n6  7.316560   0.662464  0.720464 -0.056743  12.845317     351            0\n7  7.379830   4.494505  0.594863  1.322639  15.528721     969            1\n8  9.284617   7.392761  1.116969  0.629743  19.626463     757            0\n9  8.646860   4.137044  1.239575  0.371263  17.284021     643            1",
      "text/html": "<div>\n<style scoped>\n    .dataframe tbody tr th:only-of-type {\n        vertical-align: middle;\n    }\n\n    .dataframe tbody tr th {\n        vertical-align: top;\n    }\n\n    .dataframe thead th {\n        text-align: right;\n    }\n</style>\n<table border=\"1\" class=\"dataframe\">\n  <thead>\n    <tr style=\"text-align: right;\">\n      <th></th>\n      <th>Vmag</th>\n      <th>Plx</th>\n      <th>e_Plx</th>\n      <th>B-V</th>\n      <th>Amag</th>\n      <th>SpType</th>\n      <th>TargetClass</th>\n    </tr>\n  </thead>\n  <tbody>\n    <tr>\n      <th>0</th>\n      <td>4.039519</td>\n      <td>13.596504</td>\n      <td>0.845101</td>\n      <td>-0.097823</td>\n      <td>15.774122</td>\n      <td>620</td>\n      <td>1</td>\n    </tr>\n    <tr>\n      <th>1</th>\n      <td>6.655719</td>\n      <td>4.010332</td>\n      <td>1.050017</td>\n      <td>1.386670</td>\n      <td>15.344976</td>\n      <td>1027</td>\n      <td>1</td>\n    </tr>\n    <tr>\n      <th>2</th>\n      <td>6.405060</td>\n      <td>0.348855</td>\n      <td>0.961598</td>\n      <td>0.951503</td>\n      <td>12.236103</td>\n      <td>231</td>\n      <td>1</td>\n    </tr>\n    <tr>\n      <th>3</th>\n      <td>9.113068</td>\n      <td>2.954461</td>\n      <td>1.251422</td>\n      <td>1.002819</td>\n      <td>15.560838</td>\n      <td>931</td>\n      <td>0</td>\n    </tr>\n    <tr>\n      <th>4</th>\n      <td>6.107686</td>\n      <td>3.144180</td>\n      <td>0.475795</td>\n      <td>0.493345</td>\n      <td>12.771981</td>\n      <td>839</td>\n      <td>1</td>\n    </tr>\n    <tr>\n      <th>5</th>\n      <td>7.337771</td>\n      <td>12.254347</td>\n      <td>0.651041</td>\n      <td>0.330493</td>\n      <td>17.315567</td>\n      <td>595</td>\n      <td>1</td>\n    </tr>\n    <tr>\n      <th>6</th>\n      <td>7.316560</td>\n      <td>0.662464</td>\n      <td>0.720464</td>\n      <td>-0.056743</td>\n      <td>12.845317</td>\n      <td>351</td>\n      <td>0</td>\n    </tr>\n    <tr>\n      <th>7</th>\n      <td>7.379830</td>\n      <td>4.494505</td>\n      <td>0.594863</td>\n      <td>1.322639</td>\n      <td>15.528721</td>\n      <td>969</td>\n      <td>1</td>\n    </tr>\n    <tr>\n      <th>8</th>\n      <td>9.284617</td>\n      <td>7.392761</td>\n      <td>1.116969</td>\n      <td>0.629743</td>\n      <td>19.626463</td>\n      <td>757</td>\n      <td>0</td>\n    </tr>\n    <tr>\n      <th>9</th>\n      <td>8.646860</td>\n      <td>4.137044</td>\n      <td>1.239575</td>\n      <td>0.371263</td>\n      <td>17.284021</td>\n      <td>643</td>\n      <td>1</td>\n    </tr>\n  </tbody>\n</table>\n</div>"
     },
     "execution_count": 969,
     "metadata": {},
     "output_type": "execute_result"
    }
   ]
  },
  {
   "cell_type": "markdown",
   "source": [
    "И сохраним результат в итоговый файл."
   ],
   "metadata": {
    "id": "H5u4nAUUiDXn",
    "pycharm": {
     "name": "#%% md\n"
    }
   }
  },
  {
   "cell_type": "code",
   "source": [
    "pred_final.to_csv('Result_final.csv',index=False)"
   ],
   "metadata": {
    "id": "A7595NiKorxi",
    "executionInfo": {
     "status": "ok",
     "timestamp": 1664794865293,
     "user_tz": -180,
     "elapsed": 266,
     "user": {
      "displayName": "Taisia Klepova",
      "userId": "18081598006309729337"
     }
    },
    "pycharm": {
     "name": "#%%\n"
    }
   },
   "execution_count": 970,
   "outputs": []
  },
  {
   "cell_type": "markdown",
   "source": [
    "Желаем вам успехов в НТО!"
   ],
   "metadata": {
    "id": "jr-R2lYBM4R9",
    "pycharm": {
     "name": "#%% md\n"
    }
   }
  },
  {
   "cell_type": "code",
   "execution_count": 971,
   "outputs": [
    {
     "ename": "ValueError",
     "evalue": "Found input variables with inconsistent numbers of samples: [9493, 7911]",
     "output_type": "error",
     "traceback": [
      "\u001B[0;31m---------------------------------------------------------------------------\u001B[0m",
      "\u001B[0;31mValueError\u001B[0m                                Traceback (most recent call last)",
      "Input \u001B[0;32mIn [971]\u001B[0m, in \u001B[0;36m<module>\u001B[0;34m\u001B[0m\n\u001B[1;32m      1\u001B[0m \u001B[38;5;66;03m# рассчитываем ROC AUC\u001B[39;00m\n\u001B[0;32m----> 2\u001B[0m auc1 \u001B[38;5;241m=\u001B[39m \u001B[43mroc_auc_score\u001B[49m\u001B[43m(\u001B[49m\u001B[43my_test\u001B[49m\u001B[43m,\u001B[49m\u001B[43m \u001B[49m\u001B[43mpred\u001B[49m\u001B[43m)\u001B[49m\n\u001B[1;32m      3\u001B[0m \u001B[38;5;28mprint\u001B[39m(\u001B[38;5;124m'\u001B[39m\u001B[38;5;124mROC AUC=\u001B[39m\u001B[38;5;132;01m%.3f\u001B[39;00m\u001B[38;5;124m'\u001B[39m \u001B[38;5;241m%\u001B[39m (auc1))\n",
      "File \u001B[0;32m/Library/Frameworks/Python.framework/Versions/3.9/lib/python3.9/site-packages/sklearn/metrics/_ranking.py:567\u001B[0m, in \u001B[0;36mroc_auc_score\u001B[0;34m(y_true, y_score, average, sample_weight, max_fpr, multi_class, labels)\u001B[0m\n\u001B[1;32m    565\u001B[0m     labels \u001B[38;5;241m=\u001B[39m np\u001B[38;5;241m.\u001B[39munique(y_true)\n\u001B[1;32m    566\u001B[0m     y_true \u001B[38;5;241m=\u001B[39m label_binarize(y_true, classes\u001B[38;5;241m=\u001B[39mlabels)[:, \u001B[38;5;241m0\u001B[39m]\n\u001B[0;32m--> 567\u001B[0m     \u001B[38;5;28;01mreturn\u001B[39;00m \u001B[43m_average_binary_score\u001B[49m\u001B[43m(\u001B[49m\n\u001B[1;32m    568\u001B[0m \u001B[43m        \u001B[49m\u001B[43mpartial\u001B[49m\u001B[43m(\u001B[49m\u001B[43m_binary_roc_auc_score\u001B[49m\u001B[43m,\u001B[49m\u001B[43m \u001B[49m\u001B[43mmax_fpr\u001B[49m\u001B[38;5;241;43m=\u001B[39;49m\u001B[43mmax_fpr\u001B[49m\u001B[43m)\u001B[49m\u001B[43m,\u001B[49m\n\u001B[1;32m    569\u001B[0m \u001B[43m        \u001B[49m\u001B[43my_true\u001B[49m\u001B[43m,\u001B[49m\n\u001B[1;32m    570\u001B[0m \u001B[43m        \u001B[49m\u001B[43my_score\u001B[49m\u001B[43m,\u001B[49m\n\u001B[1;32m    571\u001B[0m \u001B[43m        \u001B[49m\u001B[43maverage\u001B[49m\u001B[43m,\u001B[49m\n\u001B[1;32m    572\u001B[0m \u001B[43m        \u001B[49m\u001B[43msample_weight\u001B[49m\u001B[38;5;241;43m=\u001B[39;49m\u001B[43msample_weight\u001B[49m\u001B[43m,\u001B[49m\n\u001B[1;32m    573\u001B[0m \u001B[43m    \u001B[49m\u001B[43m)\u001B[49m\n\u001B[1;32m    574\u001B[0m \u001B[38;5;28;01melse\u001B[39;00m:  \u001B[38;5;66;03m# multilabel-indicator\u001B[39;00m\n\u001B[1;32m    575\u001B[0m     \u001B[38;5;28;01mreturn\u001B[39;00m _average_binary_score(\n\u001B[1;32m    576\u001B[0m         partial(_binary_roc_auc_score, max_fpr\u001B[38;5;241m=\u001B[39mmax_fpr),\n\u001B[1;32m    577\u001B[0m         y_true,\n\u001B[0;32m   (...)\u001B[0m\n\u001B[1;32m    580\u001B[0m         sample_weight\u001B[38;5;241m=\u001B[39msample_weight,\n\u001B[1;32m    581\u001B[0m     )\n",
      "File \u001B[0;32m/Library/Frameworks/Python.framework/Versions/3.9/lib/python3.9/site-packages/sklearn/metrics/_base.py:75\u001B[0m, in \u001B[0;36m_average_binary_score\u001B[0;34m(binary_metric, y_true, y_score, average, sample_weight)\u001B[0m\n\u001B[1;32m     72\u001B[0m     \u001B[38;5;28;01mraise\u001B[39;00m \u001B[38;5;167;01mValueError\u001B[39;00m(\u001B[38;5;124m\"\u001B[39m\u001B[38;5;132;01m{0}\u001B[39;00m\u001B[38;5;124m format is not supported\u001B[39m\u001B[38;5;124m\"\u001B[39m\u001B[38;5;241m.\u001B[39mformat(y_type))\n\u001B[1;32m     74\u001B[0m \u001B[38;5;28;01mif\u001B[39;00m y_type \u001B[38;5;241m==\u001B[39m \u001B[38;5;124m\"\u001B[39m\u001B[38;5;124mbinary\u001B[39m\u001B[38;5;124m\"\u001B[39m:\n\u001B[0;32m---> 75\u001B[0m     \u001B[38;5;28;01mreturn\u001B[39;00m \u001B[43mbinary_metric\u001B[49m\u001B[43m(\u001B[49m\u001B[43my_true\u001B[49m\u001B[43m,\u001B[49m\u001B[43m \u001B[49m\u001B[43my_score\u001B[49m\u001B[43m,\u001B[49m\u001B[43m \u001B[49m\u001B[43msample_weight\u001B[49m\u001B[38;5;241;43m=\u001B[39;49m\u001B[43msample_weight\u001B[49m\u001B[43m)\u001B[49m\n\u001B[1;32m     77\u001B[0m check_consistent_length(y_true, y_score, sample_weight)\n\u001B[1;32m     78\u001B[0m y_true \u001B[38;5;241m=\u001B[39m check_array(y_true)\n",
      "File \u001B[0;32m/Library/Frameworks/Python.framework/Versions/3.9/lib/python3.9/site-packages/sklearn/metrics/_ranking.py:342\u001B[0m, in \u001B[0;36m_binary_roc_auc_score\u001B[0;34m(y_true, y_score, sample_weight, max_fpr)\u001B[0m\n\u001B[1;32m    336\u001B[0m \u001B[38;5;28;01mif\u001B[39;00m \u001B[38;5;28mlen\u001B[39m(np\u001B[38;5;241m.\u001B[39munique(y_true)) \u001B[38;5;241m!=\u001B[39m \u001B[38;5;241m2\u001B[39m:\n\u001B[1;32m    337\u001B[0m     \u001B[38;5;28;01mraise\u001B[39;00m \u001B[38;5;167;01mValueError\u001B[39;00m(\n\u001B[1;32m    338\u001B[0m         \u001B[38;5;124m\"\u001B[39m\u001B[38;5;124mOnly one class present in y_true. ROC AUC score \u001B[39m\u001B[38;5;124m\"\u001B[39m\n\u001B[1;32m    339\u001B[0m         \u001B[38;5;124m\"\u001B[39m\u001B[38;5;124mis not defined in that case.\u001B[39m\u001B[38;5;124m\"\u001B[39m\n\u001B[1;32m    340\u001B[0m     )\n\u001B[0;32m--> 342\u001B[0m fpr, tpr, _ \u001B[38;5;241m=\u001B[39m \u001B[43mroc_curve\u001B[49m\u001B[43m(\u001B[49m\u001B[43my_true\u001B[49m\u001B[43m,\u001B[49m\u001B[43m \u001B[49m\u001B[43my_score\u001B[49m\u001B[43m,\u001B[49m\u001B[43m \u001B[49m\u001B[43msample_weight\u001B[49m\u001B[38;5;241;43m=\u001B[39;49m\u001B[43msample_weight\u001B[49m\u001B[43m)\u001B[49m\n\u001B[1;32m    343\u001B[0m \u001B[38;5;28;01mif\u001B[39;00m max_fpr \u001B[38;5;129;01mis\u001B[39;00m \u001B[38;5;28;01mNone\u001B[39;00m \u001B[38;5;129;01mor\u001B[39;00m max_fpr \u001B[38;5;241m==\u001B[39m \u001B[38;5;241m1\u001B[39m:\n\u001B[1;32m    344\u001B[0m     \u001B[38;5;28;01mreturn\u001B[39;00m auc(fpr, tpr)\n",
      "File \u001B[0;32m/Library/Frameworks/Python.framework/Versions/3.9/lib/python3.9/site-packages/sklearn/metrics/_ranking.py:962\u001B[0m, in \u001B[0;36mroc_curve\u001B[0;34m(y_true, y_score, pos_label, sample_weight, drop_intermediate)\u001B[0m\n\u001B[1;32m    873\u001B[0m \u001B[38;5;28;01mdef\u001B[39;00m \u001B[38;5;21mroc_curve\u001B[39m(\n\u001B[1;32m    874\u001B[0m     y_true, y_score, \u001B[38;5;241m*\u001B[39m, pos_label\u001B[38;5;241m=\u001B[39m\u001B[38;5;28;01mNone\u001B[39;00m, sample_weight\u001B[38;5;241m=\u001B[39m\u001B[38;5;28;01mNone\u001B[39;00m, drop_intermediate\u001B[38;5;241m=\u001B[39m\u001B[38;5;28;01mTrue\u001B[39;00m\n\u001B[1;32m    875\u001B[0m ):\n\u001B[1;32m    876\u001B[0m     \u001B[38;5;124;03m\"\"\"Compute Receiver operating characteristic (ROC).\u001B[39;00m\n\u001B[1;32m    877\u001B[0m \n\u001B[1;32m    878\u001B[0m \u001B[38;5;124;03m    Note: this implementation is restricted to the binary classification task.\u001B[39;00m\n\u001B[0;32m   (...)\u001B[0m\n\u001B[1;32m    960\u001B[0m \n\u001B[1;32m    961\u001B[0m \u001B[38;5;124;03m    \"\"\"\u001B[39;00m\n\u001B[0;32m--> 962\u001B[0m     fps, tps, thresholds \u001B[38;5;241m=\u001B[39m \u001B[43m_binary_clf_curve\u001B[49m\u001B[43m(\u001B[49m\n\u001B[1;32m    963\u001B[0m \u001B[43m        \u001B[49m\u001B[43my_true\u001B[49m\u001B[43m,\u001B[49m\u001B[43m \u001B[49m\u001B[43my_score\u001B[49m\u001B[43m,\u001B[49m\u001B[43m \u001B[49m\u001B[43mpos_label\u001B[49m\u001B[38;5;241;43m=\u001B[39;49m\u001B[43mpos_label\u001B[49m\u001B[43m,\u001B[49m\u001B[43m \u001B[49m\u001B[43msample_weight\u001B[49m\u001B[38;5;241;43m=\u001B[39;49m\u001B[43msample_weight\u001B[49m\n\u001B[1;32m    964\u001B[0m \u001B[43m    \u001B[49m\u001B[43m)\u001B[49m\n\u001B[1;32m    966\u001B[0m     \u001B[38;5;66;03m# Attempt to drop thresholds corresponding to points in between and\u001B[39;00m\n\u001B[1;32m    967\u001B[0m     \u001B[38;5;66;03m# collinear with other points. These are always suboptimal and do not\u001B[39;00m\n\u001B[1;32m    968\u001B[0m     \u001B[38;5;66;03m# appear on a plotted ROC curve (and thus do not affect the AUC).\u001B[39;00m\n\u001B[0;32m   (...)\u001B[0m\n\u001B[1;32m    973\u001B[0m     \u001B[38;5;66;03m# but does not drop more complicated cases like fps = [1, 3, 7],\u001B[39;00m\n\u001B[1;32m    974\u001B[0m     \u001B[38;5;66;03m# tps = [1, 2, 4]; there is no harm in keeping too many thresholds.\u001B[39;00m\n\u001B[1;32m    975\u001B[0m     \u001B[38;5;28;01mif\u001B[39;00m drop_intermediate \u001B[38;5;129;01mand\u001B[39;00m \u001B[38;5;28mlen\u001B[39m(fps) \u001B[38;5;241m>\u001B[39m \u001B[38;5;241m2\u001B[39m:\n",
      "File \u001B[0;32m/Library/Frameworks/Python.framework/Versions/3.9/lib/python3.9/site-packages/sklearn/metrics/_ranking.py:733\u001B[0m, in \u001B[0;36m_binary_clf_curve\u001B[0;34m(y_true, y_score, pos_label, sample_weight)\u001B[0m\n\u001B[1;32m    730\u001B[0m \u001B[38;5;28;01mif\u001B[39;00m \u001B[38;5;129;01mnot\u001B[39;00m (y_type \u001B[38;5;241m==\u001B[39m \u001B[38;5;124m\"\u001B[39m\u001B[38;5;124mbinary\u001B[39m\u001B[38;5;124m\"\u001B[39m \u001B[38;5;129;01mor\u001B[39;00m (y_type \u001B[38;5;241m==\u001B[39m \u001B[38;5;124m\"\u001B[39m\u001B[38;5;124mmulticlass\u001B[39m\u001B[38;5;124m\"\u001B[39m \u001B[38;5;129;01mand\u001B[39;00m pos_label \u001B[38;5;129;01mis\u001B[39;00m \u001B[38;5;129;01mnot\u001B[39;00m \u001B[38;5;28;01mNone\u001B[39;00m)):\n\u001B[1;32m    731\u001B[0m     \u001B[38;5;28;01mraise\u001B[39;00m \u001B[38;5;167;01mValueError\u001B[39;00m(\u001B[38;5;124m\"\u001B[39m\u001B[38;5;132;01m{0}\u001B[39;00m\u001B[38;5;124m format is not supported\u001B[39m\u001B[38;5;124m\"\u001B[39m\u001B[38;5;241m.\u001B[39mformat(y_type))\n\u001B[0;32m--> 733\u001B[0m \u001B[43mcheck_consistent_length\u001B[49m\u001B[43m(\u001B[49m\u001B[43my_true\u001B[49m\u001B[43m,\u001B[49m\u001B[43m \u001B[49m\u001B[43my_score\u001B[49m\u001B[43m,\u001B[49m\u001B[43m \u001B[49m\u001B[43msample_weight\u001B[49m\u001B[43m)\u001B[49m\n\u001B[1;32m    734\u001B[0m y_true \u001B[38;5;241m=\u001B[39m column_or_1d(y_true)\n\u001B[1;32m    735\u001B[0m y_score \u001B[38;5;241m=\u001B[39m column_or_1d(y_score)\n",
      "File \u001B[0;32m/Library/Frameworks/Python.framework/Versions/3.9/lib/python3.9/site-packages/sklearn/utils/validation.py:332\u001B[0m, in \u001B[0;36mcheck_consistent_length\u001B[0;34m(*arrays)\u001B[0m\n\u001B[1;32m    330\u001B[0m uniques \u001B[38;5;241m=\u001B[39m np\u001B[38;5;241m.\u001B[39munique(lengths)\n\u001B[1;32m    331\u001B[0m \u001B[38;5;28;01mif\u001B[39;00m \u001B[38;5;28mlen\u001B[39m(uniques) \u001B[38;5;241m>\u001B[39m \u001B[38;5;241m1\u001B[39m:\n\u001B[0;32m--> 332\u001B[0m     \u001B[38;5;28;01mraise\u001B[39;00m \u001B[38;5;167;01mValueError\u001B[39;00m(\n\u001B[1;32m    333\u001B[0m         \u001B[38;5;124m\"\u001B[39m\u001B[38;5;124mFound input variables with inconsistent numbers of samples: \u001B[39m\u001B[38;5;132;01m%r\u001B[39;00m\u001B[38;5;124m\"\u001B[39m\n\u001B[1;32m    334\u001B[0m         \u001B[38;5;241m%\u001B[39m [\u001B[38;5;28mint\u001B[39m(l) \u001B[38;5;28;01mfor\u001B[39;00m l \u001B[38;5;129;01min\u001B[39;00m lengths]\n\u001B[1;32m    335\u001B[0m     )\n",
      "\u001B[0;31mValueError\u001B[0m: Found input variables with inconsistent numbers of samples: [9493, 7911]"
     ]
    }
   ],
   "source": [
    "# рассчитываем ROC AUC\n",
    "auc1 = roc_auc_score(y_test, pred)\n",
    "print('ROC AUC=%.3f' % (auc1))"
   ],
   "metadata": {
    "collapsed": false,
    "pycharm": {
     "name": "#%%\n"
    }
   }
  },
  {
   "cell_type": "code",
   "execution_count": 972,
   "outputs": [
    {
     "ename": "ValueError",
     "evalue": "Found input variables with inconsistent numbers of samples: [9493, 7911]",
     "output_type": "error",
     "traceback": [
      "\u001B[0;31m---------------------------------------------------------------------------\u001B[0m",
      "\u001B[0;31mValueError\u001B[0m                                Traceback (most recent call last)",
      "Input \u001B[0;32mIn [972]\u001B[0m, in \u001B[0;36m<module>\u001B[0;34m\u001B[0m\n\u001B[1;32m      1\u001B[0m \u001B[38;5;66;03m# рассчитываем roc-кривую\u001B[39;00m\n\u001B[0;32m----> 2\u001B[0m fpr, tpr, treshold \u001B[38;5;241m=\u001B[39m \u001B[43mroc_curve\u001B[49m\u001B[43m(\u001B[49m\u001B[43my_test\u001B[49m\u001B[43m,\u001B[49m\u001B[43m \u001B[49m\u001B[43mpred\u001B[49m\u001B[43m)\u001B[49m\n\u001B[1;32m      3\u001B[0m roc_auc \u001B[38;5;241m=\u001B[39m auc(fpr, tpr)\n",
      "File \u001B[0;32m/Library/Frameworks/Python.framework/Versions/3.9/lib/python3.9/site-packages/sklearn/metrics/_ranking.py:962\u001B[0m, in \u001B[0;36mroc_curve\u001B[0;34m(y_true, y_score, pos_label, sample_weight, drop_intermediate)\u001B[0m\n\u001B[1;32m    873\u001B[0m \u001B[38;5;28;01mdef\u001B[39;00m \u001B[38;5;21mroc_curve\u001B[39m(\n\u001B[1;32m    874\u001B[0m     y_true, y_score, \u001B[38;5;241m*\u001B[39m, pos_label\u001B[38;5;241m=\u001B[39m\u001B[38;5;28;01mNone\u001B[39;00m, sample_weight\u001B[38;5;241m=\u001B[39m\u001B[38;5;28;01mNone\u001B[39;00m, drop_intermediate\u001B[38;5;241m=\u001B[39m\u001B[38;5;28;01mTrue\u001B[39;00m\n\u001B[1;32m    875\u001B[0m ):\n\u001B[1;32m    876\u001B[0m     \u001B[38;5;124;03m\"\"\"Compute Receiver operating characteristic (ROC).\u001B[39;00m\n\u001B[1;32m    877\u001B[0m \n\u001B[1;32m    878\u001B[0m \u001B[38;5;124;03m    Note: this implementation is restricted to the binary classification task.\u001B[39;00m\n\u001B[0;32m   (...)\u001B[0m\n\u001B[1;32m    960\u001B[0m \n\u001B[1;32m    961\u001B[0m \u001B[38;5;124;03m    \"\"\"\u001B[39;00m\n\u001B[0;32m--> 962\u001B[0m     fps, tps, thresholds \u001B[38;5;241m=\u001B[39m \u001B[43m_binary_clf_curve\u001B[49m\u001B[43m(\u001B[49m\n\u001B[1;32m    963\u001B[0m \u001B[43m        \u001B[49m\u001B[43my_true\u001B[49m\u001B[43m,\u001B[49m\u001B[43m \u001B[49m\u001B[43my_score\u001B[49m\u001B[43m,\u001B[49m\u001B[43m \u001B[49m\u001B[43mpos_label\u001B[49m\u001B[38;5;241;43m=\u001B[39;49m\u001B[43mpos_label\u001B[49m\u001B[43m,\u001B[49m\u001B[43m \u001B[49m\u001B[43msample_weight\u001B[49m\u001B[38;5;241;43m=\u001B[39;49m\u001B[43msample_weight\u001B[49m\n\u001B[1;32m    964\u001B[0m \u001B[43m    \u001B[49m\u001B[43m)\u001B[49m\n\u001B[1;32m    966\u001B[0m     \u001B[38;5;66;03m# Attempt to drop thresholds corresponding to points in between and\u001B[39;00m\n\u001B[1;32m    967\u001B[0m     \u001B[38;5;66;03m# collinear with other points. These are always suboptimal and do not\u001B[39;00m\n\u001B[1;32m    968\u001B[0m     \u001B[38;5;66;03m# appear on a plotted ROC curve (and thus do not affect the AUC).\u001B[39;00m\n\u001B[0;32m   (...)\u001B[0m\n\u001B[1;32m    973\u001B[0m     \u001B[38;5;66;03m# but does not drop more complicated cases like fps = [1, 3, 7],\u001B[39;00m\n\u001B[1;32m    974\u001B[0m     \u001B[38;5;66;03m# tps = [1, 2, 4]; there is no harm in keeping too many thresholds.\u001B[39;00m\n\u001B[1;32m    975\u001B[0m     \u001B[38;5;28;01mif\u001B[39;00m drop_intermediate \u001B[38;5;129;01mand\u001B[39;00m \u001B[38;5;28mlen\u001B[39m(fps) \u001B[38;5;241m>\u001B[39m \u001B[38;5;241m2\u001B[39m:\n",
      "File \u001B[0;32m/Library/Frameworks/Python.framework/Versions/3.9/lib/python3.9/site-packages/sklearn/metrics/_ranking.py:733\u001B[0m, in \u001B[0;36m_binary_clf_curve\u001B[0;34m(y_true, y_score, pos_label, sample_weight)\u001B[0m\n\u001B[1;32m    730\u001B[0m \u001B[38;5;28;01mif\u001B[39;00m \u001B[38;5;129;01mnot\u001B[39;00m (y_type \u001B[38;5;241m==\u001B[39m \u001B[38;5;124m\"\u001B[39m\u001B[38;5;124mbinary\u001B[39m\u001B[38;5;124m\"\u001B[39m \u001B[38;5;129;01mor\u001B[39;00m (y_type \u001B[38;5;241m==\u001B[39m \u001B[38;5;124m\"\u001B[39m\u001B[38;5;124mmulticlass\u001B[39m\u001B[38;5;124m\"\u001B[39m \u001B[38;5;129;01mand\u001B[39;00m pos_label \u001B[38;5;129;01mis\u001B[39;00m \u001B[38;5;129;01mnot\u001B[39;00m \u001B[38;5;28;01mNone\u001B[39;00m)):\n\u001B[1;32m    731\u001B[0m     \u001B[38;5;28;01mraise\u001B[39;00m \u001B[38;5;167;01mValueError\u001B[39;00m(\u001B[38;5;124m\"\u001B[39m\u001B[38;5;132;01m{0}\u001B[39;00m\u001B[38;5;124m format is not supported\u001B[39m\u001B[38;5;124m\"\u001B[39m\u001B[38;5;241m.\u001B[39mformat(y_type))\n\u001B[0;32m--> 733\u001B[0m \u001B[43mcheck_consistent_length\u001B[49m\u001B[43m(\u001B[49m\u001B[43my_true\u001B[49m\u001B[43m,\u001B[49m\u001B[43m \u001B[49m\u001B[43my_score\u001B[49m\u001B[43m,\u001B[49m\u001B[43m \u001B[49m\u001B[43msample_weight\u001B[49m\u001B[43m)\u001B[49m\n\u001B[1;32m    734\u001B[0m y_true \u001B[38;5;241m=\u001B[39m column_or_1d(y_true)\n\u001B[1;32m    735\u001B[0m y_score \u001B[38;5;241m=\u001B[39m column_or_1d(y_score)\n",
      "File \u001B[0;32m/Library/Frameworks/Python.framework/Versions/3.9/lib/python3.9/site-packages/sklearn/utils/validation.py:332\u001B[0m, in \u001B[0;36mcheck_consistent_length\u001B[0;34m(*arrays)\u001B[0m\n\u001B[1;32m    330\u001B[0m uniques \u001B[38;5;241m=\u001B[39m np\u001B[38;5;241m.\u001B[39munique(lengths)\n\u001B[1;32m    331\u001B[0m \u001B[38;5;28;01mif\u001B[39;00m \u001B[38;5;28mlen\u001B[39m(uniques) \u001B[38;5;241m>\u001B[39m \u001B[38;5;241m1\u001B[39m:\n\u001B[0;32m--> 332\u001B[0m     \u001B[38;5;28;01mraise\u001B[39;00m \u001B[38;5;167;01mValueError\u001B[39;00m(\n\u001B[1;32m    333\u001B[0m         \u001B[38;5;124m\"\u001B[39m\u001B[38;5;124mFound input variables with inconsistent numbers of samples: \u001B[39m\u001B[38;5;132;01m%r\u001B[39;00m\u001B[38;5;124m\"\u001B[39m\n\u001B[1;32m    334\u001B[0m         \u001B[38;5;241m%\u001B[39m [\u001B[38;5;28mint\u001B[39m(l) \u001B[38;5;28;01mfor\u001B[39;00m l \u001B[38;5;129;01min\u001B[39;00m lengths]\n\u001B[1;32m    335\u001B[0m     )\n",
      "\u001B[0;31mValueError\u001B[0m: Found input variables with inconsistent numbers of samples: [9493, 7911]"
     ]
    }
   ],
   "source": [
    "# рассчитываем roc-кривую\n",
    "fpr, tpr, treshold = roc_curve(y_test, pred)\n",
    "roc_auc = auc(fpr, tpr)"
   ],
   "metadata": {
    "collapsed": false,
    "pycharm": {
     "name": "#%%\n"
    }
   }
  },
  {
   "cell_type": "code",
   "execution_count": 973,
   "outputs": [
    {
     "data": {
      "text/plain": "<Figure size 432x288 with 1 Axes>",
      "image/png": "[encoded data removed]"
     },
     "metadata": {
      "needs_background": "light"
     },
     "output_type": "display_data"
    }
   ],
   "source": [
    "# строим график\n",
    "plt.plot(fpr, tpr, color='darkorange',\n",
    "         label='ROC кривая (area = %0.2f)' % roc_auc)\n",
    "plt.plot([0, 1], [0, 1], color='navy', linestyle='--')\n",
    "plt.xlim([0.0, 1.0])\n",
    "plt.ylim([0.0, 1.05])\n",
    "plt.xlabel('False Positive Rate')\n",
    "plt.ylabel('True Positive Rate')\n",
    "plt.title('Пример ROC-кривой')\n",
    "plt.legend(loc=\"lower right\")\n",
    "plt.show()"
   ],
   "metadata": {
    "collapsed": false,
    "pycharm": {
     "name": "#%%\n"
    }
   }
  },
  {
   "cell_type": "code",
   "execution_count": 973,
   "outputs": [],
   "source": [],
   "metadata": {
    "collapsed": false,
    "pycharm": {
     "name": "#%%\n"
    }
   }
  },
  {
   "cell_type": "code",
   "execution_count": 996,
   "outputs": [],
   "source": [
    "need_to_predict = pd.read_csv(\"predict.csv\")"
   ],
   "metadata": {
    "collapsed": false,
    "pycharm": {
     "name": "#%%\n"
    }
   }
  },
  {
   "cell_type": "code",
   "execution_count": 997,
   "outputs": [
    {
     "data": {
      "text/plain": "          Vmag        Plx     e_Plx       B-V       SpType       Amag\n0     4.039519  13.596504  0.845101 -0.097823      F5V+...  15.774122\n1     6.655719   4.010332  1.050017  1.386670        K5III  15.344976\n2     6.405060   0.348855  0.961598  0.951503       B0IVpe  12.236103\n3     9.113068   2.954461  1.251422  1.002819        K1III  15.560838\n4     6.107686   3.144180  0.475795  0.493345  G8II-IIIvar  12.771981\n...        ...        ...       ...       ...          ...        ...\n7906  8.255272   2.858885  0.822289  1.349195        M3III  16.438014\n7907  6.255358   3.034436  0.449386  0.966053        K0III  13.898403\n7908  8.643598  10.932145  0.947897  0.504383          G0V  18.980729\n7909  9.400810   6.279361  1.332124  0.351073          F2V  16.872491\n7910  8.792551   2.379289  1.451311  1.110596        K1III  15.737505\n\n[7911 rows x 6 columns]",
      "text/html": "<div>\n<style scoped>\n    .dataframe tbody tr th:only-of-type {\n        vertical-align: middle;\n    }\n\n    .dataframe tbody tr th {\n        vertical-align: top;\n    }\n\n    .dataframe thead th {\n        text-align: right;\n    }\n</style>\n<table border=\"1\" class=\"dataframe\">\n  <thead>\n    <tr style=\"text-align: right;\">\n      <th></th>\n      <th>Vmag</th>\n      <th>Plx</th>\n      <th>e_Plx</th>\n      <th>B-V</th>\n      <th>SpType</th>\n      <th>Amag</th>\n    </tr>\n  </thead>\n  <tbody>\n    <tr>\n      <th>0</th>\n      <td>4.039519</td>\n      <td>13.596504</td>\n      <td>0.845101</td>\n      <td>-0.097823</td>\n      <td>F5V+...</td>\n      <td>15.774122</td>\n    </tr>\n    <tr>\n      <th>1</th>\n      <td>6.655719</td>\n      <td>4.010332</td>\n      <td>1.050017</td>\n      <td>1.386670</td>\n      <td>K5III</td>\n      <td>15.344976</td>\n    </tr>\n    <tr>\n      <th>2</th>\n      <td>6.405060</td>\n      <td>0.348855</td>\n      <td>0.961598</td>\n      <td>0.951503</td>\n      <td>B0IVpe</td>\n      <td>12.236103</td>\n    </tr>\n    <tr>\n      <th>3</th>\n      <td>9.113068</td>\n      <td>2.954461</td>\n      <td>1.251422</td>\n      <td>1.002819</td>\n      <td>K1III</td>\n      <td>15.560838</td>\n    </tr>\n    <tr>\n      <th>4</th>\n      <td>6.107686</td>\n      <td>3.144180</td>\n      <td>0.475795</td>\n      <td>0.493345</td>\n      <td>G8II-IIIvar</td>\n      <td>12.771981</td>\n    </tr>\n    <tr>\n      <th>...</th>\n      <td>...</td>\n      <td>...</td>\n      <td>...</td>\n      <td>...</td>\n      <td>...</td>\n      <td>...</td>\n    </tr>\n    <tr>\n      <th>7906</th>\n      <td>8.255272</td>\n      <td>2.858885</td>\n      <td>0.822289</td>\n      <td>1.349195</td>\n      <td>M3III</td>\n      <td>16.438014</td>\n    </tr>\n    <tr>\n      <th>7907</th>\n      <td>6.255358</td>\n      <td>3.034436</td>\n      <td>0.449386</td>\n      <td>0.966053</td>\n      <td>K0III</td>\n      <td>13.898403</td>\n    </tr>\n    <tr>\n      <th>7908</th>\n      <td>8.643598</td>\n      <td>10.932145</td>\n      <td>0.947897</td>\n      <td>0.504383</td>\n      <td>G0V</td>\n      <td>18.980729</td>\n    </tr>\n    <tr>\n      <th>7909</th>\n      <td>9.400810</td>\n      <td>6.279361</td>\n      <td>1.332124</td>\n      <td>0.351073</td>\n      <td>F2V</td>\n      <td>16.872491</td>\n    </tr>\n    <tr>\n      <th>7910</th>\n      <td>8.792551</td>\n      <td>2.379289</td>\n      <td>1.451311</td>\n      <td>1.110596</td>\n      <td>K1III</td>\n      <td>15.737505</td>\n    </tr>\n  </tbody>\n</table>\n<p>7911 rows × 6 columns</p>\n</div>"
     },
     "execution_count": 997,
     "metadata": {},
     "output_type": "execute_result"
    }
   ],
   "source": [
    "need_to_predict"
   ],
   "metadata": {
    "collapsed": false,
    "pycharm": {
     "name": "#%%\n"
    }
   }
  },
  {
   "cell_type": "code",
   "execution_count": 998,
   "outputs": [],
   "source": [
    "le = LabelEncoder()\n",
    "label = le.fit_transform(need_to_predict['SpType'])\n",
    "need_to_predict.drop(\"SpType\", axis=1, inplace=True)\n",
    "need_to_predict[\"SpType\"] = label"
   ],
   "metadata": {
    "collapsed": false,
    "pycharm": {
     "name": "#%%\n"
    }
   }
  },
  {
   "cell_type": "code",
   "execution_count": 999,
   "outputs": [
    {
     "data": {
      "text/plain": "          Vmag        Plx     e_Plx       B-V       Amag  SpType\n0     4.039519  13.596504  0.845101 -0.097823  15.774122     620\n1     6.655719   4.010332  1.050017  1.386670  15.344976    1027\n2     6.405060   0.348855  0.961598  0.951503  12.236103     231\n3     9.113068   2.954461  1.251422  1.002819  15.560838     931\n4     6.107686   3.144180  0.475795  0.493345  12.771981     839\n...        ...        ...       ...       ...        ...     ...\n7906  8.255272   2.858885  0.822289  1.349195  16.438014    1075\n7907  6.255358   3.034436  0.449386  0.966053  13.898403     888\n7908  8.643598  10.932145  0.947897  0.504383  18.980729     709\n7909  9.400810   6.279361  1.332124  0.351073  16.872491     560\n7910  8.792551   2.379289  1.451311  1.110596  15.737505     931\n\n[7911 rows x 6 columns]",
      "text/html": "<div>\n<style scoped>\n    .dataframe tbody tr th:only-of-type {\n        vertical-align: middle;\n    }\n\n    .dataframe tbody tr th {\n        vertical-align: top;\n    }\n\n    .dataframe thead th {\n        text-align: right;\n    }\n</style>\n<table border=\"1\" class=\"dataframe\">\n  <thead>\n    <tr style=\"text-align: right;\">\n      <th></th>\n      <th>Vmag</th>\n      <th>Plx</th>\n      <th>e_Plx</th>\n      <th>B-V</th>\n      <th>Amag</th>\n      <th>SpType</th>\n    </tr>\n  </thead>\n  <tbody>\n    <tr>\n      <th>0</th>\n      <td>4.039519</td>\n      <td>13.596504</td>\n      <td>0.845101</td>\n      <td>-0.097823</td>\n      <td>15.774122</td>\n      <td>620</td>\n    </tr>\n    <tr>\n      <th>1</th>\n      <td>6.655719</td>\n      <td>4.010332</td>\n      <td>1.050017</td>\n      <td>1.386670</td>\n      <td>15.344976</td>\n      <td>1027</td>\n    </tr>\n    <tr>\n      <th>2</th>\n      <td>6.405060</td>\n      <td>0.348855</td>\n      <td>0.961598</td>\n      <td>0.951503</td>\n      <td>12.236103</td>\n      <td>231</td>\n    </tr>\n    <tr>\n      <th>3</th>\n      <td>9.113068</td>\n      <td>2.954461</td>\n      <td>1.251422</td>\n      <td>1.002819</td>\n      <td>15.560838</td>\n      <td>931</td>\n    </tr>\n    <tr>\n      <th>4</th>\n      <td>6.107686</td>\n      <td>3.144180</td>\n      <td>0.475795</td>\n      <td>0.493345</td>\n      <td>12.771981</td>\n      <td>839</td>\n    </tr>\n    <tr>\n      <th>...</th>\n      <td>...</td>\n      <td>...</td>\n      <td>...</td>\n      <td>...</td>\n      <td>...</td>\n      <td>...</td>\n    </tr>\n    <tr>\n      <th>7906</th>\n      <td>8.255272</td>\n      <td>2.858885</td>\n      <td>0.822289</td>\n      <td>1.349195</td>\n      <td>16.438014</td>\n      <td>1075</td>\n    </tr>\n    <tr>\n      <th>7907</th>\n      <td>6.255358</td>\n      <td>3.034436</td>\n      <td>0.449386</td>\n      <td>0.966053</td>\n      <td>13.898403</td>\n      <td>888</td>\n    </tr>\n    <tr>\n      <th>7908</th>\n      <td>8.643598</td>\n      <td>10.932145</td>\n      <td>0.947897</td>\n      <td>0.504383</td>\n      <td>18.980729</td>\n      <td>709</td>\n    </tr>\n    <tr>\n      <th>7909</th>\n      <td>9.400810</td>\n      <td>6.279361</td>\n      <td>1.332124</td>\n      <td>0.351073</td>\n      <td>16.872491</td>\n      <td>560</td>\n    </tr>\n    <tr>\n      <th>7910</th>\n      <td>8.792551</td>\n      <td>2.379289</td>\n      <td>1.451311</td>\n      <td>1.110596</td>\n      <td>15.737505</td>\n      <td>931</td>\n    </tr>\n  </tbody>\n</table>\n<p>7911 rows × 6 columns</p>\n</div>"
     },
     "execution_count": 999,
     "metadata": {},
     "output_type": "execute_result"
    }
   ],
   "source": [
    "need_to_predict"
   ],
   "metadata": {
    "collapsed": false,
    "pycharm": {
     "name": "#%%\n"
    }
   }
  },
  {
   "cell_type": "code",
   "execution_count": null,
   "outputs": [],
   "source": [],
   "metadata": {
    "collapsed": false,
    "pycharm": {
     "name": "#%%\n"
    }
   }
  }
 ]
}