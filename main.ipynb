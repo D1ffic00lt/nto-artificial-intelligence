{
 "cells": [
  {
   "cell_type": "code",
   "execution_count": 1,
   "metadata": {
    "collapsed": true,
    "pycharm": {
     "name": "#%%\n"
    }
   },
   "outputs": [],
   "source": [
    "import numpy as np\n",
    "import pandas as pd\n",
    "import roman as roman\n",
    "from sklearn.model_selection import train_test_split, cross_val_score\n",
    "from sklearn.metrics import roc_auc_score, accuracy_score, roc_curve, auc\n",
    "from sklearn.ensemble import RandomForestClassifier, GradientBoostingRegressor\n",
    "from sklearn.preprocessing import LabelEncoder\n",
    "from xgboost import XGBClassifier, plot_importance, XGBRegressor\n",
    "import matplotlib.pyplot as plt\n",
    "import warnings\n",
    "import seaborn as sns\n",
    "from sklearn.preprocessing import MinMaxScaler, StandardScaler\n",
    "from sklearn.neighbors import KNeighborsClassifier\n",
    "from catboost import CatBoostRegressor, CatBoostClassifier\n",
    "# from hyperopt import STATUS_OK, Trials, fmin, hp, tpe\n",
    "from sklearn.model_selection import StratifiedKFold, RandomizedSearchCV, GridSearchCV\n",
    "import math\n",
    "from sklearn.linear_model import LinearRegression, LogisticRegression\n",
    "import roman\n",
    "from model import D1ffic00ltLinearRegression\n"
   ]
  },
  {
   "cell_type": "code",
   "execution_count": 5,
   "outputs": [],
   "source": [
    "warnings.filterwarnings(\"ignore\")"
   ],
   "metadata": {
    "collapsed": false,
    "pycharm": {
     "name": "#%%\n"
    }
   }
  },
  {
   "cell_type": "code",
   "execution_count": 6,
   "outputs": [],
   "source": [
    "data = pd.read_csv(\"files/train-2.csv\")"
   ],
   "metadata": {
    "collapsed": false,
    "pycharm": {
     "name": "#%%\n"
    }
   }
  },
  {
   "cell_type": "code",
   "execution_count": 7,
   "outputs": [],
   "source": [
    "# data = data.drop_duplicates()"
   ],
   "metadata": {
    "collapsed": false,
    "pycharm": {
     "name": "#%%\n"
    }
   }
  },
  {
   "cell_type": "code",
   "execution_count": 8,
   "outputs": [],
   "source": [
    "answer = list(set(data[data.TargetClass == 0].SpType.unique()) & set(data[data.TargetClass == 1].SpType.unique()))"
   ],
   "metadata": {
    "collapsed": false,
    "pycharm": {
     "name": "#%%\n"
    }
   }
  },
  {
   "cell_type": "code",
   "execution_count": 9,
   "outputs": [
    {
     "data": {
      "text/plain": "['G7IV',\n 'G8IV...',\n 'F6/F7V',\n 'G9V',\n 'B3III',\n 'G3/G5Vw',\n 'B7II',\n 'K1IV/V',\n 'B0IVpe',\n 'F3V:+...',\n 'K0IV/VCNIII',\n 'G8III/IV',\n 'B6II/III',\n 'B3Vn...',\n 'K0IVw...',\n 'F0III:',\n 'B4II/III',\n 'F3IVp...',\n 'K1III-IV',\n 'K1IVCN...',\n 'A6III',\n 'A2/A3III',\n 'A4/A5III:',\n 'B1.5III-IVn',\n 'G6V',\n 'K1IV...',\n 'K0VCN...',\n 'G6/8wF8IV/V',\n 'B9IIp...',\n 'B8II',\n 'K7V',\n 'A2V+...',\n 'F4IIIvar',\n 'G9IV',\n 'A3III + K1:',\n 'B9:Vn...',\n 'K2/K3V',\n 'A3II/III',\n 'G4V:p',\n 'F9III',\n 'G3V',\n 'B7Ib',\n 'B0Ib/II',\n 'F8III/IV',\n 'B6/B7II',\n 'K0V',\n 'K0IV:',\n 'G8IVp',\n 'K1IV',\n 'A(V) + G5III',\n 'O9.5Ia SB:',\n 'F0/F2IVm...',\n 'A6:III:+...',\n 'B2V+...',\n 'B7Iab...',\n 'A3II/IIIm..',\n 'A4V comp SB',\n 'B9V+...',\n 'K3III+A0IV/V',\n 'K3IV/V',\n 'G8/K0IV/V',\n 'K1/2III: +F',\n 'G8V',\n 'B2.5V',\n 'F0IIw...',\n 'B0.5IVn',\n 'G3IV/V',\n 'G8IV',\n 'G9III-IV',\n 'B6III',\n 'B7/B8II/III',\n 'B2III-IV',\n 'A8III',\n 'A3Vs',\n 'G6/G8III/IV',\n 'B5Ia',\n 'K3V',\n 'G6IV/V',\n 'B7Ib/II',\n 'K0:III+...',\n 'G5V',\n 'G6IV',\n 'B4II',\n 'B5Vn...',\n 'B2IV-Ve',\n 'A2II/III',\n 'K0/K1IVwp..',\n 'B8Ia-Iab',\n 'K3III',\n 'G5III-IV',\n 'K1/K2V']"
     },
     "execution_count": 9,
     "metadata": {},
     "output_type": "execute_result"
    }
   ],
   "source": [
    "answer"
   ],
   "metadata": {
    "collapsed": false,
    "pycharm": {
     "name": "#%%\n"
    }
   }
  },
  {
   "cell_type": "code",
   "execution_count": 10,
   "outputs": [],
   "source": [
    "data = data[~data.SpType.isin(answer)]"
   ],
   "metadata": {
    "collapsed": false,
    "pycharm": {
     "name": "#%%\n"
    }
   }
  },
  {
   "cell_type": "code",
   "execution_count": 11,
   "outputs": [],
   "source": [
    "color_index = lambda x: 4600 * ((1 / (0.92 * x + 1.7)) + (1 / (0.92 * x + 0.62)))\n",
    "round_ = lambda x: round(x, 1)\n",
    "def transform_type2(x):\n",
    "    x1 = x\n",
    "    x1 = x1.replace('I', '')\n",
    "    x1 = x1.replace('V', '')\n",
    "    lst = list(set(x1))\n",
    "    for i in lst:\n",
    "        x = x.replace(i, ' ')\n",
    "    x = x.split()[-1]\n",
    "    return roman.fromRoman(x) * 1000\n",
    "transform_type = lambda x: 1 if \"V\" in x or \"VI\" in x or \"VII\" in x else -1\n",
    "# avag ="
   ],
   "metadata": {
    "collapsed": false,
    "pycharm": {
     "name": "#%%\n"
    }
   }
  },
  {
   "cell_type": "code",
   "execution_count": 12,
   "outputs": [],
   "source": [
    "Ms = 3.86 * 10 ** 33\n",
    "data[\"temp\"] = data[\"B-V\"].apply(color_index)\n",
    "# data[\"R\"] = np.sqrt(data.Vmag) / np.power(data.temp / 5778, 2)\n",
    "# data[\"M\"] = data.Vmag + 5 - (5 * np.log(data.Plx))\n",
    "# data[\"L\"] = np.power(data.R, 2) * np.power(data.temp / 5778, 4)"
   ],
   "metadata": {
    "collapsed": false,
    "pycharm": {
     "name": "#%%\n"
    }
   }
  },
  {
   "cell_type": "code",
   "execution_count": 13,
   "outputs": [
    {
     "data": {
      "text/plain": "<Figure size 432x288 with 1 Axes>",
      "image/png": "[encoded data removed]"
     },
     "metadata": {
      "needs_background": "light"
     },
     "output_type": "display_data"
    }
   ],
   "source": [
    "plt.boxplot(data.temp)\n",
    "plt.show()"
   ],
   "metadata": {
    "collapsed": false,
    "pycharm": {
     "name": "#%%\n"
    }
   }
  },
  {
   "cell_type": "code",
   "execution_count": 14,
   "outputs": [],
   "source": [
    "# data = data.loc[data.temp < 18000]"
   ],
   "metadata": {
    "collapsed": false,
    "pycharm": {
     "name": "#%%\n"
    }
   }
  },
  {
   "cell_type": "code",
   "execution_count": 15,
   "outputs": [],
   "source": [
    "# data.M.min()"
   ],
   "metadata": {
    "collapsed": false,
    "pycharm": {
     "name": "#%%\n"
    }
   }
  },
  {
   "cell_type": "code",
   "execution_count": 16,
   "outputs": [
    {
     "data": {
      "text/plain": "       Vmag        Plx     e_Plx       B-V SpType       Amag  TargetClass  \\\n1  4.334196   2.198947  0.593309  1.153210   G2Ib  13.043324            0   \n2  7.873019  11.750465  0.616568  0.589166    F5V  17.736492            1   \n3  8.110014   2.143815  0.848508  1.322107  K2III  15.592469            0   \n4  8.025193   4.165622  0.899296  1.141646  K5III  16.379680            0   \n5  2.899130  11.110086  0.701719  1.095357  M0III  14.370388            0   \n\n          temp  \n1  4402.632871  \n2  6010.288989  \n3  4082.305608  \n4  4426.508743  \n5  4524.866088  ",
      "text/html": "<div>\n<style scoped>\n    .dataframe tbody tr th:only-of-type {\n        vertical-align: middle;\n    }\n\n    .dataframe tbody tr th {\n        vertical-align: top;\n    }\n\n    .dataframe thead th {\n        text-align: right;\n    }\n</style>\n<table border=\"1\" class=\"dataframe\">\n  <thead>\n    <tr style=\"text-align: right;\">\n      <th></th>\n      <th>Vmag</th>\n      <th>Plx</th>\n      <th>e_Plx</th>\n      <th>B-V</th>\n      <th>SpType</th>\n      <th>Amag</th>\n      <th>TargetClass</th>\n      <th>temp</th>\n    </tr>\n  </thead>\n  <tbody>\n    <tr>\n      <th>1</th>\n      <td>4.334196</td>\n      <td>2.198947</td>\n      <td>0.593309</td>\n      <td>1.153210</td>\n      <td>G2Ib</td>\n      <td>13.043324</td>\n      <td>0</td>\n      <td>4402.632871</td>\n    </tr>\n    <tr>\n      <th>2</th>\n      <td>7.873019</td>\n      <td>11.750465</td>\n      <td>0.616568</td>\n      <td>0.589166</td>\n      <td>F5V</td>\n      <td>17.736492</td>\n      <td>1</td>\n      <td>6010.288989</td>\n    </tr>\n    <tr>\n      <th>3</th>\n      <td>8.110014</td>\n      <td>2.143815</td>\n      <td>0.848508</td>\n      <td>1.322107</td>\n      <td>K2III</td>\n      <td>15.592469</td>\n      <td>0</td>\n      <td>4082.305608</td>\n    </tr>\n    <tr>\n      <th>4</th>\n      <td>8.025193</td>\n      <td>4.165622</td>\n      <td>0.899296</td>\n      <td>1.141646</td>\n      <td>K5III</td>\n      <td>16.379680</td>\n      <td>0</td>\n      <td>4426.508743</td>\n    </tr>\n    <tr>\n      <th>5</th>\n      <td>2.899130</td>\n      <td>11.110086</td>\n      <td>0.701719</td>\n      <td>1.095357</td>\n      <td>M0III</td>\n      <td>14.370388</td>\n      <td>0</td>\n      <td>4524.866088</td>\n    </tr>\n  </tbody>\n</table>\n</div>"
     },
     "execution_count": 16,
     "metadata": {},
     "output_type": "execute_result"
    }
   ],
   "source": [
    "data.head()"
   ],
   "metadata": {
    "collapsed": false,
    "pycharm": {
     "name": "#%%\n"
    }
   }
  },
  {
   "cell_type": "code",
   "execution_count": 17,
   "outputs": [],
   "source": [
    "# data[\"spt2\"] = data.SpType.apply(transform_type2)\n",
    "data.SpType = data.SpType.apply(transform_type)"
   ],
   "metadata": {
    "collapsed": false,
    "pycharm": {
     "name": "#%%\n"
    }
   }
  },
  {
   "cell_type": "code",
   "execution_count": 18,
   "outputs": [
    {
     "data": {
      "text/plain": "       Vmag        Plx     e_Plx       B-V  SpType       Amag  TargetClass  \\\n1  4.334196   2.198947  0.593309  1.153210      -1  13.043324            0   \n2  7.873019  11.750465  0.616568  0.589166       1  17.736492            1   \n3  8.110014   2.143815  0.848508  1.322107      -1  15.592469            0   \n4  8.025193   4.165622  0.899296  1.141646      -1  16.379680            0   \n5  2.899130  11.110086  0.701719  1.095357      -1  14.370388            0   \n\n          temp  \n1  4402.632871  \n2  6010.288989  \n3  4082.305608  \n4  4426.508743  \n5  4524.866088  ",
      "text/html": "<div>\n<style scoped>\n    .dataframe tbody tr th:only-of-type {\n        vertical-align: middle;\n    }\n\n    .dataframe tbody tr th {\n        vertical-align: top;\n    }\n\n    .dataframe thead th {\n        text-align: right;\n    }\n</style>\n<table border=\"1\" class=\"dataframe\">\n  <thead>\n    <tr style=\"text-align: right;\">\n      <th></th>\n      <th>Vmag</th>\n      <th>Plx</th>\n      <th>e_Plx</th>\n      <th>B-V</th>\n      <th>SpType</th>\n      <th>Amag</th>\n      <th>TargetClass</th>\n      <th>temp</th>\n    </tr>\n  </thead>\n  <tbody>\n    <tr>\n      <th>1</th>\n      <td>4.334196</td>\n      <td>2.198947</td>\n      <td>0.593309</td>\n      <td>1.153210</td>\n      <td>-1</td>\n      <td>13.043324</td>\n      <td>0</td>\n      <td>4402.632871</td>\n    </tr>\n    <tr>\n      <th>2</th>\n      <td>7.873019</td>\n      <td>11.750465</td>\n      <td>0.616568</td>\n      <td>0.589166</td>\n      <td>1</td>\n      <td>17.736492</td>\n      <td>1</td>\n      <td>6010.288989</td>\n    </tr>\n    <tr>\n      <th>3</th>\n      <td>8.110014</td>\n      <td>2.143815</td>\n      <td>0.848508</td>\n      <td>1.322107</td>\n      <td>-1</td>\n      <td>15.592469</td>\n      <td>0</td>\n      <td>4082.305608</td>\n    </tr>\n    <tr>\n      <th>4</th>\n      <td>8.025193</td>\n      <td>4.165622</td>\n      <td>0.899296</td>\n      <td>1.141646</td>\n      <td>-1</td>\n      <td>16.379680</td>\n      <td>0</td>\n      <td>4426.508743</td>\n    </tr>\n    <tr>\n      <th>5</th>\n      <td>2.899130</td>\n      <td>11.110086</td>\n      <td>0.701719</td>\n      <td>1.095357</td>\n      <td>-1</td>\n      <td>14.370388</td>\n      <td>0</td>\n      <td>4524.866088</td>\n    </tr>\n  </tbody>\n</table>\n</div>"
     },
     "execution_count": 18,
     "metadata": {},
     "output_type": "execute_result"
    }
   ],
   "source": [
    "data.head()"
   ],
   "metadata": {
    "collapsed": false,
    "pycharm": {
     "name": "#%%\n"
    }
   }
  },
  {
   "cell_type": "code",
   "execution_count": 19,
   "outputs": [],
   "source": [
    "data = data[data.Plx + data.e_Plx > 0]"
   ],
   "metadata": {
    "collapsed": false,
    "pycharm": {
     "name": "#%%\n"
    }
   }
  },
  {
   "cell_type": "code",
   "execution_count": 20,
   "outputs": [],
   "source": [
    "# plt.boxplot(data.Vmag)"
   ],
   "metadata": {
    "collapsed": false,
    "pycharm": {
     "name": "#%%\n"
    }
   }
  },
  {
   "cell_type": "code",
   "execution_count": 21,
   "outputs": [],
   "source": [
    "# data = data[(data.Vmag > 4) & (data.Vmag < 11)]"
   ],
   "metadata": {
    "collapsed": false,
    "pycharm": {
     "name": "#%%\n"
    }
   }
  },
  {
   "cell_type": "code",
   "execution_count": 22,
   "outputs": [],
   "source": [
    "# plt.boxplot(data[\"B-V\"])"
   ],
   "metadata": {
    "collapsed": false,
    "pycharm": {
     "name": "#%%\n"
    }
   }
  },
  {
   "cell_type": "code",
   "execution_count": 23,
   "outputs": [],
   "source": [
    "# data = data[data[\"B-V\"] < 23]"
   ],
   "metadata": {
    "collapsed": false,
    "pycharm": {
     "name": "#%%\n"
    }
   }
  },
  {
   "cell_type": "code",
   "execution_count": 24,
   "outputs": [],
   "source": [
    "# plt.boxplot(data.Amag)"
   ],
   "metadata": {
    "collapsed": false,
    "pycharm": {
     "name": "#%%\n"
    }
   }
  },
  {
   "cell_type": "code",
   "execution_count": 25,
   "outputs": [],
   "source": [
    "# data = data[(data.Amag < 22) & (data.Amag > 10)]"
   ],
   "metadata": {
    "collapsed": false,
    "pycharm": {
     "name": "#%%\n"
    }
   }
  },
  {
   "cell_type": "code",
   "execution_count": 26,
   "outputs": [],
   "source": [
    "# data.Amag = data.Amag.apply(round_)\n",
    "# data.Vmag = data.Vmag.apply(round_)\n",
    "# data.Plx = data.Plx.apply(round_)\n",
    "# data.e_Plx = data.e_Plx.apply(round_)\n",
    "# data[\"B-V\"] = data[\"B-V\"].apply(round_)\n",
    "# data.temp = data.temp.apply(round_)\n",
    "# model[\"BVtype\"] = round(model[\"B-V\"] * model.SpType)"
   ],
   "metadata": {
    "collapsed": false,
    "pycharm": {
     "name": "#%%\n"
    }
   }
  },
  {
   "cell_type": "code",
   "execution_count": 27,
   "outputs": [],
   "source": [
    "# data = data.drop( [\"e_Plx\"], axis=1)\n",
    "data[:] = MinMaxScaler().fit_transform(data)"
   ],
   "metadata": {
    "collapsed": false,
    "pycharm": {
     "name": "#%%\n"
    }
   }
  },
  {
   "cell_type": "code",
   "execution_count": 28,
   "outputs": [
    {
     "data": {
      "text/plain": "<Figure size 432x288 with 1 Axes>",
      "image/png": "[encoded data removed]"
     },
     "metadata": {
      "needs_background": "light"
     },
     "output_type": "display_data"
    }
   ],
   "source": [
    "plt.boxplot(data, labels=data.columns)\n",
    "plt.show()"
   ],
   "metadata": {
    "collapsed": false,
    "pycharm": {
     "name": "#%%\n"
    }
   }
  },
  {
   "cell_type": "code",
   "execution_count": 29,
   "outputs": [
    {
     "data": {
      "text/plain": "       Vmag       Plx     e_Plx       B-V  SpType      Amag  TargetClass  \\\n1  0.423018  0.044991  0.042741  0.555190     0.0  0.350098          0.0   \n2  0.705768  0.153779  0.047013  0.354782     1.0  0.570943          1.0   \n3  0.724704  0.044363  0.089611  0.615200     0.0  0.470053          0.0   \n4  0.717927  0.067391  0.098939  0.551081     0.0  0.507096          0.0   \n5  0.308357  0.146486  0.062652  0.534635     0.0  0.412545          0.0   \n\n       temp  \n1  0.081891  \n2  0.164016  \n3  0.065528  \n4  0.083111  \n5  0.088135  ",
      "text/html": "<div>\n<style scoped>\n    .dataframe tbody tr th:only-of-type {\n        vertical-align: middle;\n    }\n\n    .dataframe tbody tr th {\n        vertical-align: top;\n    }\n\n    .dataframe thead th {\n        text-align: right;\n    }\n</style>\n<table border=\"1\" class=\"dataframe\">\n  <thead>\n    <tr style=\"text-align: right;\">\n      <th></th>\n      <th>Vmag</th>\n      <th>Plx</th>\n      <th>e_Plx</th>\n      <th>B-V</th>\n      <th>SpType</th>\n      <th>Amag</th>\n      <th>TargetClass</th>\n      <th>temp</th>\n    </tr>\n  </thead>\n  <tbody>\n    <tr>\n      <th>1</th>\n      <td>0.423018</td>\n      <td>0.044991</td>\n      <td>0.042741</td>\n      <td>0.555190</td>\n      <td>0.0</td>\n      <td>0.350098</td>\n      <td>0.0</td>\n      <td>0.081891</td>\n    </tr>\n    <tr>\n      <th>2</th>\n      <td>0.705768</td>\n      <td>0.153779</td>\n      <td>0.047013</td>\n      <td>0.354782</td>\n      <td>1.0</td>\n      <td>0.570943</td>\n      <td>1.0</td>\n      <td>0.164016</td>\n    </tr>\n    <tr>\n      <th>3</th>\n      <td>0.724704</td>\n      <td>0.044363</td>\n      <td>0.089611</td>\n      <td>0.615200</td>\n      <td>0.0</td>\n      <td>0.470053</td>\n      <td>0.0</td>\n      <td>0.065528</td>\n    </tr>\n    <tr>\n      <th>4</th>\n      <td>0.717927</td>\n      <td>0.067391</td>\n      <td>0.098939</td>\n      <td>0.551081</td>\n      <td>0.0</td>\n      <td>0.507096</td>\n      <td>0.0</td>\n      <td>0.083111</td>\n    </tr>\n    <tr>\n      <th>5</th>\n      <td>0.308357</td>\n      <td>0.146486</td>\n      <td>0.062652</td>\n      <td>0.534635</td>\n      <td>0.0</td>\n      <td>0.412545</td>\n      <td>0.0</td>\n      <td>0.088135</td>\n    </tr>\n  </tbody>\n</table>\n</div>"
     },
     "execution_count": 29,
     "metadata": {},
     "output_type": "execute_result"
    }
   ],
   "source": [
    "data.head()"
   ],
   "metadata": {
    "collapsed": false,
    "pycharm": {
     "name": "#%%\n"
    }
   }
  },
  {
   "cell_type": "code",
   "execution_count": 30,
   "outputs": [
    {
     "data": {
      "text/plain": "<Figure size 720x720 with 2 Axes>",
      "image/png": "[encoded data removed]"
     },
     "metadata": {
      "needs_background": "light"
     },
     "output_type": "display_data"
    }
   ],
   "source": [
    "y = data['TargetClass']\n",
    "X = data.drop(columns=['TargetClass'])\n",
    "# X = data[[\"temp\", \"Amag\", \"SpType\"]]\n",
    "X_train, X_test, y_train, y_test = train_test_split(X, y, random_state=5, test_size=0.2, stratify=y)\n",
    "\n",
    "fig = plt.figure(figsize=(10, 10))\n",
    "X_test2 = X_test.copy()\n",
    "X_test2[\"result\"] = y_test\n",
    "data_ploting = X_test2.corr(method='pearson')\n",
    "sns.heatmap(data_ploting, linecolor='black')\n",
    "plt.show()"
   ],
   "metadata": {
    "collapsed": false,
    "pycharm": {
     "name": "#%%\n"
    }
   }
  },
  {
   "cell_type": "code",
   "execution_count": 31,
   "outputs": [
    {
     "data": {
      "text/plain": "       Vmag       Plx     e_Plx       B-V  SpType      Amag  TargetClass  \\\n1  0.423018  0.044991  0.042741  0.555190     0.0  0.350098          0.0   \n2  0.705768  0.153779  0.047013  0.354782     1.0  0.570943          1.0   \n3  0.724704  0.044363  0.089611  0.615200     0.0  0.470053          0.0   \n4  0.717927  0.067391  0.098939  0.551081     0.0  0.507096          0.0   \n5  0.308357  0.146486  0.062652  0.534635     0.0  0.412545          0.0   \n\n       temp  \n1  0.081891  \n2  0.164016  \n3  0.065528  \n4  0.083111  \n5  0.088135  ",
      "text/html": "<div>\n<style scoped>\n    .dataframe tbody tr th:only-of-type {\n        vertical-align: middle;\n    }\n\n    .dataframe tbody tr th {\n        vertical-align: top;\n    }\n\n    .dataframe thead th {\n        text-align: right;\n    }\n</style>\n<table border=\"1\" class=\"dataframe\">\n  <thead>\n    <tr style=\"text-align: right;\">\n      <th></th>\n      <th>Vmag</th>\n      <th>Plx</th>\n      <th>e_Plx</th>\n      <th>B-V</th>\n      <th>SpType</th>\n      <th>Amag</th>\n      <th>TargetClass</th>\n      <th>temp</th>\n    </tr>\n  </thead>\n  <tbody>\n    <tr>\n      <th>1</th>\n      <td>0.423018</td>\n      <td>0.044991</td>\n      <td>0.042741</td>\n      <td>0.555190</td>\n      <td>0.0</td>\n      <td>0.350098</td>\n      <td>0.0</td>\n      <td>0.081891</td>\n    </tr>\n    <tr>\n      <th>2</th>\n      <td>0.705768</td>\n      <td>0.153779</td>\n      <td>0.047013</td>\n      <td>0.354782</td>\n      <td>1.0</td>\n      <td>0.570943</td>\n      <td>1.0</td>\n      <td>0.164016</td>\n    </tr>\n    <tr>\n      <th>3</th>\n      <td>0.724704</td>\n      <td>0.044363</td>\n      <td>0.089611</td>\n      <td>0.615200</td>\n      <td>0.0</td>\n      <td>0.470053</td>\n      <td>0.0</td>\n      <td>0.065528</td>\n    </tr>\n    <tr>\n      <th>4</th>\n      <td>0.717927</td>\n      <td>0.067391</td>\n      <td>0.098939</td>\n      <td>0.551081</td>\n      <td>0.0</td>\n      <td>0.507096</td>\n      <td>0.0</td>\n      <td>0.083111</td>\n    </tr>\n    <tr>\n      <th>5</th>\n      <td>0.308357</td>\n      <td>0.146486</td>\n      <td>0.062652</td>\n      <td>0.534635</td>\n      <td>0.0</td>\n      <td>0.412545</td>\n      <td>0.0</td>\n      <td>0.088135</td>\n    </tr>\n  </tbody>\n</table>\n</div>"
     },
     "execution_count": 31,
     "metadata": {},
     "output_type": "execute_result"
    }
   ],
   "source": [
    "data.head()"
   ],
   "metadata": {
    "collapsed": false,
    "pycharm": {
     "name": "#%%\n"
    }
   }
  },
  {
   "cell_type": "code",
   "execution_count": 32,
   "outputs": [
    {
     "data": {
      "text/plain": "LinearRegression()"
     },
     "execution_count": 32,
     "metadata": {},
     "output_type": "execute_result"
    }
   ],
   "source": [
    "model2 = LinearRegression()\n",
    "model2.fit(X, y)"
   ],
   "metadata": {
    "collapsed": false,
    "pycharm": {
     "name": "#%%\n"
    }
   }
  },
  {
   "cell_type": "code",
   "execution_count": 33,
   "outputs": [
    {
     "data": {
      "text/plain": "LogisticRegression()"
     },
     "execution_count": 33,
     "metadata": {},
     "output_type": "execute_result"
    }
   ],
   "source": [
    "model3 = LogisticRegression()\n",
    "model3.fit(X, y)"
   ],
   "metadata": {
    "collapsed": false,
    "pycharm": {
     "name": "#%%\n"
    }
   }
  },
  {
   "cell_type": "code",
   "execution_count": 34,
   "outputs": [
    {
     "name": "stdout",
     "output_type": "stream",
     "text": [
      "Learning rate set to 0.038118\n",
      "0:\tlearn: 0.5650943\ttotal: 60.5ms\tremaining: 1m\n",
      "1:\tlearn: 0.4632213\ttotal: 65.1ms\tremaining: 32.5s\n",
      "2:\tlearn: 0.3767196\ttotal: 69.5ms\tremaining: 23.1s\n",
      "3:\tlearn: 0.3053171\ttotal: 74.4ms\tremaining: 18.5s\n",
      "4:\tlearn: 0.2501013\ttotal: 78ms\tremaining: 15.5s\n",
      "5:\tlearn: 0.2060106\ttotal: 82.6ms\tremaining: 13.7s\n",
      "6:\tlearn: 0.1703784\ttotal: 87.6ms\tremaining: 12.4s\n",
      "7:\tlearn: 0.1410877\ttotal: 92.5ms\tremaining: 11.5s\n",
      "8:\tlearn: 0.1173034\ttotal: 97ms\tremaining: 10.7s\n",
      "9:\tlearn: 0.0974788\ttotal: 100ms\tremaining: 9.94s\n",
      "10:\tlearn: 0.0819175\ttotal: 105ms\tremaining: 9.46s\n",
      "11:\tlearn: 0.0688098\ttotal: 110ms\tremaining: 9.06s\n",
      "12:\tlearn: 0.0582141\ttotal: 115ms\tremaining: 8.7s\n",
      "13:\tlearn: 0.0494400\ttotal: 119ms\tremaining: 8.37s\n",
      "14:\tlearn: 0.0426343\ttotal: 123ms\tremaining: 8.09s\n",
      "15:\tlearn: 0.0374564\ttotal: 126ms\tremaining: 7.75s\n",
      "16:\tlearn: 0.0325653\ttotal: 130ms\tremaining: 7.49s\n",
      "17:\tlearn: 0.0284019\ttotal: 134ms\tremaining: 7.29s\n",
      "18:\tlearn: 0.0251511\ttotal: 138ms\tremaining: 7.14s\n",
      "19:\tlearn: 0.0223048\ttotal: 143ms\tremaining: 7.01s\n",
      "20:\tlearn: 0.0198668\ttotal: 148ms\tremaining: 6.9s\n",
      "21:\tlearn: 0.0178108\ttotal: 153ms\tremaining: 6.79s\n",
      "22:\tlearn: 0.0159469\ttotal: 157ms\tremaining: 6.68s\n",
      "23:\tlearn: 0.0145195\ttotal: 162ms\tremaining: 6.59s\n",
      "24:\tlearn: 0.0132741\ttotal: 167ms\tremaining: 6.52s\n",
      "25:\tlearn: 0.0122081\ttotal: 173ms\tremaining: 6.48s\n",
      "26:\tlearn: 0.0112780\ttotal: 178ms\tremaining: 6.42s\n",
      "27:\tlearn: 0.0104710\ttotal: 182ms\tremaining: 6.33s\n",
      "28:\tlearn: 0.0097723\ttotal: 186ms\tremaining: 6.24s\n",
      "29:\tlearn: 0.0091152\ttotal: 190ms\tremaining: 6.16s\n",
      "30:\tlearn: 0.0085450\ttotal: 195ms\tremaining: 6.08s\n",
      "31:\tlearn: 0.0080121\ttotal: 200ms\tremaining: 6.04s\n",
      "32:\tlearn: 0.0076059\ttotal: 204ms\tremaining: 5.98s\n",
      "33:\tlearn: 0.0072328\ttotal: 209ms\tremaining: 5.94s\n",
      "34:\tlearn: 0.0069271\ttotal: 214ms\tremaining: 5.89s\n",
      "35:\tlearn: 0.0066045\ttotal: 218ms\tremaining: 5.83s\n",
      "36:\tlearn: 0.0063242\ttotal: 222ms\tremaining: 5.78s\n",
      "37:\tlearn: 0.0061522\ttotal: 226ms\tremaining: 5.72s\n",
      "38:\tlearn: 0.0059483\ttotal: 232ms\tremaining: 5.71s\n",
      "39:\tlearn: 0.0057744\ttotal: 235ms\tremaining: 5.65s\n",
      "40:\tlearn: 0.0055823\ttotal: 241ms\tremaining: 5.63s\n",
      "41:\tlearn: 0.0054964\ttotal: 244ms\tremaining: 5.56s\n",
      "42:\tlearn: 0.0053476\ttotal: 248ms\tremaining: 5.53s\n",
      "43:\tlearn: 0.0052128\ttotal: 253ms\tremaining: 5.5s\n",
      "44:\tlearn: 0.0050980\ttotal: 258ms\tremaining: 5.47s\n",
      "45:\tlearn: 0.0050402\ttotal: 261ms\tremaining: 5.41s\n",
      "46:\tlearn: 0.0049437\ttotal: 266ms\tremaining: 5.4s\n",
      "47:\tlearn: 0.0048483\ttotal: 271ms\tremaining: 5.38s\n",
      "48:\tlearn: 0.0047933\ttotal: 275ms\tremaining: 5.34s\n",
      "49:\tlearn: 0.0047220\ttotal: 280ms\tremaining: 5.32s\n",
      "50:\tlearn: 0.0046357\ttotal: 285ms\tremaining: 5.31s\n",
      "51:\tlearn: 0.0045546\ttotal: 290ms\tremaining: 5.29s\n",
      "52:\tlearn: 0.0044850\ttotal: 296ms\tremaining: 5.29s\n",
      "53:\tlearn: 0.0044596\ttotal: 300ms\tremaining: 5.26s\n",
      "54:\tlearn: 0.0043894\ttotal: 305ms\tremaining: 5.24s\n",
      "55:\tlearn: 0.0043358\ttotal: 310ms\tremaining: 5.22s\n",
      "56:\tlearn: 0.0042747\ttotal: 314ms\tremaining: 5.2s\n",
      "57:\tlearn: 0.0042548\ttotal: 319ms\tremaining: 5.18s\n",
      "58:\tlearn: 0.0042116\ttotal: 324ms\tremaining: 5.16s\n",
      "59:\tlearn: 0.0041607\ttotal: 329ms\tremaining: 5.15s\n",
      "60:\tlearn: 0.0041263\ttotal: 333ms\tremaining: 5.13s\n",
      "61:\tlearn: 0.0040990\ttotal: 338ms\tremaining: 5.11s\n",
      "62:\tlearn: 0.0040420\ttotal: 343ms\tremaining: 5.1s\n",
      "63:\tlearn: 0.0039963\ttotal: 349ms\tremaining: 5.11s\n",
      "64:\tlearn: 0.0039676\ttotal: 354ms\tremaining: 5.09s\n",
      "65:\tlearn: 0.0039525\ttotal: 360ms\tremaining: 5.09s\n",
      "66:\tlearn: 0.0039196\ttotal: 367ms\tremaining: 5.1s\n",
      "67:\tlearn: 0.0038968\ttotal: 372ms\tremaining: 5.1s\n",
      "68:\tlearn: 0.0038596\ttotal: 377ms\tremaining: 5.09s\n",
      "69:\tlearn: 0.0038322\ttotal: 381ms\tremaining: 5.06s\n",
      "70:\tlearn: 0.0038203\ttotal: 386ms\tremaining: 5.05s\n",
      "71:\tlearn: 0.0038014\ttotal: 391ms\tremaining: 5.03s\n",
      "72:\tlearn: 0.0037894\ttotal: 395ms\tremaining: 5.01s\n",
      "73:\tlearn: 0.0037728\ttotal: 399ms\tremaining: 5s\n",
      "74:\tlearn: 0.0037611\ttotal: 404ms\tremaining: 4.98s\n",
      "75:\tlearn: 0.0037408\ttotal: 409ms\tremaining: 4.97s\n",
      "76:\tlearn: 0.0037197\ttotal: 414ms\tremaining: 4.96s\n",
      "77:\tlearn: 0.0037057\ttotal: 419ms\tremaining: 4.95s\n",
      "78:\tlearn: 0.0036907\ttotal: 424ms\tremaining: 4.95s\n",
      "79:\tlearn: 0.0036689\ttotal: 429ms\tremaining: 4.93s\n",
      "80:\tlearn: 0.0036463\ttotal: 435ms\tremaining: 4.93s\n",
      "81:\tlearn: 0.0036134\ttotal: 439ms\tremaining: 4.92s\n",
      "82:\tlearn: 0.0035813\ttotal: 444ms\tremaining: 4.9s\n",
      "83:\tlearn: 0.0035591\ttotal: 448ms\tremaining: 4.88s\n",
      "84:\tlearn: 0.0035591\ttotal: 451ms\tremaining: 4.85s\n",
      "85:\tlearn: 0.0035284\ttotal: 455ms\tremaining: 4.84s\n",
      "86:\tlearn: 0.0035213\ttotal: 460ms\tremaining: 4.83s\n",
      "87:\tlearn: 0.0034959\ttotal: 464ms\tremaining: 4.8s\n",
      "88:\tlearn: 0.0034760\ttotal: 468ms\tremaining: 4.79s\n",
      "89:\tlearn: 0.0034663\ttotal: 473ms\tremaining: 4.78s\n",
      "90:\tlearn: 0.0034480\ttotal: 477ms\tremaining: 4.76s\n",
      "91:\tlearn: 0.0034370\ttotal: 481ms\tremaining: 4.75s\n",
      "92:\tlearn: 0.0034276\ttotal: 486ms\tremaining: 4.74s\n",
      "93:\tlearn: 0.0034111\ttotal: 491ms\tremaining: 4.73s\n",
      "94:\tlearn: 0.0033979\ttotal: 495ms\tremaining: 4.72s\n",
      "95:\tlearn: 0.0033840\ttotal: 500ms\tremaining: 4.71s\n",
      "96:\tlearn: 0.0033729\ttotal: 505ms\tremaining: 4.7s\n",
      "97:\tlearn: 0.0033620\ttotal: 509ms\tremaining: 4.69s\n",
      "98:\tlearn: 0.0033528\ttotal: 514ms\tremaining: 4.67s\n",
      "99:\tlearn: 0.0033428\ttotal: 518ms\tremaining: 4.66s\n",
      "100:\tlearn: 0.0033259\ttotal: 523ms\tremaining: 4.66s\n",
      "101:\tlearn: 0.0033259\ttotal: 527ms\tremaining: 4.64s\n",
      "102:\tlearn: 0.0033145\ttotal: 532ms\tremaining: 4.63s\n",
      "103:\tlearn: 0.0033042\ttotal: 537ms\tremaining: 4.63s\n",
      "104:\tlearn: 0.0032846\ttotal: 543ms\tremaining: 4.63s\n",
      "105:\tlearn: 0.0032691\ttotal: 547ms\tremaining: 4.62s\n",
      "106:\tlearn: 0.0032575\ttotal: 552ms\tremaining: 4.61s\n",
      "107:\tlearn: 0.0032463\ttotal: 556ms\tremaining: 4.59s\n",
      "108:\tlearn: 0.0032396\ttotal: 561ms\tremaining: 4.58s\n",
      "109:\tlearn: 0.0032230\ttotal: 565ms\tremaining: 4.57s\n",
      "110:\tlearn: 0.0032147\ttotal: 570ms\tremaining: 4.57s\n",
      "111:\tlearn: 0.0032064\ttotal: 574ms\tremaining: 4.55s\n",
      "112:\tlearn: 0.0032003\ttotal: 579ms\tremaining: 4.54s\n",
      "113:\tlearn: 0.0031906\ttotal: 583ms\tremaining: 4.53s\n",
      "114:\tlearn: 0.0031707\ttotal: 588ms\tremaining: 4.52s\n",
      "115:\tlearn: 0.0031575\ttotal: 592ms\tremaining: 4.51s\n",
      "116:\tlearn: 0.0031520\ttotal: 597ms\tremaining: 4.5s\n",
      "117:\tlearn: 0.0031447\ttotal: 602ms\tremaining: 4.5s\n",
      "118:\tlearn: 0.0031336\ttotal: 606ms\tremaining: 4.49s\n",
      "119:\tlearn: 0.0031147\ttotal: 610ms\tremaining: 4.48s\n",
      "120:\tlearn: 0.0030963\ttotal: 616ms\tremaining: 4.48s\n",
      "121:\tlearn: 0.0030839\ttotal: 622ms\tremaining: 4.47s\n",
      "122:\tlearn: 0.0030839\ttotal: 625ms\tremaining: 4.46s\n",
      "123:\tlearn: 0.0030693\ttotal: 630ms\tremaining: 4.45s\n",
      "124:\tlearn: 0.0030589\ttotal: 635ms\tremaining: 4.44s\n",
      "125:\tlearn: 0.0030589\ttotal: 638ms\tremaining: 4.43s\n",
      "126:\tlearn: 0.0030498\ttotal: 642ms\tremaining: 4.41s\n",
      "127:\tlearn: 0.0030365\ttotal: 647ms\tremaining: 4.41s\n",
      "128:\tlearn: 0.0030267\ttotal: 652ms\tremaining: 4.4s\n",
      "129:\tlearn: 0.0030167\ttotal: 657ms\tremaining: 4.39s\n",
      "130:\tlearn: 0.0029966\ttotal: 663ms\tremaining: 4.4s\n",
      "131:\tlearn: 0.0029814\ttotal: 668ms\tremaining: 4.39s\n",
      "132:\tlearn: 0.0029814\ttotal: 674ms\tremaining: 4.39s\n",
      "133:\tlearn: 0.0029638\ttotal: 680ms\tremaining: 4.39s\n",
      "134:\tlearn: 0.0029638\ttotal: 685ms\tremaining: 4.39s\n",
      "135:\tlearn: 0.0029430\ttotal: 690ms\tremaining: 4.38s\n",
      "136:\tlearn: 0.0029345\ttotal: 696ms\tremaining: 4.38s\n",
      "137:\tlearn: 0.0029280\ttotal: 701ms\tremaining: 4.38s\n",
      "138:\tlearn: 0.0029120\ttotal: 706ms\tremaining: 4.38s\n",
      "139:\tlearn: 0.0028921\ttotal: 711ms\tremaining: 4.37s\n",
      "140:\tlearn: 0.0028819\ttotal: 716ms\tremaining: 4.36s\n",
      "141:\tlearn: 0.0028754\ttotal: 721ms\tremaining: 4.35s\n",
      "142:\tlearn: 0.0028652\ttotal: 725ms\tremaining: 4.35s\n",
      "143:\tlearn: 0.0028602\ttotal: 731ms\tremaining: 4.34s\n",
      "144:\tlearn: 0.0028602\ttotal: 735ms\tremaining: 4.33s\n",
      "145:\tlearn: 0.0028602\ttotal: 739ms\tremaining: 4.32s\n",
      "146:\tlearn: 0.0028418\ttotal: 744ms\tremaining: 4.32s\n",
      "147:\tlearn: 0.0028418\ttotal: 748ms\tremaining: 4.3s\n",
      "148:\tlearn: 0.0028328\ttotal: 753ms\tremaining: 4.3s\n",
      "149:\tlearn: 0.0028219\ttotal: 758ms\tremaining: 4.29s\n",
      "150:\tlearn: 0.0028107\ttotal: 762ms\tremaining: 4.28s\n",
      "151:\tlearn: 0.0028020\ttotal: 767ms\tremaining: 4.28s\n",
      "152:\tlearn: 0.0028020\ttotal: 771ms\tremaining: 4.27s\n",
      "153:\tlearn: 0.0028020\ttotal: 774ms\tremaining: 4.25s\n",
      "154:\tlearn: 0.0027906\ttotal: 778ms\tremaining: 4.24s\n",
      "155:\tlearn: 0.0027906\ttotal: 781ms\tremaining: 4.23s\n",
      "156:\tlearn: 0.0027734\ttotal: 786ms\tremaining: 4.22s\n",
      "157:\tlearn: 0.0027734\ttotal: 790ms\tremaining: 4.21s\n",
      "158:\tlearn: 0.0027665\ttotal: 794ms\tremaining: 4.2s\n",
      "159:\tlearn: 0.0027511\ttotal: 798ms\tremaining: 4.19s\n",
      "160:\tlearn: 0.0027441\ttotal: 803ms\tremaining: 4.18s\n",
      "161:\tlearn: 0.0027441\ttotal: 806ms\tremaining: 4.17s\n",
      "162:\tlearn: 0.0027383\ttotal: 812ms\tremaining: 4.17s\n",
      "163:\tlearn: 0.0027383\ttotal: 816ms\tremaining: 4.16s\n",
      "164:\tlearn: 0.0027290\ttotal: 821ms\tremaining: 4.16s\n",
      "165:\tlearn: 0.0027191\ttotal: 826ms\tremaining: 4.15s\n",
      "166:\tlearn: 0.0027058\ttotal: 831ms\tremaining: 4.14s\n",
      "167:\tlearn: 0.0027058\ttotal: 835ms\tremaining: 4.13s\n",
      "168:\tlearn: 0.0026975\ttotal: 839ms\tremaining: 4.13s\n",
      "169:\tlearn: 0.0026850\ttotal: 844ms\tremaining: 4.12s\n",
      "170:\tlearn: 0.0026850\ttotal: 847ms\tremaining: 4.11s\n",
      "171:\tlearn: 0.0026766\ttotal: 853ms\tremaining: 4.1s\n",
      "172:\tlearn: 0.0026766\ttotal: 856ms\tremaining: 4.09s\n",
      "173:\tlearn: 0.0026697\ttotal: 861ms\tremaining: 4.09s\n",
      "174:\tlearn: 0.0026575\ttotal: 866ms\tremaining: 4.08s\n",
      "175:\tlearn: 0.0026457\ttotal: 870ms\tremaining: 4.07s\n",
      "176:\tlearn: 0.0026378\ttotal: 874ms\tremaining: 4.06s\n",
      "177:\tlearn: 0.0026378\ttotal: 878ms\tremaining: 4.05s\n",
      "178:\tlearn: 0.0026258\ttotal: 882ms\tremaining: 4.05s\n",
      "179:\tlearn: 0.0026109\ttotal: 887ms\tremaining: 4.04s\n",
      "180:\tlearn: 0.0026017\ttotal: 892ms\tremaining: 4.04s\n",
      "181:\tlearn: 0.0026017\ttotal: 896ms\tremaining: 4.03s\n",
      "182:\tlearn: 0.0026017\ttotal: 899ms\tremaining: 4.01s\n",
      "183:\tlearn: 0.0025886\ttotal: 904ms\tremaining: 4.01s\n",
      "184:\tlearn: 0.0025886\ttotal: 907ms\tremaining: 3.99s\n",
      "185:\tlearn: 0.0025819\ttotal: 910ms\tremaining: 3.98s\n",
      "186:\tlearn: 0.0025819\ttotal: 913ms\tremaining: 3.97s\n",
      "187:\tlearn: 0.0025819\ttotal: 917ms\tremaining: 3.96s\n",
      "188:\tlearn: 0.0025819\ttotal: 920ms\tremaining: 3.95s\n",
      "189:\tlearn: 0.0025754\ttotal: 923ms\tremaining: 3.94s\n",
      "190:\tlearn: 0.0025754\ttotal: 926ms\tremaining: 3.92s\n",
      "191:\tlearn: 0.0025594\ttotal: 930ms\tremaining: 3.92s\n",
      "192:\tlearn: 0.0025458\ttotal: 935ms\tremaining: 3.91s\n",
      "193:\tlearn: 0.0025458\ttotal: 939ms\tremaining: 3.9s\n",
      "194:\tlearn: 0.0025442\ttotal: 944ms\tremaining: 3.9s\n",
      "195:\tlearn: 0.0025345\ttotal: 949ms\tremaining: 3.89s\n",
      "196:\tlearn: 0.0025206\ttotal: 954ms\tremaining: 3.89s\n",
      "197:\tlearn: 0.0025092\ttotal: 959ms\tremaining: 3.88s\n",
      "198:\tlearn: 0.0025092\ttotal: 963ms\tremaining: 3.88s\n",
      "199:\tlearn: 0.0024980\ttotal: 966ms\tremaining: 3.87s\n",
      "200:\tlearn: 0.0024979\ttotal: 969ms\tremaining: 3.85s\n",
      "201:\tlearn: 0.0024922\ttotal: 974ms\tremaining: 3.85s\n",
      "202:\tlearn: 0.0024886\ttotal: 977ms\tremaining: 3.83s\n",
      "203:\tlearn: 0.0024886\ttotal: 980ms\tremaining: 3.82s\n",
      "204:\tlearn: 0.0024886\ttotal: 983ms\tremaining: 3.81s\n",
      "205:\tlearn: 0.0024886\ttotal: 986ms\tremaining: 3.8s\n",
      "206:\tlearn: 0.0024841\ttotal: 990ms\tremaining: 3.79s\n",
      "207:\tlearn: 0.0024729\ttotal: 995ms\tremaining: 3.79s\n",
      "208:\tlearn: 0.0024729\ttotal: 999ms\tremaining: 3.78s\n",
      "209:\tlearn: 0.0024729\ttotal: 1s\tremaining: 3.77s\n",
      "210:\tlearn: 0.0024653\ttotal: 1.01s\tremaining: 3.77s\n",
      "211:\tlearn: 0.0024653\ttotal: 1.01s\tremaining: 3.75s\n",
      "212:\tlearn: 0.0024581\ttotal: 1.01s\tremaining: 3.75s\n",
      "213:\tlearn: 0.0024498\ttotal: 1.02s\tremaining: 3.74s\n",
      "214:\tlearn: 0.0024498\ttotal: 1.02s\tremaining: 3.73s\n",
      "215:\tlearn: 0.0024498\ttotal: 1.02s\tremaining: 3.71s\n",
      "216:\tlearn: 0.0024498\ttotal: 1.03s\tremaining: 3.7s\n",
      "217:\tlearn: 0.0024333\ttotal: 1.03s\tremaining: 3.69s\n",
      "218:\tlearn: 0.0024333\ttotal: 1.03s\tremaining: 3.68s\n",
      "219:\tlearn: 0.0024333\ttotal: 1.04s\tremaining: 3.67s\n",
      "220:\tlearn: 0.0024218\ttotal: 1.04s\tremaining: 3.67s\n",
      "221:\tlearn: 0.0024218\ttotal: 1.04s\tremaining: 3.66s\n",
      "222:\tlearn: 0.0024218\ttotal: 1.05s\tremaining: 3.65s\n",
      "223:\tlearn: 0.0024218\ttotal: 1.05s\tremaining: 3.63s\n",
      "224:\tlearn: 0.0024120\ttotal: 1.05s\tremaining: 3.63s\n",
      "225:\tlearn: 0.0024031\ttotal: 1.06s\tremaining: 3.62s\n",
      "226:\tlearn: 0.0024031\ttotal: 1.06s\tremaining: 3.61s\n",
      "227:\tlearn: 0.0024031\ttotal: 1.06s\tremaining: 3.6s\n",
      "228:\tlearn: 0.0023983\ttotal: 1.06s\tremaining: 3.59s\n",
      "229:\tlearn: 0.0023983\ttotal: 1.07s\tremaining: 3.58s\n",
      "230:\tlearn: 0.0023897\ttotal: 1.07s\tremaining: 3.57s\n",
      "231:\tlearn: 0.0023896\ttotal: 1.07s\tremaining: 3.56s\n",
      "232:\tlearn: 0.0023841\ttotal: 1.08s\tremaining: 3.56s\n",
      "233:\tlearn: 0.0023753\ttotal: 1.08s\tremaining: 3.55s\n",
      "234:\tlearn: 0.0023672\ttotal: 1.09s\tremaining: 3.55s\n",
      "235:\tlearn: 0.0023600\ttotal: 1.09s\tremaining: 3.54s\n",
      "236:\tlearn: 0.0023551\ttotal: 1.1s\tremaining: 3.53s\n",
      "237:\tlearn: 0.0023460\ttotal: 1.1s\tremaining: 3.53s\n",
      "238:\tlearn: 0.0023460\ttotal: 1.1s\tremaining: 3.52s\n",
      "239:\tlearn: 0.0023408\ttotal: 1.11s\tremaining: 3.51s\n",
      "240:\tlearn: 0.0023323\ttotal: 1.11s\tremaining: 3.5s\n",
      "241:\tlearn: 0.0023323\ttotal: 1.11s\tremaining: 3.49s\n",
      "242:\tlearn: 0.0023323\ttotal: 1.12s\tremaining: 3.48s\n",
      "243:\tlearn: 0.0023323\ttotal: 1.12s\tremaining: 3.48s\n",
      "244:\tlearn: 0.0023323\ttotal: 1.13s\tremaining: 3.47s\n",
      "245:\tlearn: 0.0023203\ttotal: 1.13s\tremaining: 3.47s\n",
      "246:\tlearn: 0.0023203\ttotal: 1.14s\tremaining: 3.46s\n",
      "247:\tlearn: 0.0023203\ttotal: 1.14s\tremaining: 3.46s\n",
      "248:\tlearn: 0.0023113\ttotal: 1.15s\tremaining: 3.45s\n",
      "249:\tlearn: 0.0023113\ttotal: 1.15s\tremaining: 3.45s\n",
      "250:\tlearn: 0.0023113\ttotal: 1.15s\tremaining: 3.44s\n",
      "251:\tlearn: 0.0023051\ttotal: 1.16s\tremaining: 3.44s\n",
      "252:\tlearn: 0.0022958\ttotal: 1.16s\tremaining: 3.43s\n",
      "253:\tlearn: 0.0022842\ttotal: 1.17s\tremaining: 3.43s\n",
      "254:\tlearn: 0.0022842\ttotal: 1.17s\tremaining: 3.42s\n",
      "255:\tlearn: 0.0022842\ttotal: 1.17s\tremaining: 3.41s\n",
      "256:\tlearn: 0.0022778\ttotal: 1.18s\tremaining: 3.4s\n",
      "257:\tlearn: 0.0022778\ttotal: 1.18s\tremaining: 3.4s\n",
      "258:\tlearn: 0.0022778\ttotal: 1.18s\tremaining: 3.38s\n",
      "259:\tlearn: 0.0022778\ttotal: 1.19s\tremaining: 3.38s\n",
      "260:\tlearn: 0.0022778\ttotal: 1.19s\tremaining: 3.36s\n",
      "261:\tlearn: 0.0022778\ttotal: 1.19s\tremaining: 3.35s\n",
      "262:\tlearn: 0.0022778\ttotal: 1.19s\tremaining: 3.35s\n",
      "263:\tlearn: 0.0022709\ttotal: 1.2s\tremaining: 3.34s\n",
      "264:\tlearn: 0.0022655\ttotal: 1.2s\tremaining: 3.33s\n",
      "265:\tlearn: 0.0022655\ttotal: 1.2s\tremaining: 3.32s\n",
      "266:\tlearn: 0.0022655\ttotal: 1.21s\tremaining: 3.31s\n",
      "267:\tlearn: 0.0022655\ttotal: 1.21s\tremaining: 3.31s\n",
      "268:\tlearn: 0.0022655\ttotal: 1.21s\tremaining: 3.3s\n",
      "269:\tlearn: 0.0022655\ttotal: 1.22s\tremaining: 3.29s\n",
      "270:\tlearn: 0.0022655\ttotal: 1.22s\tremaining: 3.28s\n",
      "271:\tlearn: 0.0022655\ttotal: 1.22s\tremaining: 3.27s\n",
      "272:\tlearn: 0.0022655\ttotal: 1.23s\tremaining: 3.26s\n",
      "273:\tlearn: 0.0022539\ttotal: 1.23s\tremaining: 3.26s\n",
      "274:\tlearn: 0.0022494\ttotal: 1.24s\tremaining: 3.26s\n",
      "275:\tlearn: 0.0022494\ttotal: 1.24s\tremaining: 3.25s\n",
      "276:\tlearn: 0.0022494\ttotal: 1.24s\tremaining: 3.25s\n",
      "277:\tlearn: 0.0022494\ttotal: 1.25s\tremaining: 3.24s\n",
      "278:\tlearn: 0.0022494\ttotal: 1.25s\tremaining: 3.23s\n",
      "279:\tlearn: 0.0022494\ttotal: 1.25s\tremaining: 3.23s\n",
      "280:\tlearn: 0.0022494\ttotal: 1.26s\tremaining: 3.22s\n",
      "281:\tlearn: 0.0022494\ttotal: 1.26s\tremaining: 3.21s\n",
      "282:\tlearn: 0.0022494\ttotal: 1.27s\tremaining: 3.21s\n",
      "283:\tlearn: 0.0022422\ttotal: 1.27s\tremaining: 3.2s\n",
      "284:\tlearn: 0.0022422\ttotal: 1.27s\tremaining: 3.2s\n",
      "285:\tlearn: 0.0022422\ttotal: 1.28s\tremaining: 3.19s\n",
      "286:\tlearn: 0.0022422\ttotal: 1.28s\tremaining: 3.18s\n",
      "287:\tlearn: 0.0022376\ttotal: 1.29s\tremaining: 3.18s\n",
      "288:\tlearn: 0.0022376\ttotal: 1.29s\tremaining: 3.18s\n",
      "289:\tlearn: 0.0022338\ttotal: 1.3s\tremaining: 3.17s\n",
      "290:\tlearn: 0.0022338\ttotal: 1.3s\tremaining: 3.17s\n",
      "291:\tlearn: 0.0022338\ttotal: 1.3s\tremaining: 3.16s\n",
      "292:\tlearn: 0.0022338\ttotal: 1.31s\tremaining: 3.15s\n",
      "293:\tlearn: 0.0022338\ttotal: 1.31s\tremaining: 3.15s\n",
      "294:\tlearn: 0.0022338\ttotal: 1.32s\tremaining: 3.15s\n",
      "295:\tlearn: 0.0022338\ttotal: 1.32s\tremaining: 3.15s\n",
      "296:\tlearn: 0.0022338\ttotal: 1.33s\tremaining: 3.14s\n",
      "297:\tlearn: 0.0022338\ttotal: 1.33s\tremaining: 3.14s\n",
      "298:\tlearn: 0.0022338\ttotal: 1.34s\tremaining: 3.13s\n",
      "299:\tlearn: 0.0022337\ttotal: 1.34s\tremaining: 3.13s\n",
      "300:\tlearn: 0.0022337\ttotal: 1.34s\tremaining: 3.12s\n",
      "301:\tlearn: 0.0022337\ttotal: 1.35s\tremaining: 3.12s\n",
      "302:\tlearn: 0.0022337\ttotal: 1.35s\tremaining: 3.12s\n",
      "303:\tlearn: 0.0022285\ttotal: 1.36s\tremaining: 3.12s\n",
      "304:\tlearn: 0.0022286\ttotal: 1.36s\tremaining: 3.11s\n",
      "305:\tlearn: 0.0022286\ttotal: 1.37s\tremaining: 3.1s\n",
      "306:\tlearn: 0.0022285\ttotal: 1.37s\tremaining: 3.1s\n",
      "307:\tlearn: 0.0022285\ttotal: 1.38s\tremaining: 3.1s\n",
      "308:\tlearn: 0.0022285\ttotal: 1.38s\tremaining: 3.09s\n",
      "309:\tlearn: 0.0022285\ttotal: 1.39s\tremaining: 3.09s\n",
      "310:\tlearn: 0.0022285\ttotal: 1.39s\tremaining: 3.08s\n",
      "311:\tlearn: 0.0022285\ttotal: 1.39s\tremaining: 3.07s\n",
      "312:\tlearn: 0.0022285\ttotal: 1.4s\tremaining: 3.07s\n",
      "313:\tlearn: 0.0022285\ttotal: 1.4s\tremaining: 3.06s\n",
      "314:\tlearn: 0.0022253\ttotal: 1.41s\tremaining: 3.06s\n",
      "315:\tlearn: 0.0022253\ttotal: 1.41s\tremaining: 3.06s\n",
      "316:\tlearn: 0.0022204\ttotal: 1.42s\tremaining: 3.06s\n",
      "317:\tlearn: 0.0022146\ttotal: 1.42s\tremaining: 3.05s\n",
      "318:\tlearn: 0.0022146\ttotal: 1.43s\tremaining: 3.05s\n",
      "319:\tlearn: 0.0022146\ttotal: 1.43s\tremaining: 3.04s\n",
      "320:\tlearn: 0.0022146\ttotal: 1.43s\tremaining: 3.03s\n",
      "321:\tlearn: 0.0022092\ttotal: 1.44s\tremaining: 3.03s\n",
      "322:\tlearn: 0.0022046\ttotal: 1.44s\tremaining: 3.03s\n",
      "323:\tlearn: 0.0022046\ttotal: 1.45s\tremaining: 3.02s\n",
      "324:\tlearn: 0.0021938\ttotal: 1.45s\tremaining: 3.02s\n",
      "325:\tlearn: 0.0021938\ttotal: 1.46s\tremaining: 3.01s\n",
      "326:\tlearn: 0.0021938\ttotal: 1.46s\tremaining: 3s\n",
      "327:\tlearn: 0.0021894\ttotal: 1.46s\tremaining: 3s\n",
      "328:\tlearn: 0.0021848\ttotal: 1.47s\tremaining: 2.99s\n",
      "329:\tlearn: 0.0021848\ttotal: 1.47s\tremaining: 2.99s\n",
      "330:\tlearn: 0.0021809\ttotal: 1.48s\tremaining: 2.98s\n",
      "331:\tlearn: 0.0021809\ttotal: 1.48s\tremaining: 2.98s\n",
      "332:\tlearn: 0.0021809\ttotal: 1.48s\tremaining: 2.97s\n",
      "333:\tlearn: 0.0021732\ttotal: 1.49s\tremaining: 2.97s\n",
      "334:\tlearn: 0.0021688\ttotal: 1.49s\tremaining: 2.97s\n",
      "335:\tlearn: 0.0021623\ttotal: 1.5s\tremaining: 2.96s\n",
      "336:\tlearn: 0.0021623\ttotal: 1.5s\tremaining: 2.95s\n",
      "337:\tlearn: 0.0021623\ttotal: 1.5s\tremaining: 2.95s\n",
      "338:\tlearn: 0.0021623\ttotal: 1.51s\tremaining: 2.94s\n",
      "339:\tlearn: 0.0021623\ttotal: 1.51s\tremaining: 2.93s\n",
      "340:\tlearn: 0.0021623\ttotal: 1.51s\tremaining: 2.93s\n",
      "341:\tlearn: 0.0021623\ttotal: 1.52s\tremaining: 2.92s\n",
      "342:\tlearn: 0.0021623\ttotal: 1.52s\tremaining: 2.91s\n",
      "343:\tlearn: 0.0021623\ttotal: 1.52s\tremaining: 2.91s\n",
      "344:\tlearn: 0.0021623\ttotal: 1.53s\tremaining: 2.9s\n",
      "345:\tlearn: 0.0021622\ttotal: 1.53s\tremaining: 2.9s\n",
      "346:\tlearn: 0.0021622\ttotal: 1.54s\tremaining: 2.89s\n",
      "347:\tlearn: 0.0021622\ttotal: 1.54s\tremaining: 2.88s\n",
      "348:\tlearn: 0.0021622\ttotal: 1.54s\tremaining: 2.88s\n",
      "349:\tlearn: 0.0021622\ttotal: 1.55s\tremaining: 2.87s\n",
      "350:\tlearn: 0.0021622\ttotal: 1.55s\tremaining: 2.87s\n",
      "351:\tlearn: 0.0021622\ttotal: 1.55s\tremaining: 2.86s\n",
      "352:\tlearn: 0.0021622\ttotal: 1.56s\tremaining: 2.85s\n",
      "353:\tlearn: 0.0021622\ttotal: 1.56s\tremaining: 2.85s\n",
      "354:\tlearn: 0.0021581\ttotal: 1.56s\tremaining: 2.84s\n",
      "355:\tlearn: 0.0021581\ttotal: 1.57s\tremaining: 2.84s\n",
      "356:\tlearn: 0.0021581\ttotal: 1.57s\tremaining: 2.83s\n",
      "357:\tlearn: 0.0021580\ttotal: 1.57s\tremaining: 2.83s\n",
      "358:\tlearn: 0.0021580\ttotal: 1.58s\tremaining: 2.82s\n",
      "359:\tlearn: 0.0021580\ttotal: 1.58s\tremaining: 2.81s\n",
      "360:\tlearn: 0.0021580\ttotal: 1.59s\tremaining: 2.81s\n",
      "361:\tlearn: 0.0021580\ttotal: 1.59s\tremaining: 2.8s\n",
      "362:\tlearn: 0.0021580\ttotal: 1.59s\tremaining: 2.8s\n",
      "363:\tlearn: 0.0021579\ttotal: 1.6s\tremaining: 2.79s\n",
      "364:\tlearn: 0.0021579\ttotal: 1.6s\tremaining: 2.78s\n",
      "365:\tlearn: 0.0021579\ttotal: 1.6s\tremaining: 2.78s\n",
      "366:\tlearn: 0.0021579\ttotal: 1.61s\tremaining: 2.77s\n",
      "367:\tlearn: 0.0021579\ttotal: 1.61s\tremaining: 2.77s\n",
      "368:\tlearn: 0.0021579\ttotal: 1.61s\tremaining: 2.76s\n",
      "369:\tlearn: 0.0021579\ttotal: 1.62s\tremaining: 2.75s\n",
      "370:\tlearn: 0.0021579\ttotal: 1.62s\tremaining: 2.75s\n",
      "371:\tlearn: 0.0021579\ttotal: 1.62s\tremaining: 2.74s\n",
      "372:\tlearn: 0.0021579\ttotal: 1.63s\tremaining: 2.73s\n",
      "373:\tlearn: 0.0021579\ttotal: 1.63s\tremaining: 2.73s\n",
      "374:\tlearn: 0.0021579\ttotal: 1.63s\tremaining: 2.72s\n",
      "375:\tlearn: 0.0021579\ttotal: 1.64s\tremaining: 2.72s\n",
      "376:\tlearn: 0.0021578\ttotal: 1.64s\tremaining: 2.71s\n",
      "377:\tlearn: 0.0021578\ttotal: 1.64s\tremaining: 2.71s\n",
      "378:\tlearn: 0.0021578\ttotal: 1.65s\tremaining: 2.7s\n",
      "379:\tlearn: 0.0021578\ttotal: 1.65s\tremaining: 2.69s\n",
      "380:\tlearn: 0.0021578\ttotal: 1.65s\tremaining: 2.69s\n",
      "381:\tlearn: 0.0021578\ttotal: 1.66s\tremaining: 2.68s\n",
      "382:\tlearn: 0.0021578\ttotal: 1.66s\tremaining: 2.68s\n",
      "383:\tlearn: 0.0021578\ttotal: 1.66s\tremaining: 2.67s\n",
      "384:\tlearn: 0.0021578\ttotal: 1.67s\tremaining: 2.66s\n",
      "385:\tlearn: 0.0021578\ttotal: 1.67s\tremaining: 2.66s\n",
      "386:\tlearn: 0.0021578\ttotal: 1.68s\tremaining: 2.65s\n",
      "387:\tlearn: 0.0021577\ttotal: 1.68s\tremaining: 2.65s\n",
      "388:\tlearn: 0.0021577\ttotal: 1.68s\tremaining: 2.64s\n",
      "389:\tlearn: 0.0021577\ttotal: 1.69s\tremaining: 2.64s\n",
      "390:\tlearn: 0.0021577\ttotal: 1.69s\tremaining: 2.63s\n",
      "391:\tlearn: 0.0021577\ttotal: 1.69s\tremaining: 2.63s\n",
      "392:\tlearn: 0.0021577\ttotal: 1.7s\tremaining: 2.62s\n",
      "393:\tlearn: 0.0021577\ttotal: 1.7s\tremaining: 2.62s\n",
      "394:\tlearn: 0.0021577\ttotal: 1.7s\tremaining: 2.61s\n",
      "395:\tlearn: 0.0021576\ttotal: 1.71s\tremaining: 2.6s\n",
      "396:\tlearn: 0.0021576\ttotal: 1.71s\tremaining: 2.6s\n",
      "397:\tlearn: 0.0021576\ttotal: 1.72s\tremaining: 2.59s\n",
      "398:\tlearn: 0.0021576\ttotal: 1.72s\tremaining: 2.59s\n",
      "399:\tlearn: 0.0021576\ttotal: 1.72s\tremaining: 2.58s\n",
      "400:\tlearn: 0.0021576\ttotal: 1.73s\tremaining: 2.58s\n",
      "401:\tlearn: 0.0021576\ttotal: 1.73s\tremaining: 2.57s\n",
      "402:\tlearn: 0.0021576\ttotal: 1.73s\tremaining: 2.57s\n",
      "403:\tlearn: 0.0021576\ttotal: 1.74s\tremaining: 2.56s\n",
      "404:\tlearn: 0.0021575\ttotal: 1.74s\tremaining: 2.56s\n",
      "405:\tlearn: 0.0021575\ttotal: 1.74s\tremaining: 2.55s\n",
      "406:\tlearn: 0.0021575\ttotal: 1.75s\tremaining: 2.55s\n",
      "407:\tlearn: 0.0021575\ttotal: 1.75s\tremaining: 2.54s\n",
      "408:\tlearn: 0.0021575\ttotal: 1.76s\tremaining: 2.54s\n",
      "409:\tlearn: 0.0021575\ttotal: 1.76s\tremaining: 2.53s\n",
      "410:\tlearn: 0.0021574\ttotal: 1.76s\tremaining: 2.53s\n",
      "411:\tlearn: 0.0021574\ttotal: 1.77s\tremaining: 2.52s\n",
      "412:\tlearn: 0.0021574\ttotal: 1.77s\tremaining: 2.52s\n",
      "413:\tlearn: 0.0021573\ttotal: 1.77s\tremaining: 2.51s\n",
      "414:\tlearn: 0.0021573\ttotal: 1.78s\tremaining: 2.51s\n",
      "415:\tlearn: 0.0021573\ttotal: 1.78s\tremaining: 2.5s\n",
      "416:\tlearn: 0.0021573\ttotal: 1.79s\tremaining: 2.5s\n",
      "417:\tlearn: 0.0021573\ttotal: 1.79s\tremaining: 2.49s\n",
      "418:\tlearn: 0.0021573\ttotal: 1.79s\tremaining: 2.49s\n",
      "419:\tlearn: 0.0021573\ttotal: 1.8s\tremaining: 2.48s\n",
      "420:\tlearn: 0.0021573\ttotal: 1.8s\tremaining: 2.48s\n",
      "421:\tlearn: 0.0021572\ttotal: 1.81s\tremaining: 2.47s\n",
      "422:\tlearn: 0.0021572\ttotal: 1.81s\tremaining: 2.47s\n",
      "423:\tlearn: 0.0021572\ttotal: 1.81s\tremaining: 2.46s\n",
      "424:\tlearn: 0.0021572\ttotal: 1.82s\tremaining: 2.46s\n",
      "425:\tlearn: 0.0021572\ttotal: 1.82s\tremaining: 2.45s\n",
      "426:\tlearn: 0.0021572\ttotal: 1.82s\tremaining: 2.45s\n",
      "427:\tlearn: 0.0021572\ttotal: 1.83s\tremaining: 2.44s\n",
      "428:\tlearn: 0.0021572\ttotal: 1.83s\tremaining: 2.44s\n",
      "429:\tlearn: 0.0021572\ttotal: 1.83s\tremaining: 2.43s\n",
      "430:\tlearn: 0.0021571\ttotal: 1.84s\tremaining: 2.42s\n",
      "431:\tlearn: 0.0021571\ttotal: 1.84s\tremaining: 2.42s\n",
      "432:\tlearn: 0.0021571\ttotal: 1.84s\tremaining: 2.41s\n",
      "433:\tlearn: 0.0021571\ttotal: 1.85s\tremaining: 2.41s\n",
      "434:\tlearn: 0.0021570\ttotal: 1.85s\tremaining: 2.4s\n",
      "435:\tlearn: 0.0021570\ttotal: 1.85s\tremaining: 2.4s\n",
      "436:\tlearn: 0.0021570\ttotal: 1.86s\tremaining: 2.39s\n",
      "437:\tlearn: 0.0021570\ttotal: 1.86s\tremaining: 2.39s\n",
      "438:\tlearn: 0.0021570\ttotal: 1.86s\tremaining: 2.38s\n",
      "439:\tlearn: 0.0021570\ttotal: 1.87s\tremaining: 2.38s\n",
      "440:\tlearn: 0.0021569\ttotal: 1.87s\tremaining: 2.37s\n",
      "441:\tlearn: 0.0021569\ttotal: 1.87s\tremaining: 2.37s\n",
      "442:\tlearn: 0.0021569\ttotal: 1.88s\tremaining: 2.36s\n",
      "443:\tlearn: 0.0021569\ttotal: 1.88s\tremaining: 2.36s\n",
      "444:\tlearn: 0.0021569\ttotal: 1.88s\tremaining: 2.35s\n",
      "445:\tlearn: 0.0021569\ttotal: 1.89s\tremaining: 2.34s\n",
      "446:\tlearn: 0.0021568\ttotal: 1.89s\tremaining: 2.34s\n",
      "447:\tlearn: 0.0021568\ttotal: 1.89s\tremaining: 2.33s\n",
      "448:\tlearn: 0.0021568\ttotal: 1.9s\tremaining: 2.33s\n",
      "449:\tlearn: 0.0021568\ttotal: 1.9s\tremaining: 2.32s\n",
      "450:\tlearn: 0.0021568\ttotal: 1.91s\tremaining: 2.32s\n",
      "451:\tlearn: 0.0021568\ttotal: 1.91s\tremaining: 2.31s\n",
      "452:\tlearn: 0.0021568\ttotal: 1.91s\tremaining: 2.31s\n",
      "453:\tlearn: 0.0021568\ttotal: 1.92s\tremaining: 2.3s\n",
      "454:\tlearn: 0.0021568\ttotal: 1.92s\tremaining: 2.3s\n",
      "455:\tlearn: 0.0021567\ttotal: 1.92s\tremaining: 2.29s\n",
      "456:\tlearn: 0.0021567\ttotal: 1.93s\tremaining: 2.29s\n",
      "457:\tlearn: 0.0021566\ttotal: 1.93s\tremaining: 2.29s\n",
      "458:\tlearn: 0.0021566\ttotal: 1.93s\tremaining: 2.28s\n",
      "459:\tlearn: 0.0021566\ttotal: 1.94s\tremaining: 2.27s\n",
      "460:\tlearn: 0.0021566\ttotal: 1.94s\tremaining: 2.27s\n",
      "461:\tlearn: 0.0021566\ttotal: 1.94s\tremaining: 2.26s\n",
      "462:\tlearn: 0.0021566\ttotal: 1.95s\tremaining: 2.26s\n",
      "463:\tlearn: 0.0021566\ttotal: 1.95s\tremaining: 2.25s\n",
      "464:\tlearn: 0.0021566\ttotal: 1.96s\tremaining: 2.25s\n",
      "465:\tlearn: 0.0021566\ttotal: 1.96s\tremaining: 2.25s\n",
      "466:\tlearn: 0.0021566\ttotal: 1.96s\tremaining: 2.24s\n",
      "467:\tlearn: 0.0021566\ttotal: 1.97s\tremaining: 2.24s\n",
      "468:\tlearn: 0.0021566\ttotal: 1.97s\tremaining: 2.23s\n",
      "469:\tlearn: 0.0021566\ttotal: 1.97s\tremaining: 2.23s\n",
      "470:\tlearn: 0.0021566\ttotal: 1.98s\tremaining: 2.22s\n",
      "471:\tlearn: 0.0021565\ttotal: 1.98s\tremaining: 2.22s\n",
      "472:\tlearn: 0.0021565\ttotal: 1.99s\tremaining: 2.21s\n",
      "473:\tlearn: 0.0021565\ttotal: 1.99s\tremaining: 2.21s\n",
      "474:\tlearn: 0.0021565\ttotal: 1.99s\tremaining: 2.2s\n",
      "475:\tlearn: 0.0021565\ttotal: 2s\tremaining: 2.2s\n",
      "476:\tlearn: 0.0021565\ttotal: 2s\tremaining: 2.19s\n",
      "477:\tlearn: 0.0021565\ttotal: 2.01s\tremaining: 2.19s\n",
      "478:\tlearn: 0.0021565\ttotal: 2.01s\tremaining: 2.19s\n",
      "479:\tlearn: 0.0021565\ttotal: 2.02s\tremaining: 2.19s\n",
      "480:\tlearn: 0.0021565\ttotal: 2.02s\tremaining: 2.18s\n",
      "481:\tlearn: 0.0021565\ttotal: 2.03s\tremaining: 2.18s\n",
      "482:\tlearn: 0.0021565\ttotal: 2.03s\tremaining: 2.17s\n",
      "483:\tlearn: 0.0021565\ttotal: 2.03s\tremaining: 2.17s\n",
      "484:\tlearn: 0.0021565\ttotal: 2.04s\tremaining: 2.16s\n",
      "485:\tlearn: 0.0021565\ttotal: 2.04s\tremaining: 2.16s\n",
      "486:\tlearn: 0.0021565\ttotal: 2.04s\tremaining: 2.15s\n",
      "487:\tlearn: 0.0021565\ttotal: 2.05s\tremaining: 2.15s\n",
      "488:\tlearn: 0.0021565\ttotal: 2.05s\tremaining: 2.14s\n",
      "489:\tlearn: 0.0021565\ttotal: 2.06s\tremaining: 2.14s\n",
      "490:\tlearn: 0.0021565\ttotal: 2.06s\tremaining: 2.13s\n",
      "491:\tlearn: 0.0021565\ttotal: 2.06s\tremaining: 2.13s\n",
      "492:\tlearn: 0.0021565\ttotal: 2.07s\tremaining: 2.13s\n",
      "493:\tlearn: 0.0021565\ttotal: 2.07s\tremaining: 2.12s\n",
      "494:\tlearn: 0.0021565\ttotal: 2.07s\tremaining: 2.12s\n",
      "495:\tlearn: 0.0021564\ttotal: 2.08s\tremaining: 2.11s\n",
      "496:\tlearn: 0.0021564\ttotal: 2.08s\tremaining: 2.11s\n",
      "497:\tlearn: 0.0021564\ttotal: 2.09s\tremaining: 2.1s\n",
      "498:\tlearn: 0.0021564\ttotal: 2.09s\tremaining: 2.1s\n",
      "499:\tlearn: 0.0021564\ttotal: 2.09s\tremaining: 2.09s\n",
      "500:\tlearn: 0.0021564\ttotal: 2.1s\tremaining: 2.09s\n",
      "501:\tlearn: 0.0021564\ttotal: 2.1s\tremaining: 2.08s\n",
      "502:\tlearn: 0.0021564\ttotal: 2.11s\tremaining: 2.08s\n",
      "503:\tlearn: 0.0021564\ttotal: 2.11s\tremaining: 2.08s\n",
      "504:\tlearn: 0.0021564\ttotal: 2.11s\tremaining: 2.07s\n",
      "505:\tlearn: 0.0021563\ttotal: 2.12s\tremaining: 2.07s\n",
      "506:\tlearn: 0.0021563\ttotal: 2.12s\tremaining: 2.06s\n",
      "507:\tlearn: 0.0021563\ttotal: 2.12s\tremaining: 2.06s\n",
      "508:\tlearn: 0.0021563\ttotal: 2.13s\tremaining: 2.05s\n",
      "509:\tlearn: 0.0021563\ttotal: 2.13s\tremaining: 2.05s\n",
      "510:\tlearn: 0.0021563\ttotal: 2.13s\tremaining: 2.04s\n",
      "511:\tlearn: 0.0021563\ttotal: 2.14s\tremaining: 2.04s\n",
      "512:\tlearn: 0.0021563\ttotal: 2.14s\tremaining: 2.03s\n",
      "513:\tlearn: 0.0021563\ttotal: 2.14s\tremaining: 2.03s\n",
      "514:\tlearn: 0.0021563\ttotal: 2.15s\tremaining: 2.02s\n",
      "515:\tlearn: 0.0021563\ttotal: 2.15s\tremaining: 2.02s\n",
      "516:\tlearn: 0.0021563\ttotal: 2.15s\tremaining: 2.01s\n",
      "517:\tlearn: 0.0021563\ttotal: 2.15s\tremaining: 2.01s\n",
      "518:\tlearn: 0.0021563\ttotal: 2.16s\tremaining: 2s\n",
      "519:\tlearn: 0.0021563\ttotal: 2.16s\tremaining: 2s\n",
      "520:\tlearn: 0.0021563\ttotal: 2.17s\tremaining: 1.99s\n",
      "521:\tlearn: 0.0021563\ttotal: 2.17s\tremaining: 1.99s\n",
      "522:\tlearn: 0.0021563\ttotal: 2.17s\tremaining: 1.98s\n",
      "523:\tlearn: 0.0021563\ttotal: 2.18s\tremaining: 1.98s\n",
      "524:\tlearn: 0.0021563\ttotal: 2.18s\tremaining: 1.97s\n",
      "525:\tlearn: 0.0021563\ttotal: 2.18s\tremaining: 1.97s\n",
      "526:\tlearn: 0.0021563\ttotal: 2.19s\tremaining: 1.96s\n",
      "527:\tlearn: 0.0021563\ttotal: 2.19s\tremaining: 1.96s\n",
      "528:\tlearn: 0.0021563\ttotal: 2.19s\tremaining: 1.95s\n",
      "529:\tlearn: 0.0021563\ttotal: 2.2s\tremaining: 1.95s\n",
      "530:\tlearn: 0.0021563\ttotal: 2.2s\tremaining: 1.94s\n",
      "531:\tlearn: 0.0021563\ttotal: 2.21s\tremaining: 1.94s\n",
      "532:\tlearn: 0.0021563\ttotal: 2.21s\tremaining: 1.93s\n",
      "533:\tlearn: 0.0021563\ttotal: 2.21s\tremaining: 1.93s\n",
      "534:\tlearn: 0.0021563\ttotal: 2.21s\tremaining: 1.93s\n",
      "535:\tlearn: 0.0021563\ttotal: 2.22s\tremaining: 1.92s\n",
      "536:\tlearn: 0.0021563\ttotal: 2.22s\tremaining: 1.92s\n",
      "537:\tlearn: 0.0021563\ttotal: 2.22s\tremaining: 1.91s\n",
      "538:\tlearn: 0.0021563\ttotal: 2.23s\tremaining: 1.91s\n",
      "539:\tlearn: 0.0021563\ttotal: 2.23s\tremaining: 1.9s\n",
      "540:\tlearn: 0.0021563\ttotal: 2.23s\tremaining: 1.9s\n",
      "541:\tlearn: 0.0021563\ttotal: 2.24s\tremaining: 1.89s\n",
      "542:\tlearn: 0.0021563\ttotal: 2.24s\tremaining: 1.89s\n",
      "543:\tlearn: 0.0021563\ttotal: 2.25s\tremaining: 1.88s\n",
      "544:\tlearn: 0.0021563\ttotal: 2.25s\tremaining: 1.88s\n",
      "545:\tlearn: 0.0021562\ttotal: 2.25s\tremaining: 1.87s\n",
      "546:\tlearn: 0.0021562\ttotal: 2.25s\tremaining: 1.87s\n",
      "547:\tlearn: 0.0021562\ttotal: 2.26s\tremaining: 1.86s\n",
      "548:\tlearn: 0.0021563\ttotal: 2.26s\tremaining: 1.86s\n",
      "549:\tlearn: 0.0021562\ttotal: 2.27s\tremaining: 1.85s\n",
      "550:\tlearn: 0.0021562\ttotal: 2.27s\tremaining: 1.85s\n",
      "551:\tlearn: 0.0021562\ttotal: 2.27s\tremaining: 1.85s\n",
      "552:\tlearn: 0.0021562\ttotal: 2.28s\tremaining: 1.84s\n",
      "553:\tlearn: 0.0021562\ttotal: 2.28s\tremaining: 1.84s\n",
      "554:\tlearn: 0.0021562\ttotal: 2.29s\tremaining: 1.83s\n",
      "555:\tlearn: 0.0021562\ttotal: 2.29s\tremaining: 1.83s\n",
      "556:\tlearn: 0.0021562\ttotal: 2.29s\tremaining: 1.82s\n",
      "557:\tlearn: 0.0021562\ttotal: 2.3s\tremaining: 1.82s\n",
      "558:\tlearn: 0.0021562\ttotal: 2.3s\tremaining: 1.81s\n",
      "559:\tlearn: 0.0021562\ttotal: 2.31s\tremaining: 1.81s\n",
      "560:\tlearn: 0.0021562\ttotal: 2.31s\tremaining: 1.81s\n",
      "561:\tlearn: 0.0021562\ttotal: 2.31s\tremaining: 1.8s\n",
      "562:\tlearn: 0.0021562\ttotal: 2.32s\tremaining: 1.8s\n",
      "563:\tlearn: 0.0021562\ttotal: 2.32s\tremaining: 1.79s\n",
      "564:\tlearn: 0.0021562\ttotal: 2.33s\tremaining: 1.79s\n",
      "565:\tlearn: 0.0021561\ttotal: 2.33s\tremaining: 1.79s\n",
      "566:\tlearn: 0.0021561\ttotal: 2.33s\tremaining: 1.78s\n",
      "567:\tlearn: 0.0021561\ttotal: 2.34s\tremaining: 1.78s\n",
      "568:\tlearn: 0.0021561\ttotal: 2.34s\tremaining: 1.77s\n",
      "569:\tlearn: 0.0021561\ttotal: 2.34s\tremaining: 1.77s\n",
      "570:\tlearn: 0.0021561\ttotal: 2.35s\tremaining: 1.76s\n",
      "571:\tlearn: 0.0021561\ttotal: 2.35s\tremaining: 1.76s\n",
      "572:\tlearn: 0.0021561\ttotal: 2.35s\tremaining: 1.75s\n",
      "573:\tlearn: 0.0021561\ttotal: 2.36s\tremaining: 1.75s\n",
      "574:\tlearn: 0.0021561\ttotal: 2.36s\tremaining: 1.75s\n",
      "575:\tlearn: 0.0021560\ttotal: 2.37s\tremaining: 1.74s\n",
      "576:\tlearn: 0.0021561\ttotal: 2.37s\tremaining: 1.74s\n",
      "577:\tlearn: 0.0021560\ttotal: 2.37s\tremaining: 1.73s\n",
      "578:\tlearn: 0.0021560\ttotal: 2.38s\tremaining: 1.73s\n",
      "579:\tlearn: 0.0021560\ttotal: 2.38s\tremaining: 1.72s\n",
      "580:\tlearn: 0.0021560\ttotal: 2.38s\tremaining: 1.72s\n",
      "581:\tlearn: 0.0021560\ttotal: 2.39s\tremaining: 1.72s\n",
      "582:\tlearn: 0.0021560\ttotal: 2.39s\tremaining: 1.71s\n",
      "583:\tlearn: 0.0021560\ttotal: 2.4s\tremaining: 1.71s\n",
      "584:\tlearn: 0.0021560\ttotal: 2.4s\tremaining: 1.7s\n",
      "585:\tlearn: 0.0021560\ttotal: 2.4s\tremaining: 1.7s\n",
      "586:\tlearn: 0.0021560\ttotal: 2.4s\tremaining: 1.69s\n",
      "587:\tlearn: 0.0021560\ttotal: 2.41s\tremaining: 1.69s\n",
      "588:\tlearn: 0.0021560\ttotal: 2.41s\tremaining: 1.68s\n",
      "589:\tlearn: 0.0021560\ttotal: 2.42s\tremaining: 1.68s\n",
      "590:\tlearn: 0.0021560\ttotal: 2.42s\tremaining: 1.67s\n",
      "591:\tlearn: 0.0021560\ttotal: 2.42s\tremaining: 1.67s\n",
      "592:\tlearn: 0.0021560\ttotal: 2.42s\tremaining: 1.66s\n",
      "593:\tlearn: 0.0021560\ttotal: 2.43s\tremaining: 1.66s\n",
      "594:\tlearn: 0.0021560\ttotal: 2.43s\tremaining: 1.66s\n",
      "595:\tlearn: 0.0021560\ttotal: 2.44s\tremaining: 1.65s\n",
      "596:\tlearn: 0.0021560\ttotal: 2.44s\tremaining: 1.65s\n",
      "597:\tlearn: 0.0021559\ttotal: 2.44s\tremaining: 1.64s\n",
      "598:\tlearn: 0.0021559\ttotal: 2.44s\tremaining: 1.64s\n",
      "599:\tlearn: 0.0021559\ttotal: 2.45s\tremaining: 1.63s\n",
      "600:\tlearn: 0.0021559\ttotal: 2.45s\tremaining: 1.63s\n",
      "601:\tlearn: 0.0021559\ttotal: 2.46s\tremaining: 1.62s\n",
      "602:\tlearn: 0.0021559\ttotal: 2.46s\tremaining: 1.62s\n",
      "603:\tlearn: 0.0021559\ttotal: 2.46s\tremaining: 1.61s\n",
      "604:\tlearn: 0.0021559\ttotal: 2.47s\tremaining: 1.61s\n",
      "605:\tlearn: 0.0021559\ttotal: 2.47s\tremaining: 1.61s\n",
      "606:\tlearn: 0.0021559\ttotal: 2.47s\tremaining: 1.6s\n",
      "607:\tlearn: 0.0021559\ttotal: 2.48s\tremaining: 1.6s\n",
      "608:\tlearn: 0.0021559\ttotal: 2.48s\tremaining: 1.59s\n",
      "609:\tlearn: 0.0021559\ttotal: 2.48s\tremaining: 1.59s\n",
      "610:\tlearn: 0.0021559\ttotal: 2.49s\tremaining: 1.58s\n",
      "611:\tlearn: 0.0021559\ttotal: 2.49s\tremaining: 1.58s\n",
      "612:\tlearn: 0.0021558\ttotal: 2.49s\tremaining: 1.57s\n",
      "613:\tlearn: 0.0021558\ttotal: 2.5s\tremaining: 1.57s\n",
      "614:\tlearn: 0.0021558\ttotal: 2.5s\tremaining: 1.56s\n",
      "615:\tlearn: 0.0021558\ttotal: 2.5s\tremaining: 1.56s\n",
      "616:\tlearn: 0.0021558\ttotal: 2.51s\tremaining: 1.56s\n",
      "617:\tlearn: 0.0021558\ttotal: 2.51s\tremaining: 1.55s\n",
      "618:\tlearn: 0.0021558\ttotal: 2.51s\tremaining: 1.55s\n",
      "619:\tlearn: 0.0021558\ttotal: 2.52s\tremaining: 1.54s\n",
      "620:\tlearn: 0.0021558\ttotal: 2.52s\tremaining: 1.54s\n",
      "621:\tlearn: 0.0021558\ttotal: 2.52s\tremaining: 1.53s\n",
      "622:\tlearn: 0.0021558\ttotal: 2.53s\tremaining: 1.53s\n",
      "623:\tlearn: 0.0021558\ttotal: 2.53s\tremaining: 1.52s\n",
      "624:\tlearn: 0.0021558\ttotal: 2.54s\tremaining: 1.52s\n",
      "625:\tlearn: 0.0021558\ttotal: 2.54s\tremaining: 1.52s\n",
      "626:\tlearn: 0.0021558\ttotal: 2.54s\tremaining: 1.51s\n",
      "627:\tlearn: 0.0021558\ttotal: 2.55s\tremaining: 1.51s\n",
      "628:\tlearn: 0.0021558\ttotal: 2.55s\tremaining: 1.5s\n",
      "629:\tlearn: 0.0021557\ttotal: 2.55s\tremaining: 1.5s\n",
      "630:\tlearn: 0.0021557\ttotal: 2.56s\tremaining: 1.5s\n",
      "631:\tlearn: 0.0021557\ttotal: 2.56s\tremaining: 1.49s\n",
      "632:\tlearn: 0.0021557\ttotal: 2.56s\tremaining: 1.49s\n",
      "633:\tlearn: 0.0021557\ttotal: 2.57s\tremaining: 1.48s\n",
      "634:\tlearn: 0.0021556\ttotal: 2.57s\tremaining: 1.48s\n",
      "635:\tlearn: 0.0021556\ttotal: 2.58s\tremaining: 1.47s\n",
      "636:\tlearn: 0.0021556\ttotal: 2.58s\tremaining: 1.47s\n",
      "637:\tlearn: 0.0021556\ttotal: 2.58s\tremaining: 1.47s\n",
      "638:\tlearn: 0.0021556\ttotal: 2.59s\tremaining: 1.46s\n",
      "639:\tlearn: 0.0021556\ttotal: 2.59s\tremaining: 1.46s\n",
      "640:\tlearn: 0.0021556\ttotal: 2.6s\tremaining: 1.45s\n",
      "641:\tlearn: 0.0021555\ttotal: 2.6s\tremaining: 1.45s\n",
      "642:\tlearn: 0.0021556\ttotal: 2.6s\tremaining: 1.45s\n",
      "643:\tlearn: 0.0021556\ttotal: 2.61s\tremaining: 1.44s\n",
      "644:\tlearn: 0.0021555\ttotal: 2.61s\tremaining: 1.44s\n",
      "645:\tlearn: 0.0021555\ttotal: 2.62s\tremaining: 1.43s\n",
      "646:\tlearn: 0.0021555\ttotal: 2.62s\tremaining: 1.43s\n",
      "647:\tlearn: 0.0021555\ttotal: 2.62s\tremaining: 1.42s\n",
      "648:\tlearn: 0.0021555\ttotal: 2.63s\tremaining: 1.42s\n",
      "649:\tlearn: 0.0021555\ttotal: 2.63s\tremaining: 1.42s\n",
      "650:\tlearn: 0.0021555\ttotal: 2.63s\tremaining: 1.41s\n",
      "651:\tlearn: 0.0021555\ttotal: 2.64s\tremaining: 1.41s\n",
      "652:\tlearn: 0.0021555\ttotal: 2.64s\tremaining: 1.4s\n",
      "653:\tlearn: 0.0021555\ttotal: 2.64s\tremaining: 1.4s\n",
      "654:\tlearn: 0.0021555\ttotal: 2.65s\tremaining: 1.39s\n",
      "655:\tlearn: 0.0021555\ttotal: 2.65s\tremaining: 1.39s\n",
      "656:\tlearn: 0.0021555\ttotal: 2.65s\tremaining: 1.38s\n",
      "657:\tlearn: 0.0021555\ttotal: 2.66s\tremaining: 1.38s\n",
      "658:\tlearn: 0.0021554\ttotal: 2.66s\tremaining: 1.38s\n",
      "659:\tlearn: 0.0021554\ttotal: 2.66s\tremaining: 1.37s\n",
      "660:\tlearn: 0.0021554\ttotal: 2.67s\tremaining: 1.37s\n",
      "661:\tlearn: 0.0021554\ttotal: 2.67s\tremaining: 1.36s\n",
      "662:\tlearn: 0.0021554\ttotal: 2.67s\tremaining: 1.36s\n",
      "663:\tlearn: 0.0021554\ttotal: 2.68s\tremaining: 1.35s\n",
      "664:\tlearn: 0.0021554\ttotal: 2.68s\tremaining: 1.35s\n",
      "665:\tlearn: 0.0021554\ttotal: 2.69s\tremaining: 1.35s\n",
      "666:\tlearn: 0.0021554\ttotal: 2.69s\tremaining: 1.34s\n",
      "667:\tlearn: 0.0021554\ttotal: 2.69s\tremaining: 1.34s\n",
      "668:\tlearn: 0.0021554\ttotal: 2.7s\tremaining: 1.33s\n",
      "669:\tlearn: 0.0021554\ttotal: 2.7s\tremaining: 1.33s\n",
      "670:\tlearn: 0.0021553\ttotal: 2.7s\tremaining: 1.32s\n",
      "671:\tlearn: 0.0021553\ttotal: 2.71s\tremaining: 1.32s\n",
      "672:\tlearn: 0.0021553\ttotal: 2.71s\tremaining: 1.32s\n",
      "673:\tlearn: 0.0021553\ttotal: 2.71s\tremaining: 1.31s\n",
      "674:\tlearn: 0.0021553\ttotal: 2.72s\tremaining: 1.31s\n",
      "675:\tlearn: 0.0021553\ttotal: 2.72s\tremaining: 1.3s\n",
      "676:\tlearn: 0.0021553\ttotal: 2.72s\tremaining: 1.3s\n",
      "677:\tlearn: 0.0021553\ttotal: 2.73s\tremaining: 1.29s\n",
      "678:\tlearn: 0.0021553\ttotal: 2.73s\tremaining: 1.29s\n",
      "679:\tlearn: 0.0021553\ttotal: 2.73s\tremaining: 1.29s\n",
      "680:\tlearn: 0.0021553\ttotal: 2.74s\tremaining: 1.28s\n",
      "681:\tlearn: 0.0021552\ttotal: 2.74s\tremaining: 1.28s\n",
      "682:\tlearn: 0.0021552\ttotal: 2.74s\tremaining: 1.27s\n",
      "683:\tlearn: 0.0021552\ttotal: 2.75s\tremaining: 1.27s\n",
      "684:\tlearn: 0.0021552\ttotal: 2.75s\tremaining: 1.26s\n",
      "685:\tlearn: 0.0021552\ttotal: 2.75s\tremaining: 1.26s\n",
      "686:\tlearn: 0.0021552\ttotal: 2.76s\tremaining: 1.26s\n",
      "687:\tlearn: 0.0021552\ttotal: 2.76s\tremaining: 1.25s\n",
      "688:\tlearn: 0.0021552\ttotal: 2.77s\tremaining: 1.25s\n",
      "689:\tlearn: 0.0021552\ttotal: 2.77s\tremaining: 1.24s\n",
      "690:\tlearn: 0.0021551\ttotal: 2.77s\tremaining: 1.24s\n",
      "691:\tlearn: 0.0021551\ttotal: 2.77s\tremaining: 1.24s\n",
      "692:\tlearn: 0.0021551\ttotal: 2.78s\tremaining: 1.23s\n",
      "693:\tlearn: 0.0021551\ttotal: 2.78s\tremaining: 1.23s\n",
      "694:\tlearn: 0.0021551\ttotal: 2.79s\tremaining: 1.22s\n",
      "695:\tlearn: 0.0021551\ttotal: 2.79s\tremaining: 1.22s\n",
      "696:\tlearn: 0.0021551\ttotal: 2.79s\tremaining: 1.21s\n",
      "697:\tlearn: 0.0021551\ttotal: 2.79s\tremaining: 1.21s\n",
      "698:\tlearn: 0.0021551\ttotal: 2.8s\tremaining: 1.21s\n",
      "699:\tlearn: 0.0021551\ttotal: 2.8s\tremaining: 1.2s\n",
      "700:\tlearn: 0.0021551\ttotal: 2.81s\tremaining: 1.2s\n",
      "701:\tlearn: 0.0021551\ttotal: 2.81s\tremaining: 1.19s\n",
      "702:\tlearn: 0.0021551\ttotal: 2.81s\tremaining: 1.19s\n",
      "703:\tlearn: 0.0021550\ttotal: 2.82s\tremaining: 1.19s\n",
      "704:\tlearn: 0.0021550\ttotal: 2.82s\tremaining: 1.18s\n",
      "705:\tlearn: 0.0021550\ttotal: 2.83s\tremaining: 1.18s\n",
      "706:\tlearn: 0.0021550\ttotal: 2.83s\tremaining: 1.17s\n",
      "707:\tlearn: 0.0021550\ttotal: 2.83s\tremaining: 1.17s\n",
      "708:\tlearn: 0.0021550\ttotal: 2.84s\tremaining: 1.17s\n",
      "709:\tlearn: 0.0021550\ttotal: 2.84s\tremaining: 1.16s\n",
      "710:\tlearn: 0.0021550\ttotal: 2.85s\tremaining: 1.16s\n",
      "711:\tlearn: 0.0021550\ttotal: 2.85s\tremaining: 1.15s\n",
      "712:\tlearn: 0.0021550\ttotal: 2.86s\tremaining: 1.15s\n",
      "713:\tlearn: 0.0021550\ttotal: 2.86s\tremaining: 1.15s\n",
      "714:\tlearn: 0.0021550\ttotal: 2.86s\tremaining: 1.14s\n",
      "715:\tlearn: 0.0021550\ttotal: 2.87s\tremaining: 1.14s\n",
      "716:\tlearn: 0.0021550\ttotal: 2.87s\tremaining: 1.13s\n",
      "717:\tlearn: 0.0021550\ttotal: 2.87s\tremaining: 1.13s\n",
      "718:\tlearn: 0.0021550\ttotal: 2.88s\tremaining: 1.12s\n",
      "719:\tlearn: 0.0021550\ttotal: 2.88s\tremaining: 1.12s\n",
      "720:\tlearn: 0.0021550\ttotal: 2.88s\tremaining: 1.12s\n",
      "721:\tlearn: 0.0021550\ttotal: 2.89s\tremaining: 1.11s\n",
      "722:\tlearn: 0.0021550\ttotal: 2.89s\tremaining: 1.11s\n",
      "723:\tlearn: 0.0021550\ttotal: 2.89s\tremaining: 1.1s\n",
      "724:\tlearn: 0.0021550\ttotal: 2.9s\tremaining: 1.1s\n",
      "725:\tlearn: 0.0021550\ttotal: 2.9s\tremaining: 1.09s\n",
      "726:\tlearn: 0.0021550\ttotal: 2.9s\tremaining: 1.09s\n",
      "727:\tlearn: 0.0021550\ttotal: 2.91s\tremaining: 1.09s\n",
      "728:\tlearn: 0.0021550\ttotal: 2.91s\tremaining: 1.08s\n",
      "729:\tlearn: 0.0021550\ttotal: 2.92s\tremaining: 1.08s\n",
      "730:\tlearn: 0.0021550\ttotal: 2.92s\tremaining: 1.07s\n",
      "731:\tlearn: 0.0021550\ttotal: 2.92s\tremaining: 1.07s\n",
      "732:\tlearn: 0.0021550\ttotal: 2.93s\tremaining: 1.07s\n",
      "733:\tlearn: 0.0021550\ttotal: 2.93s\tremaining: 1.06s\n",
      "734:\tlearn: 0.0021550\ttotal: 2.93s\tremaining: 1.06s\n",
      "735:\tlearn: 0.0021550\ttotal: 2.94s\tremaining: 1.05s\n",
      "736:\tlearn: 0.0021550\ttotal: 2.94s\tremaining: 1.05s\n",
      "737:\tlearn: 0.0021549\ttotal: 2.94s\tremaining: 1.04s\n",
      "738:\tlearn: 0.0021549\ttotal: 2.95s\tremaining: 1.04s\n",
      "739:\tlearn: 0.0021549\ttotal: 2.95s\tremaining: 1.04s\n",
      "740:\tlearn: 0.0021549\ttotal: 2.95s\tremaining: 1.03s\n",
      "741:\tlearn: 0.0021549\ttotal: 2.96s\tremaining: 1.03s\n",
      "742:\tlearn: 0.0021549\ttotal: 2.96s\tremaining: 1.02s\n",
      "743:\tlearn: 0.0021549\ttotal: 2.97s\tremaining: 1.02s\n",
      "744:\tlearn: 0.0021549\ttotal: 2.97s\tremaining: 1.02s\n",
      "745:\tlearn: 0.0021549\ttotal: 2.97s\tremaining: 1.01s\n",
      "746:\tlearn: 0.0021549\ttotal: 2.98s\tremaining: 1.01s\n",
      "747:\tlearn: 0.0021549\ttotal: 2.98s\tremaining: 1s\n",
      "748:\tlearn: 0.0021549\ttotal: 2.98s\tremaining: 1s\n",
      "749:\tlearn: 0.0021549\ttotal: 2.99s\tremaining: 996ms\n",
      "750:\tlearn: 0.0021549\ttotal: 2.99s\tremaining: 992ms\n",
      "751:\tlearn: 0.0021549\ttotal: 3s\tremaining: 988ms\n",
      "752:\tlearn: 0.0021549\ttotal: 3s\tremaining: 984ms\n",
      "753:\tlearn: 0.0021549\ttotal: 3s\tremaining: 980ms\n",
      "754:\tlearn: 0.0021549\ttotal: 3.01s\tremaining: 976ms\n",
      "755:\tlearn: 0.0021549\ttotal: 3.01s\tremaining: 972ms\n",
      "756:\tlearn: 0.0021549\ttotal: 3.01s\tremaining: 968ms\n",
      "757:\tlearn: 0.0021549\ttotal: 3.02s\tremaining: 963ms\n",
      "758:\tlearn: 0.0021548\ttotal: 3.02s\tremaining: 959ms\n",
      "759:\tlearn: 0.0021548\ttotal: 3.02s\tremaining: 955ms\n",
      "760:\tlearn: 0.0021548\ttotal: 3.03s\tremaining: 951ms\n",
      "761:\tlearn: 0.0021548\ttotal: 3.03s\tremaining: 947ms\n",
      "762:\tlearn: 0.0021547\ttotal: 3.04s\tremaining: 943ms\n",
      "763:\tlearn: 0.0021547\ttotal: 3.04s\tremaining: 939ms\n",
      "764:\tlearn: 0.0021547\ttotal: 3.04s\tremaining: 935ms\n",
      "765:\tlearn: 0.0021547\ttotal: 3.05s\tremaining: 931ms\n",
      "766:\tlearn: 0.0021547\ttotal: 3.05s\tremaining: 927ms\n",
      "767:\tlearn: 0.0021547\ttotal: 3.05s\tremaining: 923ms\n",
      "768:\tlearn: 0.0021547\ttotal: 3.06s\tremaining: 919ms\n",
      "769:\tlearn: 0.0021547\ttotal: 3.06s\tremaining: 915ms\n",
      "770:\tlearn: 0.0021547\ttotal: 3.07s\tremaining: 911ms\n",
      "771:\tlearn: 0.0021547\ttotal: 3.07s\tremaining: 907ms\n",
      "772:\tlearn: 0.0021547\ttotal: 3.07s\tremaining: 903ms\n",
      "773:\tlearn: 0.0021547\ttotal: 3.08s\tremaining: 899ms\n",
      "774:\tlearn: 0.0021547\ttotal: 3.08s\tremaining: 895ms\n",
      "775:\tlearn: 0.0021547\ttotal: 3.09s\tremaining: 891ms\n",
      "776:\tlearn: 0.0021546\ttotal: 3.09s\tremaining: 888ms\n",
      "777:\tlearn: 0.0021546\ttotal: 3.1s\tremaining: 884ms\n",
      "778:\tlearn: 0.0021546\ttotal: 3.1s\tremaining: 880ms\n",
      "779:\tlearn: 0.0021546\ttotal: 3.11s\tremaining: 876ms\n",
      "780:\tlearn: 0.0021546\ttotal: 3.11s\tremaining: 872ms\n",
      "781:\tlearn: 0.0021546\ttotal: 3.11s\tremaining: 868ms\n",
      "782:\tlearn: 0.0021546\ttotal: 3.12s\tremaining: 865ms\n",
      "783:\tlearn: 0.0021546\ttotal: 3.12s\tremaining: 861ms\n",
      "784:\tlearn: 0.0021546\ttotal: 3.13s\tremaining: 857ms\n",
      "785:\tlearn: 0.0021545\ttotal: 3.13s\tremaining: 853ms\n",
      "786:\tlearn: 0.0021545\ttotal: 3.13s\tremaining: 849ms\n",
      "787:\tlearn: 0.0021545\ttotal: 3.14s\tremaining: 844ms\n",
      "788:\tlearn: 0.0021545\ttotal: 3.14s\tremaining: 840ms\n",
      "789:\tlearn: 0.0021545\ttotal: 3.15s\tremaining: 836ms\n",
      "790:\tlearn: 0.0021545\ttotal: 3.15s\tremaining: 832ms\n",
      "791:\tlearn: 0.0021545\ttotal: 3.15s\tremaining: 828ms\n",
      "792:\tlearn: 0.0021545\ttotal: 3.16s\tremaining: 824ms\n",
      "793:\tlearn: 0.0021545\ttotal: 3.16s\tremaining: 820ms\n",
      "794:\tlearn: 0.0021545\ttotal: 3.16s\tremaining: 816ms\n",
      "795:\tlearn: 0.0021545\ttotal: 3.17s\tremaining: 812ms\n",
      "796:\tlearn: 0.0021545\ttotal: 3.17s\tremaining: 808ms\n",
      "797:\tlearn: 0.0021545\ttotal: 3.17s\tremaining: 804ms\n",
      "798:\tlearn: 0.0021545\ttotal: 3.18s\tremaining: 800ms\n",
      "799:\tlearn: 0.0021545\ttotal: 3.18s\tremaining: 796ms\n",
      "800:\tlearn: 0.0021545\ttotal: 3.19s\tremaining: 792ms\n",
      "801:\tlearn: 0.0021545\ttotal: 3.19s\tremaining: 788ms\n",
      "802:\tlearn: 0.0021545\ttotal: 3.19s\tremaining: 784ms\n",
      "803:\tlearn: 0.0021545\ttotal: 3.2s\tremaining: 780ms\n",
      "804:\tlearn: 0.0021545\ttotal: 3.2s\tremaining: 776ms\n",
      "805:\tlearn: 0.0021545\ttotal: 3.21s\tremaining: 772ms\n",
      "806:\tlearn: 0.0021545\ttotal: 3.21s\tremaining: 768ms\n",
      "807:\tlearn: 0.0021545\ttotal: 3.21s\tremaining: 764ms\n",
      "808:\tlearn: 0.0021545\ttotal: 3.22s\tremaining: 759ms\n",
      "809:\tlearn: 0.0021545\ttotal: 3.22s\tremaining: 755ms\n",
      "810:\tlearn: 0.0021545\ttotal: 3.22s\tremaining: 751ms\n",
      "811:\tlearn: 0.0021545\ttotal: 3.23s\tremaining: 747ms\n",
      "812:\tlearn: 0.0021545\ttotal: 3.23s\tremaining: 743ms\n",
      "813:\tlearn: 0.0021545\ttotal: 3.23s\tremaining: 739ms\n",
      "814:\tlearn: 0.0021545\ttotal: 3.24s\tremaining: 735ms\n",
      "815:\tlearn: 0.0021545\ttotal: 3.24s\tremaining: 731ms\n",
      "816:\tlearn: 0.0021545\ttotal: 3.24s\tremaining: 727ms\n",
      "817:\tlearn: 0.0021545\ttotal: 3.25s\tremaining: 723ms\n",
      "818:\tlearn: 0.0021544\ttotal: 3.25s\tremaining: 718ms\n",
      "819:\tlearn: 0.0021544\ttotal: 3.25s\tremaining: 714ms\n",
      "820:\tlearn: 0.0021544\ttotal: 3.26s\tremaining: 710ms\n",
      "821:\tlearn: 0.0021544\ttotal: 3.26s\tremaining: 706ms\n",
      "822:\tlearn: 0.0021544\ttotal: 3.26s\tremaining: 702ms\n",
      "823:\tlearn: 0.0021544\ttotal: 3.27s\tremaining: 698ms\n",
      "824:\tlearn: 0.0021544\ttotal: 3.27s\tremaining: 694ms\n",
      "825:\tlearn: 0.0021544\ttotal: 3.27s\tremaining: 690ms\n",
      "826:\tlearn: 0.0021544\ttotal: 3.28s\tremaining: 686ms\n",
      "827:\tlearn: 0.0021544\ttotal: 3.28s\tremaining: 682ms\n",
      "828:\tlearn: 0.0021544\ttotal: 3.28s\tremaining: 677ms\n",
      "829:\tlearn: 0.0021544\ttotal: 3.29s\tremaining: 673ms\n",
      "830:\tlearn: 0.0021544\ttotal: 3.29s\tremaining: 669ms\n",
      "831:\tlearn: 0.0021544\ttotal: 3.29s\tremaining: 665ms\n",
      "832:\tlearn: 0.0021544\ttotal: 3.3s\tremaining: 661ms\n",
      "833:\tlearn: 0.0021544\ttotal: 3.3s\tremaining: 657ms\n",
      "834:\tlearn: 0.0021544\ttotal: 3.3s\tremaining: 653ms\n",
      "835:\tlearn: 0.0021544\ttotal: 3.31s\tremaining: 649ms\n",
      "836:\tlearn: 0.0021544\ttotal: 3.31s\tremaining: 645ms\n",
      "837:\tlearn: 0.0021544\ttotal: 3.31s\tremaining: 641ms\n",
      "838:\tlearn: 0.0021544\ttotal: 3.32s\tremaining: 637ms\n",
      "839:\tlearn: 0.0021544\ttotal: 3.32s\tremaining: 633ms\n",
      "840:\tlearn: 0.0021544\ttotal: 3.33s\tremaining: 629ms\n",
      "841:\tlearn: 0.0021544\ttotal: 3.33s\tremaining: 625ms\n",
      "842:\tlearn: 0.0021544\ttotal: 3.33s\tremaining: 621ms\n",
      "843:\tlearn: 0.0021544\ttotal: 3.33s\tremaining: 617ms\n",
      "844:\tlearn: 0.0021544\ttotal: 3.34s\tremaining: 613ms\n",
      "845:\tlearn: 0.0021544\ttotal: 3.34s\tremaining: 609ms\n",
      "846:\tlearn: 0.0021543\ttotal: 3.35s\tremaining: 605ms\n",
      "847:\tlearn: 0.0021543\ttotal: 3.35s\tremaining: 601ms\n",
      "848:\tlearn: 0.0021543\ttotal: 3.35s\tremaining: 597ms\n",
      "849:\tlearn: 0.0021543\ttotal: 3.36s\tremaining: 593ms\n",
      "850:\tlearn: 0.0021543\ttotal: 3.36s\tremaining: 589ms\n",
      "851:\tlearn: 0.0021543\ttotal: 3.37s\tremaining: 585ms\n",
      "852:\tlearn: 0.0021543\ttotal: 3.37s\tremaining: 581ms\n",
      "853:\tlearn: 0.0021543\ttotal: 3.37s\tremaining: 577ms\n",
      "854:\tlearn: 0.0021543\ttotal: 3.38s\tremaining: 573ms\n",
      "855:\tlearn: 0.0021543\ttotal: 3.38s\tremaining: 569ms\n",
      "856:\tlearn: 0.0021543\ttotal: 3.38s\tremaining: 565ms\n",
      "857:\tlearn: 0.0021543\ttotal: 3.39s\tremaining: 561ms\n",
      "858:\tlearn: 0.0021543\ttotal: 3.4s\tremaining: 557ms\n",
      "859:\tlearn: 0.0021543\ttotal: 3.4s\tremaining: 553ms\n",
      "860:\tlearn: 0.0021543\ttotal: 3.4s\tremaining: 549ms\n",
      "861:\tlearn: 0.0021543\ttotal: 3.4s\tremaining: 545ms\n",
      "862:\tlearn: 0.0021543\ttotal: 3.41s\tremaining: 541ms\n",
      "863:\tlearn: 0.0021543\ttotal: 3.41s\tremaining: 537ms\n",
      "864:\tlearn: 0.0021543\ttotal: 3.42s\tremaining: 533ms\n",
      "865:\tlearn: 0.0021543\ttotal: 3.42s\tremaining: 529ms\n",
      "866:\tlearn: 0.0021543\ttotal: 3.42s\tremaining: 525ms\n",
      "867:\tlearn: 0.0021543\ttotal: 3.43s\tremaining: 521ms\n",
      "868:\tlearn: 0.0021543\ttotal: 3.43s\tremaining: 517ms\n",
      "869:\tlearn: 0.0021543\ttotal: 3.43s\tremaining: 513ms\n",
      "870:\tlearn: 0.0021543\ttotal: 3.44s\tremaining: 509ms\n",
      "871:\tlearn: 0.0021543\ttotal: 3.44s\tremaining: 505ms\n",
      "872:\tlearn: 0.0021543\ttotal: 3.44s\tremaining: 501ms\n",
      "873:\tlearn: 0.0021543\ttotal: 3.45s\tremaining: 497ms\n",
      "874:\tlearn: 0.0021543\ttotal: 3.45s\tremaining: 493ms\n",
      "875:\tlearn: 0.0021543\ttotal: 3.45s\tremaining: 489ms\n",
      "876:\tlearn: 0.0021543\ttotal: 3.46s\tremaining: 485ms\n",
      "877:\tlearn: 0.0021543\ttotal: 3.46s\tremaining: 481ms\n",
      "878:\tlearn: 0.0021543\ttotal: 3.46s\tremaining: 477ms\n",
      "879:\tlearn: 0.0021543\ttotal: 3.47s\tremaining: 473ms\n",
      "880:\tlearn: 0.0021543\ttotal: 3.47s\tremaining: 469ms\n",
      "881:\tlearn: 0.0021543\ttotal: 3.48s\tremaining: 465ms\n",
      "882:\tlearn: 0.0021543\ttotal: 3.48s\tremaining: 461ms\n",
      "883:\tlearn: 0.0021543\ttotal: 3.48s\tremaining: 457ms\n",
      "884:\tlearn: 0.0021543\ttotal: 3.48s\tremaining: 453ms\n",
      "885:\tlearn: 0.0021543\ttotal: 3.49s\tremaining: 449ms\n",
      "886:\tlearn: 0.0021543\ttotal: 3.49s\tremaining: 445ms\n",
      "887:\tlearn: 0.0021543\ttotal: 3.5s\tremaining: 441ms\n",
      "888:\tlearn: 0.0021543\ttotal: 3.5s\tremaining: 437ms\n",
      "889:\tlearn: 0.0021543\ttotal: 3.5s\tremaining: 433ms\n",
      "890:\tlearn: 0.0021543\ttotal: 3.5s\tremaining: 429ms\n",
      "891:\tlearn: 0.0021543\ttotal: 3.51s\tremaining: 425ms\n",
      "892:\tlearn: 0.0021543\ttotal: 3.51s\tremaining: 421ms\n",
      "893:\tlearn: 0.0021543\ttotal: 3.52s\tremaining: 417ms\n",
      "894:\tlearn: 0.0021543\ttotal: 3.52s\tremaining: 413ms\n",
      "895:\tlearn: 0.0021543\ttotal: 3.52s\tremaining: 409ms\n",
      "896:\tlearn: 0.0021543\ttotal: 3.53s\tremaining: 405ms\n",
      "897:\tlearn: 0.0021543\ttotal: 3.53s\tremaining: 401ms\n",
      "898:\tlearn: 0.0021543\ttotal: 3.53s\tremaining: 397ms\n",
      "899:\tlearn: 0.0021543\ttotal: 3.54s\tremaining: 393ms\n",
      "900:\tlearn: 0.0021543\ttotal: 3.54s\tremaining: 389ms\n",
      "901:\tlearn: 0.0021543\ttotal: 3.54s\tremaining: 385ms\n",
      "902:\tlearn: 0.0021543\ttotal: 3.55s\tremaining: 381ms\n",
      "903:\tlearn: 0.0021543\ttotal: 3.55s\tremaining: 377ms\n",
      "904:\tlearn: 0.0021543\ttotal: 3.55s\tremaining: 373ms\n",
      "905:\tlearn: 0.0021542\ttotal: 3.56s\tremaining: 369ms\n",
      "906:\tlearn: 0.0021543\ttotal: 3.56s\tremaining: 365ms\n",
      "907:\tlearn: 0.0021542\ttotal: 3.56s\tremaining: 361ms\n",
      "908:\tlearn: 0.0021542\ttotal: 3.57s\tremaining: 357ms\n",
      "909:\tlearn: 0.0021542\ttotal: 3.57s\tremaining: 353ms\n",
      "910:\tlearn: 0.0021542\ttotal: 3.57s\tremaining: 349ms\n",
      "911:\tlearn: 0.0021542\ttotal: 3.58s\tremaining: 345ms\n",
      "912:\tlearn: 0.0021542\ttotal: 3.58s\tremaining: 341ms\n",
      "913:\tlearn: 0.0021542\ttotal: 3.59s\tremaining: 337ms\n",
      "914:\tlearn: 0.0021542\ttotal: 3.59s\tremaining: 333ms\n",
      "915:\tlearn: 0.0021542\ttotal: 3.59s\tremaining: 330ms\n",
      "916:\tlearn: 0.0021542\ttotal: 3.6s\tremaining: 326ms\n",
      "917:\tlearn: 0.0021542\ttotal: 3.6s\tremaining: 322ms\n",
      "918:\tlearn: 0.0021542\ttotal: 3.6s\tremaining: 318ms\n",
      "919:\tlearn: 0.0021542\ttotal: 3.61s\tremaining: 314ms\n",
      "920:\tlearn: 0.0021542\ttotal: 3.61s\tremaining: 310ms\n",
      "921:\tlearn: 0.0021542\ttotal: 3.62s\tremaining: 306ms\n",
      "922:\tlearn: 0.0021542\ttotal: 3.62s\tremaining: 302ms\n",
      "923:\tlearn: 0.0021542\ttotal: 3.62s\tremaining: 298ms\n",
      "924:\tlearn: 0.0021542\ttotal: 3.63s\tremaining: 294ms\n",
      "925:\tlearn: 0.0021542\ttotal: 3.63s\tremaining: 290ms\n",
      "926:\tlearn: 0.0021542\ttotal: 3.63s\tremaining: 286ms\n",
      "927:\tlearn: 0.0021542\ttotal: 3.64s\tremaining: 282ms\n",
      "928:\tlearn: 0.0021542\ttotal: 3.64s\tremaining: 278ms\n",
      "929:\tlearn: 0.0021542\ttotal: 3.65s\tremaining: 274ms\n",
      "930:\tlearn: 0.0021542\ttotal: 3.65s\tremaining: 270ms\n",
      "931:\tlearn: 0.0021542\ttotal: 3.65s\tremaining: 266ms\n",
      "932:\tlearn: 0.0021542\ttotal: 3.65s\tremaining: 263ms\n",
      "933:\tlearn: 0.0021542\ttotal: 3.66s\tremaining: 259ms\n",
      "934:\tlearn: 0.0021542\ttotal: 3.66s\tremaining: 255ms\n",
      "935:\tlearn: 0.0021542\ttotal: 3.67s\tremaining: 251ms\n",
      "936:\tlearn: 0.0021542\ttotal: 3.67s\tremaining: 247ms\n",
      "937:\tlearn: 0.0021541\ttotal: 3.67s\tremaining: 243ms\n",
      "938:\tlearn: 0.0021541\ttotal: 3.68s\tremaining: 239ms\n",
      "939:\tlearn: 0.0021541\ttotal: 3.68s\tremaining: 235ms\n",
      "940:\tlearn: 0.0021541\ttotal: 3.68s\tremaining: 231ms\n",
      "941:\tlearn: 0.0021541\ttotal: 3.69s\tremaining: 227ms\n",
      "942:\tlearn: 0.0021541\ttotal: 3.69s\tremaining: 223ms\n",
      "943:\tlearn: 0.0021540\ttotal: 3.69s\tremaining: 219ms\n",
      "944:\tlearn: 0.0021540\ttotal: 3.7s\tremaining: 215ms\n",
      "945:\tlearn: 0.0021540\ttotal: 3.7s\tremaining: 211ms\n",
      "946:\tlearn: 0.0021540\ttotal: 3.71s\tremaining: 207ms\n",
      "947:\tlearn: 0.0021540\ttotal: 3.71s\tremaining: 203ms\n",
      "948:\tlearn: 0.0021540\ttotal: 3.71s\tremaining: 200ms\n",
      "949:\tlearn: 0.0021540\ttotal: 3.72s\tremaining: 196ms\n",
      "950:\tlearn: 0.0021540\ttotal: 3.72s\tremaining: 192ms\n",
      "951:\tlearn: 0.0021540\ttotal: 3.72s\tremaining: 188ms\n",
      "952:\tlearn: 0.0021540\ttotal: 3.73s\tremaining: 184ms\n",
      "953:\tlearn: 0.0021540\ttotal: 3.73s\tremaining: 180ms\n",
      "954:\tlearn: 0.0021540\ttotal: 3.73s\tremaining: 176ms\n",
      "955:\tlearn: 0.0021540\ttotal: 3.74s\tremaining: 172ms\n",
      "956:\tlearn: 0.0021540\ttotal: 3.74s\tremaining: 168ms\n",
      "957:\tlearn: 0.0021540\ttotal: 3.74s\tremaining: 164ms\n",
      "958:\tlearn: 0.0021540\ttotal: 3.75s\tremaining: 160ms\n",
      "959:\tlearn: 0.0021540\ttotal: 3.75s\tremaining: 156ms\n",
      "960:\tlearn: 0.0021540\ttotal: 3.75s\tremaining: 152ms\n",
      "961:\tlearn: 0.0021540\ttotal: 3.76s\tremaining: 148ms\n",
      "962:\tlearn: 0.0021540\ttotal: 3.76s\tremaining: 144ms\n",
      "963:\tlearn: 0.0021539\ttotal: 3.76s\tremaining: 141ms\n",
      "964:\tlearn: 0.0021539\ttotal: 3.77s\tremaining: 137ms\n",
      "965:\tlearn: 0.0021539\ttotal: 3.77s\tremaining: 133ms\n",
      "966:\tlearn: 0.0021539\ttotal: 3.77s\tremaining: 129ms\n",
      "967:\tlearn: 0.0021539\ttotal: 3.78s\tremaining: 125ms\n",
      "968:\tlearn: 0.0021539\ttotal: 3.78s\tremaining: 121ms\n",
      "969:\tlearn: 0.0021539\ttotal: 3.78s\tremaining: 117ms\n",
      "970:\tlearn: 0.0021539\ttotal: 3.79s\tremaining: 113ms\n",
      "971:\tlearn: 0.0021539\ttotal: 3.79s\tremaining: 109ms\n",
      "972:\tlearn: 0.0021539\ttotal: 3.79s\tremaining: 105ms\n",
      "973:\tlearn: 0.0021539\ttotal: 3.8s\tremaining: 101ms\n",
      "974:\tlearn: 0.0021539\ttotal: 3.8s\tremaining: 97.5ms\n",
      "975:\tlearn: 0.0021539\ttotal: 3.8s\tremaining: 93.6ms\n",
      "976:\tlearn: 0.0021539\ttotal: 3.81s\tremaining: 89.7ms\n",
      "977:\tlearn: 0.0021538\ttotal: 3.81s\tremaining: 85.8ms\n",
      "978:\tlearn: 0.0021538\ttotal: 3.82s\tremaining: 81.9ms\n",
      "979:\tlearn: 0.0021538\ttotal: 3.82s\tremaining: 78ms\n",
      "980:\tlearn: 0.0021538\ttotal: 3.82s\tremaining: 74.1ms\n",
      "981:\tlearn: 0.0021538\ttotal: 3.83s\tremaining: 70.2ms\n",
      "982:\tlearn: 0.0021538\ttotal: 3.83s\tremaining: 66.3ms\n",
      "983:\tlearn: 0.0021538\ttotal: 3.83s\tremaining: 62.4ms\n",
      "984:\tlearn: 0.0021538\ttotal: 3.84s\tremaining: 58.5ms\n",
      "985:\tlearn: 0.0021538\ttotal: 3.84s\tremaining: 54.6ms\n",
      "986:\tlearn: 0.0021538\ttotal: 3.85s\tremaining: 50.7ms\n",
      "987:\tlearn: 0.0021538\ttotal: 3.85s\tremaining: 46.8ms\n",
      "988:\tlearn: 0.0021538\ttotal: 3.85s\tremaining: 42.9ms\n",
      "989:\tlearn: 0.0021537\ttotal: 3.86s\tremaining: 39ms\n",
      "990:\tlearn: 0.0021537\ttotal: 3.86s\tremaining: 35.1ms\n",
      "991:\tlearn: 0.0021537\ttotal: 3.87s\tremaining: 31.2ms\n",
      "992:\tlearn: 0.0021537\ttotal: 3.87s\tremaining: 27.3ms\n",
      "993:\tlearn: 0.0021537\ttotal: 3.87s\tremaining: 23.4ms\n",
      "994:\tlearn: 0.0021537\ttotal: 3.88s\tremaining: 19.5ms\n",
      "995:\tlearn: 0.0021537\ttotal: 3.88s\tremaining: 15.6ms\n",
      "996:\tlearn: 0.0021537\ttotal: 3.89s\tremaining: 11.7ms\n",
      "997:\tlearn: 0.0021537\ttotal: 3.89s\tremaining: 7.8ms\n",
      "998:\tlearn: 0.0021537\ttotal: 3.89s\tremaining: 3.9ms\n",
      "999:\tlearn: 0.0021537\ttotal: 3.9s\tremaining: 0us\n",
      "CPU times: user 7.57 s, sys: 4.24 s, total: 11.8 s\n",
      "Wall time: 4.07 s\n"
     ]
    },
    {
     "data": {
      "text/plain": "<catboost.core.CatBoostClassifier at 0x2812a3550>"
     },
     "execution_count": 34,
     "metadata": {},
     "output_type": "execute_result"
    }
   ],
   "source": [
    "%%time\n",
    "# xgb = XGBClassifier(subsample=0.8,\n",
    "#                     min_child_weight=1,\n",
    "#                     max_depth=14,\n",
    "#                     gamma=1,\n",
    "#                     colsample_bytree=0.8)\n",
    "xgb = CatBoostClassifier()\n",
    "xgb.fit(X_train, y_train)"
   ],
   "metadata": {
    "collapsed": false,
    "pycharm": {
     "name": "#%%\n"
    }
   }
  },
  {
   "cell_type": "code",
   "execution_count": 35,
   "outputs": [],
   "source": [
    "pred = xgb.predict(X_test)\n",
    "pred_ = pd.Series(model2.predict(X_test))\n",
    "pred__ = pd.Series(model3.predict(X_test))"
   ],
   "metadata": {
    "collapsed": false,
    "pycharm": {
     "name": "#%%\n"
    }
   }
  },
  {
   "cell_type": "code",
   "execution_count": 36,
   "outputs": [
    {
     "data": {
      "text/plain": "0    0.0\n1    0.0\n2    1.0\n3    0.0\n4    0.0\ndtype: float64"
     },
     "execution_count": 36,
     "metadata": {},
     "output_type": "execute_result"
    }
   ],
   "source": [
    "pred__.head()"
   ],
   "metadata": {
    "collapsed": false,
    "pycharm": {
     "name": "#%%\n"
    }
   }
  },
  {
   "cell_type": "code",
   "execution_count": 37,
   "outputs": [
    {
     "data": {
      "text/plain": "(0.9981689216841635, 0.999366087087813, 0.997639073573955)"
     },
     "execution_count": 37,
     "metadata": {},
     "output_type": "execute_result"
    }
   ],
   "source": [
    "roc_auc_score(y_test, pred), roc_auc_score(y_test, pred_), roc_auc_score(y_test, pred__)"
   ],
   "metadata": {
    "collapsed": false,
    "pycharm": {
     "name": "#%%\n"
    }
   }
  },
  {
   "cell_type": "code",
   "execution_count": 38,
   "outputs": [
    {
     "data": {
      "text/plain": "pandas.core.series.Series"
     },
     "execution_count": 38,
     "metadata": {},
     "output_type": "execute_result"
    }
   ],
   "source": [
    "type(y_test)"
   ],
   "metadata": {
    "collapsed": false,
    "pycharm": {
     "name": "#%%\n"
    }
   }
  },
  {
   "cell_type": "code",
   "execution_count": 39,
   "outputs": [],
   "source": [
    "custom_model = D1ffic00ltLinearRegression()\n",
    "custom_model.set_x_test(X)\n",
    "custom_model.set_y_true(y)\n",
    "best_score = {}\n",
    "for i in range(-500, 500):\n",
    "    best_score[i] = custom_model.fit_with_l2(X, y, L=i, predict=True)"
   ],
   "metadata": {
    "collapsed": false,
    "pycharm": {
     "name": "#%%\n"
    }
   }
  },
  {
   "cell_type": "code",
   "execution_count": 41,
   "outputs": [
    {
     "data": {
      "text/plain": "(-2, 0.9996732085353083)"
     },
     "execution_count": 41,
     "metadata": {},
     "output_type": "execute_result"
    }
   ],
   "source": [
    "max_l = max(best_score, key=lambda x: best_score[x])\n",
    "max_l, best_score[max_l]"
   ],
   "metadata": {
    "collapsed": false,
    "pycharm": {
     "name": "#%%\n"
    }
   }
  },
  {
   "cell_type": "code",
   "execution_count": 42,
   "outputs": [
    {
     "data": {
      "text/plain": "(True, 0.9993812136000791, 0.999366087087813)"
     },
     "execution_count": 42,
     "metadata": {},
     "output_type": "execute_result"
    }
   ],
   "source": [
    "model = D1ffic00ltLinearRegression()\n",
    "model.fit_with_l2(X, y, L=-2)\n",
    "y_pred = model.predict(X_test)\n",
    "model2 = LinearRegression()\n",
    "model2.fit(X, y)\n",
    "y_pred2 = model2.predict(X_test)\n",
    "# custom_model.fit_with_l2(X_train, y_train, L=-14)\n",
    "roc_auc_score(y_test, y_pred) > roc_auc_score(y_test, y_pred2), \\\n",
    "roc_auc_score(y_test, y_pred), roc_auc_score(y_test, y_pred2)"
   ],
   "metadata": {
    "collapsed": false,
    "pycharm": {
     "name": "#%%\n"
    }
   }
  },
  {
   "cell_type": "code",
   "execution_count": 43,
   "outputs": [],
   "source": [
    "data_ = pd.read_csv(\"files/predict.csv\")"
   ],
   "metadata": {
    "collapsed": false,
    "pycharm": {
     "name": "#%%\n"
    }
   }
  },
  {
   "cell_type": "code",
   "execution_count": 44,
   "outputs": [],
   "source": [
    "data_test = data_.copy()"
   ],
   "metadata": {
    "collapsed": false,
    "pycharm": {
     "name": "#%%\n"
    }
   }
  },
  {
   "cell_type": "code",
   "execution_count": 45,
   "outputs": [],
   "source": [
    "Ms = 3.86 * 10 ** 33\n",
    "data_test[\"temp\"] = data_test[\"B-V\"].apply(color_index)\n",
    "# data_test[\"R\"] = np.sqrt(data_test.Vmag) / np.power(data_test.temp / 5778, 2)\n",
    "# data_test[\"M\"] = data_test.Vmag + 5 - (5 * np.log(data_test.Plx))\n",
    "# data_test[\"L\"] = np.power(data_test.R, 2) * np.power(data_test.temp / 5778, 4)"
   ],
   "metadata": {
    "collapsed": false,
    "pycharm": {
     "name": "#%%\n"
    }
   }
  },
  {
   "cell_type": "code",
   "execution_count": 46,
   "outputs": [
    {
     "data": {
      "text/plain": "False"
     },
     "execution_count": 46,
     "metadata": {},
     "output_type": "execute_result"
    }
   ],
   "source": [
    "list(data.columns) == list(data_test.columns)"
   ],
   "metadata": {
    "collapsed": false,
    "pycharm": {
     "name": "#%%\n"
    }
   }
  },
  {
   "cell_type": "code",
   "execution_count": 47,
   "outputs": [
    {
     "data": {
      "text/plain": "Index(['Vmag', 'Plx', 'e_Plx', 'B-V', 'SpType', 'Amag', 'TargetClass', 'temp'], dtype='object')"
     },
     "execution_count": 47,
     "metadata": {},
     "output_type": "execute_result"
    }
   ],
   "source": [
    "data.columns"
   ],
   "metadata": {
    "collapsed": false,
    "pycharm": {
     "name": "#%%\n"
    }
   }
  },
  {
   "cell_type": "code",
   "execution_count": 48,
   "outputs": [
    {
     "data": {
      "text/plain": "Index(['Vmag', 'Plx', 'e_Plx', 'B-V', 'SpType', 'Amag', 'temp'], dtype='object')"
     },
     "execution_count": 48,
     "metadata": {},
     "output_type": "execute_result"
    }
   ],
   "source": [
    "data_test.columns"
   ],
   "metadata": {
    "collapsed": false,
    "pycharm": {
     "name": "#%%\n"
    }
   }
  },
  {
   "cell_type": "code",
   "execution_count": 49,
   "outputs": [
    {
     "data": {
      "text/plain": "       Vmag        Plx     e_Plx       B-V       SpType       Amag  \\\n0  4.039519  13.596504  0.845101 -0.097823      F5V+...  15.774122   \n1  6.655719   4.010332  1.050017  1.386670        K5III  15.344976   \n2  6.405060   0.348855  0.961598  0.951503       B0IVpe  12.236103   \n3  9.113068   2.954461  1.251422  1.002819        K1III  15.560838   \n4  6.107686   3.144180  0.475795  0.493345  G8II-IIIvar  12.771981   \n\n           temp  \n0  11536.343340  \n1   3972.332732  \n2   4862.277063  \n3   4735.981168  \n4   6419.225528  ",
      "text/html": "<div>\n<style scoped>\n    .dataframe tbody tr th:only-of-type {\n        vertical-align: middle;\n    }\n\n    .dataframe tbody tr th {\n        vertical-align: top;\n    }\n\n    .dataframe thead th {\n        text-align: right;\n    }\n</style>\n<table border=\"1\" class=\"dataframe\">\n  <thead>\n    <tr style=\"text-align: right;\">\n      <th></th>\n      <th>Vmag</th>\n      <th>Plx</th>\n      <th>e_Plx</th>\n      <th>B-V</th>\n      <th>SpType</th>\n      <th>Amag</th>\n      <th>temp</th>\n    </tr>\n  </thead>\n  <tbody>\n    <tr>\n      <th>0</th>\n      <td>4.039519</td>\n      <td>13.596504</td>\n      <td>0.845101</td>\n      <td>-0.097823</td>\n      <td>F5V+...</td>\n      <td>15.774122</td>\n      <td>11536.343340</td>\n    </tr>\n    <tr>\n      <th>1</th>\n      <td>6.655719</td>\n      <td>4.010332</td>\n      <td>1.050017</td>\n      <td>1.386670</td>\n      <td>K5III</td>\n      <td>15.344976</td>\n      <td>3972.332732</td>\n    </tr>\n    <tr>\n      <th>2</th>\n      <td>6.405060</td>\n      <td>0.348855</td>\n      <td>0.961598</td>\n      <td>0.951503</td>\n      <td>B0IVpe</td>\n      <td>12.236103</td>\n      <td>4862.277063</td>\n    </tr>\n    <tr>\n      <th>3</th>\n      <td>9.113068</td>\n      <td>2.954461</td>\n      <td>1.251422</td>\n      <td>1.002819</td>\n      <td>K1III</td>\n      <td>15.560838</td>\n      <td>4735.981168</td>\n    </tr>\n    <tr>\n      <th>4</th>\n      <td>6.107686</td>\n      <td>3.144180</td>\n      <td>0.475795</td>\n      <td>0.493345</td>\n      <td>G8II-IIIvar</td>\n      <td>12.771981</td>\n      <td>6419.225528</td>\n    </tr>\n  </tbody>\n</table>\n</div>"
     },
     "execution_count": 49,
     "metadata": {},
     "output_type": "execute_result"
    }
   ],
   "source": [
    "data_test.head()"
   ],
   "metadata": {
    "collapsed": false,
    "pycharm": {
     "name": "#%%\n"
    }
   }
  },
  {
   "cell_type": "code",
   "execution_count": 50,
   "outputs": [],
   "source": [
    "data_test.SpType = data_test.SpType.apply(transform_type)"
   ],
   "metadata": {
    "collapsed": false,
    "pycharm": {
     "name": "#%%\n"
    }
   }
  },
  {
   "cell_type": "code",
   "execution_count": 51,
   "outputs": [],
   "source": [
    "data_test[:] = MinMaxScaler().fit_transform(data_test)"
   ],
   "metadata": {
    "collapsed": false,
    "pycharm": {
     "name": "#%%\n"
    }
   }
  },
  {
   "cell_type": "code",
   "execution_count": 52,
   "outputs": [
    {
     "data": {
      "text/plain": "pandas.core.frame.DataFrame"
     },
     "execution_count": 52,
     "metadata": {},
     "output_type": "execute_result"
    }
   ],
   "source": [
    "type(data_test)"
   ],
   "metadata": {
    "collapsed": false,
    "pycharm": {
     "name": "#%%\n"
    }
   }
  },
  {
   "cell_type": "code",
   "execution_count": 53,
   "outputs": [],
   "source": [
    "pred = model.predict(data_test.values)"
   ],
   "metadata": {
    "collapsed": false,
    "pycharm": {
     "name": "#%%\n"
    }
   }
  },
  {
   "cell_type": "code",
   "execution_count": 54,
   "outputs": [],
   "source": [
    "# pred =[check(i) for i in data_test.M]"
   ],
   "metadata": {
    "collapsed": false,
    "pycharm": {
     "name": "#%%\n"
    }
   }
  },
  {
   "cell_type": "code",
   "execution_count": 55,
   "outputs": [],
   "source": [
    "data_[\"TargetClass\"] = pred"
   ],
   "metadata": {
    "collapsed": false,
    "pycharm": {
     "name": "#%%\n"
    }
   }
  },
  {
   "cell_type": "code",
   "execution_count": 58,
   "outputs": [
    {
     "data": {
      "text/plain": "       Vmag        Plx     e_Plx       B-V       SpType       Amag  \\\n0  4.039519  13.596504  0.845101 -0.097823      F5V+...  15.774122   \n1  6.655719   4.010332  1.050017  1.386670        K5III  15.344976   \n2  6.405060   0.348855  0.961598  0.951503       B0IVpe  12.236103   \n3  9.113068   2.954461  1.251422  1.002819        K1III  15.560838   \n4  6.107686   3.144180  0.475795  0.493345  G8II-IIIvar  12.771981   \n\n   TargetClass  \n0     0.997491  \n1    -0.002168  \n2     0.992970  \n3     0.001905  \n4     0.002115  ",
      "text/html": "<div>\n<style scoped>\n    .dataframe tbody tr th:only-of-type {\n        vertical-align: middle;\n    }\n\n    .dataframe tbody tr th {\n        vertical-align: top;\n    }\n\n    .dataframe thead th {\n        text-align: right;\n    }\n</style>\n<table border=\"1\" class=\"dataframe\">\n  <thead>\n    <tr style=\"text-align: right;\">\n      <th></th>\n      <th>Vmag</th>\n      <th>Plx</th>\n      <th>e_Plx</th>\n      <th>B-V</th>\n      <th>SpType</th>\n      <th>Amag</th>\n      <th>TargetClass</th>\n    </tr>\n  </thead>\n  <tbody>\n    <tr>\n      <th>0</th>\n      <td>4.039519</td>\n      <td>13.596504</td>\n      <td>0.845101</td>\n      <td>-0.097823</td>\n      <td>F5V+...</td>\n      <td>15.774122</td>\n      <td>0.997491</td>\n    </tr>\n    <tr>\n      <th>1</th>\n      <td>6.655719</td>\n      <td>4.010332</td>\n      <td>1.050017</td>\n      <td>1.386670</td>\n      <td>K5III</td>\n      <td>15.344976</td>\n      <td>-0.002168</td>\n    </tr>\n    <tr>\n      <th>2</th>\n      <td>6.405060</td>\n      <td>0.348855</td>\n      <td>0.961598</td>\n      <td>0.951503</td>\n      <td>B0IVpe</td>\n      <td>12.236103</td>\n      <td>0.992970</td>\n    </tr>\n    <tr>\n      <th>3</th>\n      <td>9.113068</td>\n      <td>2.954461</td>\n      <td>1.251422</td>\n      <td>1.002819</td>\n      <td>K1III</td>\n      <td>15.560838</td>\n      <td>0.001905</td>\n    </tr>\n    <tr>\n      <th>4</th>\n      <td>6.107686</td>\n      <td>3.144180</td>\n      <td>0.475795</td>\n      <td>0.493345</td>\n      <td>G8II-IIIvar</td>\n      <td>12.771981</td>\n      <td>0.002115</td>\n    </tr>\n  </tbody>\n</table>\n</div>"
     },
     "execution_count": 58,
     "metadata": {},
     "output_type": "execute_result"
    }
   ],
   "source": [
    "data_.head()"
   ],
   "metadata": {
    "collapsed": false,
    "pycharm": {
     "name": "#%%\n"
    }
   }
  },
  {
   "cell_type": "code",
   "execution_count": 57,
   "outputs": [],
   "source": [
    "data_.to_csv(\"files/answer.csv\")"
   ],
   "metadata": {
    "collapsed": false,
    "pycharm": {
     "name": "#%%\n"
    }
   }
  }
 ],
 "metadata": {
  "kernelspec": {
   "display_name": "Python 3",
   "language": "python",
   "name": "python3"
  },
  "language_info": {
   "codemirror_mode": {
    "name": "ipython",
    "version": 2
   },
   "file_extension": ".py",
   "mimetype": "text/x-python",
   "name": "python",
   "nbconvert_exporter": "python",
   "pygments_lexer": "ipython2",
   "version": "2.7.6"
  }
 },
 "nbformat": 4,
 "nbformat_minor": 0
}